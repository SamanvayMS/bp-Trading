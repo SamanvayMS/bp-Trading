{
 "cells": [
  {
   "attachments": {},
   "cell_type": "markdown",
   "metadata": {},
   "source": [
    "# Group 3 Runs without std consideration"
   ]
  },
  {
   "cell_type": "code",
   "execution_count": 1,
   "metadata": {},
   "outputs": [],
   "source": [
    "from GA_optimiser import *\n",
    "import os"
   ]
  },
  {
   "cell_type": "code",
   "execution_count": 2,
   "metadata": {},
   "outputs": [
    {
     "name": "stdout",
     "output_type": "stream",
     "text": [
      "number of grid params:- 18.0\n",
      "number of lot params:- 19.0\n",
      "number of I_type params:- 2\n",
      "number of lookback params:- 7\n",
      "number of scaling_factor params:- 8.0\n",
      "total_number_of_combinations:- 38304.0\n"
     ]
    }
   ],
   "source": [
    "grid_params = [0.001,0.01,0.0005]\n",
    "lot_params = [100000,2000000,100000]\n",
    "I_type = ['v','a']\n",
    "lookback_params = [9,20,30,50,100,150,200]\n",
    "scaling_factor_params = [1,5,0.5]\n",
    "\n",
    "n_grid_params = ((grid_params[1]-grid_params[0])/grid_params[2])\n",
    "n_lot_params = ((lot_params[1]-lot_params[0])/lot_params[2])\n",
    "n_I_type_params = len(I_type)\n",
    "n_lookback_params = len(lookback_params)\n",
    "n_scaling_factor_params = ((scaling_factor_params[1]-scaling_factor_params[0])/scaling_factor_params[2])\n",
    "print('number of grid params:-',(n_grid_params))\n",
    "print('number of lot params:-',(n_lot_params))\n",
    "print('number of I_type params:-',(n_I_type_params))\n",
    "print('number of lookback params:-',(n_lookback_params))\n",
    "print('number of scaling_factor params:-',(n_scaling_factor_params))\n",
    "print('total_number_of_combinations:-',(n_grid_params*n_lot_params*n_I_type_params*n_lookback_params*n_scaling_factor_params))\n",
    "\n",
    "parameters = [grid_params,lot_params,I_type,lookback_params,scaling_factor_params]\n",
    "\n",
    "# Adjust these parameter according to search space\n",
    "n_trials = 50 #NGEN\n",
    "npop = 100\n",
    "early_stopping_gen = n_trials # no early stopping\n",
    "optimizer_param = [n_trials, npop, early_stopping_gen]"
   ]
  },
  {
   "cell_type": "code",
   "execution_count": 3,
   "metadata": {},
   "outputs": [
    {
     "name": "stdout",
     "output_type": "stream",
     "text": [
      "Data gathered for training period:  01 Jan 2013 31 Dec 2013\n",
      "Data gathered for testing period:  01 Jan 2014 31 Jan 2014\n",
      "optimisation completed\n",
      "Optimal parameters are:  [0.0065, 1500000, 'a', 100, 1.5]\n",
      "Data gathered for training period:  01 Feb 2013 31 Jan 2014\n",
      "Data gathered for testing period:  01 Feb 2014 28 Feb 2014\n",
      "optimisation completed\n",
      "Optimal parameters are:  [0.0095, 2000000, 'a', 9, 1.5]\n",
      "Data gathered for training period:  01 Mar 2013 28 Feb 2014\n",
      "Data gathered for testing period:  01 Mar 2014 31 Mar 2014\n",
      "optimisation completed\n",
      "Optimal parameters are:  [0.008, 2000000, 'v', 200, 1.5]\n",
      "Data gathered for training period:  01 Apr 2013 31 Mar 2014\n",
      "Data gathered for testing period:  01 Apr 2014 30 Apr 2014\n",
      "optimisation completed\n",
      "Optimal parameters are:  [0.008, 1700000, 'v', 150, 2.5]\n",
      "Data gathered for training period:  01 May 2013 30 Apr 2014\n",
      "Data gathered for testing period:  01 May 2014 31 May 2014\n",
      "optimisation completed\n",
      "Optimal parameters are:  [0.0085, 2000000, 'a', 150, 5.0]\n",
      "Data gathered for training period:  01 Jun 2013 31 May 2014\n",
      "Data gathered for testing period:  01 Jun 2014 30 Jun 2014\n",
      "optimisation completed\n",
      "Optimal parameters are:  [0.008, 2000000, 'a', 200, 4.5]\n",
      "Data gathered for training period:  01 Jul 2013 30 Jun 2014\n",
      "Data gathered for testing period:  01 Jul 2014 31 Jul 2014\n",
      "optimisation completed\n",
      "Optimal parameters are:  [0.0075, 2000000, 'a', 50, 2.0]\n",
      "Data gathered for training period:  01 Aug 2013 31 Jul 2014\n",
      "Data gathered for testing period:  01 Aug 2014 31 Aug 2014\n",
      "optimisation completed\n",
      "Optimal parameters are:  [0.01, 2000000, 'v', 150, 2.0]\n",
      "Data gathered for training period:  01 Sep 2013 31 Aug 2014\n",
      "Data gathered for testing period:  01 Sep 2014 30 Sep 2014\n",
      "optimisation completed\n",
      "Optimal parameters are:  [0.007, 2000000, 'a', 50, 1.0]\n",
      "Data gathered for training period:  01 Oct 2013 30 Sep 2014\n",
      "Data gathered for testing period:  01 Oct 2014 31 Oct 2014\n",
      "optimisation completed\n",
      "Optimal parameters are:  [0.0075, 1900000, 'v', 20, 1.5]\n",
      "Data gathered for training period:  01 Nov 2013 31 Oct 2014\n",
      "Data gathered for testing period:  01 Nov 2014 30 Nov 2014\n",
      "optimisation completed\n",
      "Optimal parameters are:  [0.0045, 1900000, 'v', 9, 3.5]\n",
      "Data gathered for training period:  01 Dec 2013 30 Nov 2014\n",
      "Data gathered for testing period:  01 Dec 2014 31 Dec 2014\n"
     ]
    },
    {
     "ename": "KeyboardInterrupt",
     "evalue": "",
     "output_type": "error",
     "traceback": [
      "\u001b[0;31m---------------------------------------------------------------------------\u001b[0m",
      "\u001b[0;31mKeyboardInterrupt\u001b[0m                         Traceback (most recent call last)",
      "Cell \u001b[0;32mIn[3], line 1\u001b[0m\n\u001b[0;32m----> 1\u001b[0m gen_results(\u001b[39m'\u001b[39;49m\u001b[39mjan 2014\u001b[39;49m\u001b[39m'\u001b[39;49m,\u001b[39m'\u001b[39;49m\u001b[39mjan 2022\u001b[39;49m\u001b[39m'\u001b[39;49m,\u001b[39m12\u001b[39;49m,\u001b[39m1\u001b[39;49m,optimiser\u001b[39m=\u001b[39;49mdeap_optimiser_indicator_std,parameters\u001b[39m=\u001b[39;49mparameters,optimizer_param\u001b[39m=\u001b[39;49moptimizer_param)\n\u001b[1;32m      2\u001b[0m gen_results(\u001b[39m'\u001b[39m\u001b[39mjan 2014\u001b[39m\u001b[39m'\u001b[39m,\u001b[39m'\u001b[39m\u001b[39mjan 2022\u001b[39m\u001b[39m'\u001b[39m,\u001b[39m6\u001b[39m,\u001b[39m1\u001b[39m,optimiser\u001b[39m=\u001b[39mdeap_optimiser_indicator_std,parameters\u001b[39m=\u001b[39mparameters,optimizer_param\u001b[39m=\u001b[39moptimizer_param)\n\u001b[1;32m      3\u001b[0m gen_results(\u001b[39m'\u001b[39m\u001b[39mjan 2014\u001b[39m\u001b[39m'\u001b[39m,\u001b[39m'\u001b[39m\u001b[39mjan 2022\u001b[39m\u001b[39m'\u001b[39m,\u001b[39m3\u001b[39m,\u001b[39m1\u001b[39m,optimiser\u001b[39m=\u001b[39mdeap_optimiser_indicator_std,parameters\u001b[39m=\u001b[39mparameters,optimizer_param\u001b[39m=\u001b[39moptimizer_param)\n",
      "File \u001b[0;32m~/Desktop/Desktop - Samanvay’s MacBook Pro/Sem 3/bp-Trading/GA_optimiser.py:598\u001b[0m, in \u001b[0;36mgen_results\u001b[0;34m(start, end, train_length, test_length, currency_pair, optimiser, parameters, optimizer_param)\u001b[0m\n\u001b[1;32m    594\u001b[0m \u001b[39mif\u001b[39;00m \u001b[39mnot\u001b[39;00m os\u001b[39m.\u001b[39mpath\u001b[39m.\u001b[39mexists(folder_path):\n\u001b[1;32m    595\u001b[0m     \u001b[39m# If the folder does not exist, create it\u001b[39;00m\n\u001b[1;32m    596\u001b[0m     os\u001b[39m.\u001b[39mmakedirs(folder_path)\n\u001b[0;32m--> 598\u001b[0m test_df,train_df,optimal_df \u001b[39m=\u001b[39m walk_forward_analysis(start,end,\u001b[39m1\u001b[39;49m,parameters,optimiser,optimizer_param,train_length,test_length)\n\u001b[1;32m    599\u001b[0m test_path \u001b[39m=\u001b[39m full_path \u001b[39m+\u001b[39m \u001b[39m'\u001b[39m\u001b[39m-test.csv\u001b[39m\u001b[39m'\u001b[39m\n\u001b[1;32m    600\u001b[0m train_path \u001b[39m=\u001b[39m full_path \u001b[39m+\u001b[39m \u001b[39m'\u001b[39m\u001b[39m-train.csv\u001b[39m\u001b[39m'\u001b[39m\n",
      "File \u001b[0;32m~/Desktop/Desktop - Samanvay’s MacBook Pro/Sem 3/bp-Trading/GA_optimiser.py:65\u001b[0m, in \u001b[0;36mwalk_forward_analysis\u001b[0;34m(evaluation_start, evaluation_end, evaluation_day, parameters, optimization_function, optimizer_params, lookback_in_months, evaluation_period)\u001b[0m\n\u001b[1;32m     63\u001b[0m test_data \u001b[39m=\u001b[39m data_gather_from_files(dates[\u001b[39m0\u001b[39m],dates[\u001b[39m1\u001b[39m])[\u001b[39m'\u001b[39m\u001b[39mEURUSD.mid\u001b[39m\u001b[39m'\u001b[39m]\n\u001b[1;32m     64\u001b[0m \u001b[39mprint\u001b[39m(\u001b[39m'\u001b[39m\u001b[39mData gathered for testing period: \u001b[39m\u001b[39m'\u001b[39m,dates[\u001b[39m0\u001b[39m],dates[\u001b[39m1\u001b[39m])\n\u001b[0;32m---> 65\u001b[0m test_values,train_values,optimal_params \u001b[39m=\u001b[39m optimization_function(train_data,test_data,parameters,optimizer_params)\n\u001b[1;32m     66\u001b[0m \u001b[39mprint\u001b[39m(\u001b[39m'\u001b[39m\u001b[39mOptimal parameters are: \u001b[39m\u001b[39m'\u001b[39m,optimal_params)\n\u001b[1;32m     67\u001b[0m test_df[dates[\u001b[39m0\u001b[39m] \u001b[39m+\u001b[39m\u001b[39m'\u001b[39m\u001b[39m-\u001b[39m\u001b[39m'\u001b[39m\u001b[39m+\u001b[39m dates[\u001b[39m1\u001b[39m]] \u001b[39m=\u001b[39m test_values\n",
      "File \u001b[0;32m~/Desktop/Desktop - Samanvay’s MacBook Pro/Sem 3/bp-Trading/GA_optimiser.py:548\u001b[0m, in \u001b[0;36mdeap_optimiser_indicator_std\u001b[0;34m(train_data, test_data, parameters, optimization_params)\u001b[0m\n\u001b[1;32m    545\u001b[0m         toolbox\u001b[39m.\u001b[39mmutate(mutant)\n\u001b[1;32m    546\u001b[0m         \u001b[39mdel\u001b[39;00m mutant\u001b[39m.\u001b[39mfitness\u001b[39m.\u001b[39mvalues\n\u001b[0;32m--> 548\u001b[0m fitnesses \u001b[39m=\u001b[39m \u001b[39mlist\u001b[39m(\u001b[39mmap\u001b[39m(toolbox\u001b[39m.\u001b[39mevaluate, offspring))\n\u001b[1;32m    549\u001b[0m \u001b[39mfor\u001b[39;00m ind, fit \u001b[39min\u001b[39;00m \u001b[39mzip\u001b[39m(offspring, fitnesses):\n\u001b[1;32m    550\u001b[0m     ind\u001b[39m.\u001b[39mfitness\u001b[39m.\u001b[39mvalues \u001b[39m=\u001b[39m fit\n",
      "File \u001b[0;32m~/Desktop/Desktop - Samanvay’s MacBook Pro/Sem 3/bp-Trading/GA_optimiser.py:505\u001b[0m, in \u001b[0;36mdeap_optimiser_indicator_std.<locals>.objective\u001b[0;34m(individual)\u001b[0m\n\u001b[1;32m    502\u001b[0m \u001b[39mdef\u001b[39;00m \u001b[39mobjective\u001b[39m(individual):\n\u001b[1;32m    503\u001b[0m     G, n, indicator_type, lookback, scaling_factor \u001b[39m=\u001b[39m individual[\u001b[39m0\u001b[39m]\u001b[39m*\u001b[39mgrid_params[\u001b[39m2\u001b[39m], individual[\u001b[39m1\u001b[39m]\u001b[39m*\u001b[39mposition_params[\u001b[39m2\u001b[39m], individual[\u001b[39m2\u001b[39m], individual[\u001b[39m3\u001b[39m], individual[\u001b[39m4\u001b[39m]\u001b[39m*\u001b[39mscaling_factor_params[\u001b[39m2\u001b[39m]\n\u001b[0;32m--> 505\u001b[0m     max_loss, R_PNL, profit, std \u001b[39m=\u001b[39m run_strategy_optimised(train_data, G, n, indicator_type \u001b[39m=\u001b[39;49m indicator_type, lookback \u001b[39m=\u001b[39;49m lookback, indicator_scale \u001b[39m=\u001b[39;49m scaling_factor)\n\u001b[1;32m    507\u001b[0m     constraints \u001b[39m=\u001b[39m [\n\u001b[1;32m    508\u001b[0m         max_loss \u001b[39m<\u001b[39m \u001b[39m-\u001b[39m\u001b[39m500e3\u001b[39m\n\u001b[1;32m    509\u001b[0m     ]\n\u001b[1;32m    511\u001b[0m     \u001b[39mif\u001b[39;00m \u001b[39many\u001b[39m(constraints):\n",
      "File \u001b[0;32m~/Desktop/Desktop - Samanvay’s MacBook Pro/Sem 3/bp-Trading/bp.py:882\u001b[0m, in \u001b[0;36mrun_strategy_optimised\u001b[0;34m(tick_data, grid_sizing, lot_sizing, ladder_function, multiplier, indicator_type, indicator_scale, lookback)\u001b[0m\n\u001b[1;32m    880\u001b[0m PNL\u001b[39m=\u001b[39mnp\u001b[39m.\u001b[39mround(PNL,\u001b[39m4\u001b[39m)\n\u001b[1;32m    881\u001b[0m U_PNL\u001b[39m=\u001b[39mnp\u001b[39m.\u001b[39mround(U_PNL,\u001b[39m4\u001b[39m)\n\u001b[0;32m--> 882\u001b[0m R_PNL\u001b[39m=\u001b[39mnp\u001b[39m.\u001b[39;49mround(R_PNL,\u001b[39m4\u001b[39;49m)\n\u001b[1;32m    884\u001b[0m \u001b[39mif\u001b[39;00m PNL \u001b[39m<\u001b[39m max_loss:\n\u001b[1;32m    885\u001b[0m     max_loss \u001b[39m=\u001b[39m PNL\n",
      "File \u001b[0;32m<__array_function__ internals>:200\u001b[0m, in \u001b[0;36mround_\u001b[0;34m(*args, **kwargs)\u001b[0m\n",
      "File \u001b[0;32m~/opt/anaconda3/envs/tradingenv/lib/python3.11/site-packages/numpy/core/fromnumeric.py:3763\u001b[0m, in \u001b[0;36mround_\u001b[0;34m(a, decimals, out)\u001b[0m\n\u001b[1;32m   3754\u001b[0m \u001b[39m@array_function_dispatch\u001b[39m(_around_dispatcher)\n\u001b[1;32m   3755\u001b[0m \u001b[39mdef\u001b[39;00m \u001b[39mround_\u001b[39m(a, decimals\u001b[39m=\u001b[39m\u001b[39m0\u001b[39m, out\u001b[39m=\u001b[39m\u001b[39mNone\u001b[39;00m):\n\u001b[1;32m   3756\u001b[0m \u001b[39m    \u001b[39m\u001b[39m\"\"\"\u001b[39;00m\n\u001b[1;32m   3757\u001b[0m \u001b[39m    Round an array to the given number of decimals.\u001b[39;00m\n\u001b[1;32m   3758\u001b[0m \n\u001b[0;32m   (...)\u001b[0m\n\u001b[1;32m   3761\u001b[0m \u001b[39m    around : equivalent function; see for details.\u001b[39;00m\n\u001b[1;32m   3762\u001b[0m \u001b[39m    \"\"\"\u001b[39;00m\n\u001b[0;32m-> 3763\u001b[0m     \u001b[39mreturn\u001b[39;00m around(a, decimals\u001b[39m=\u001b[39;49mdecimals, out\u001b[39m=\u001b[39;49mout)\n",
      "File \u001b[0;32m<__array_function__ internals>:200\u001b[0m, in \u001b[0;36maround\u001b[0;34m(*args, **kwargs)\u001b[0m\n",
      "File \u001b[0;32m~/opt/anaconda3/envs/tradingenv/lib/python3.11/site-packages/numpy/core/fromnumeric.py:3337\u001b[0m, in \u001b[0;36maround\u001b[0;34m(a, decimals, out)\u001b[0m\n\u001b[1;32m   3245\u001b[0m \u001b[39m@array_function_dispatch\u001b[39m(_around_dispatcher)\n\u001b[1;32m   3246\u001b[0m \u001b[39mdef\u001b[39;00m \u001b[39maround\u001b[39m(a, decimals\u001b[39m=\u001b[39m\u001b[39m0\u001b[39m, out\u001b[39m=\u001b[39m\u001b[39mNone\u001b[39;00m):\n\u001b[1;32m   3247\u001b[0m \u001b[39m    \u001b[39m\u001b[39m\"\"\"\u001b[39;00m\n\u001b[1;32m   3248\u001b[0m \u001b[39m    Evenly round to the given number of decimals.\u001b[39;00m\n\u001b[1;32m   3249\u001b[0m \n\u001b[0;32m   (...)\u001b[0m\n\u001b[1;32m   3335\u001b[0m \n\u001b[1;32m   3336\u001b[0m \u001b[39m    \"\"\"\u001b[39;00m\n\u001b[0;32m-> 3337\u001b[0m     \u001b[39mreturn\u001b[39;00m _wrapfunc(a, \u001b[39m'\u001b[39;49m\u001b[39mround\u001b[39;49m\u001b[39m'\u001b[39;49m, decimals\u001b[39m=\u001b[39;49mdecimals, out\u001b[39m=\u001b[39;49mout)\n",
      "File \u001b[0;32m~/opt/anaconda3/envs/tradingenv/lib/python3.11/site-packages/numpy/core/fromnumeric.py:57\u001b[0m, in \u001b[0;36m_wrapfunc\u001b[0;34m(obj, method, *args, **kwds)\u001b[0m\n\u001b[1;32m     54\u001b[0m     \u001b[39mreturn\u001b[39;00m _wrapit(obj, method, \u001b[39m*\u001b[39margs, \u001b[39m*\u001b[39m\u001b[39m*\u001b[39mkwds)\n\u001b[1;32m     56\u001b[0m \u001b[39mtry\u001b[39;00m:\n\u001b[0;32m---> 57\u001b[0m     \u001b[39mreturn\u001b[39;00m bound(\u001b[39m*\u001b[39;49margs, \u001b[39m*\u001b[39;49m\u001b[39m*\u001b[39;49mkwds)\n\u001b[1;32m     58\u001b[0m \u001b[39mexcept\u001b[39;00m \u001b[39mTypeError\u001b[39;00m:\n\u001b[1;32m     59\u001b[0m     \u001b[39m# A TypeError occurs if the object does have such a method in its\u001b[39;00m\n\u001b[1;32m     60\u001b[0m     \u001b[39m# class, but its signature is not identical to that of NumPy's. This\u001b[39;00m\n\u001b[0;32m   (...)\u001b[0m\n\u001b[1;32m     64\u001b[0m     \u001b[39m# Call _wrapit from within the except clause to ensure a potential\u001b[39;00m\n\u001b[1;32m     65\u001b[0m     \u001b[39m# exception has a traceback chain.\u001b[39;00m\n\u001b[1;32m     66\u001b[0m     \u001b[39mreturn\u001b[39;00m _wrapit(obj, method, \u001b[39m*\u001b[39margs, \u001b[39m*\u001b[39m\u001b[39m*\u001b[39mkwds)\n",
      "\u001b[0;31mKeyboardInterrupt\u001b[0m: "
     ]
    }
   ],
   "source": [
    "gen_results('jan 2014','jan 2022',12,1,currency_pair='GBPUSD',optimiser=deap_optimiser_indicator_std,parameters=parameters,optimizer_param=optimizer_param)\n",
    "gen_results('jan 2014','jan 2022',6,1,currency_pair='GBPUSD',optimiser=deap_optimiser_indicator_std,parameters=parameters,optimizer_param=optimizer_param)\n",
    "gen_results('jan 2014','jan 2022',3,1,currency_pair='GBPUSD',optimiser=deap_optimiser_indicator_std,parameters=parameters,optimizer_param=optimizer_param)"
   ]
  },
  {
   "cell_type": "code",
   "execution_count": null,
   "metadata": {},
   "outputs": [],
   "source": [
    "Profit_Analysis('GBPUSD','std','3-1')"
   ]
  },
  {
   "cell_type": "code",
   "execution_count": null,
   "metadata": {},
   "outputs": [],
   "source": [
    "Profit_Analysis('GBPUSD','std','6-1')"
   ]
  },
  {
   "cell_type": "code",
   "execution_count": null,
   "metadata": {},
   "outputs": [],
   "source": [
    "Profit_Analysis('GBPUSD','std','12-1')"
   ]
  }
 ],
 "metadata": {
  "kernelspec": {
   "display_name": "tradingenv",
   "language": "python",
   "name": "python3"
  },
  "language_info": {
   "codemirror_mode": {
    "name": "ipython",
    "version": 3
   },
   "file_extension": ".py",
   "mimetype": "text/x-python",
   "name": "python",
   "nbconvert_exporter": "python",
   "pygments_lexer": "ipython3",
   "version": "3.11.5"
  },
  "orig_nbformat": 4
 },
 "nbformat": 4,
 "nbformat_minor": 2
}
