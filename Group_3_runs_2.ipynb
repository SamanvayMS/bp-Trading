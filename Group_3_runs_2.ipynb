{
 "cells": [
  {
   "attachments": {},
   "cell_type": "markdown",
   "metadata": {},
   "source": [
    "# Group 3 Runs without std consideration"
   ]
  },
  {
   "cell_type": "code",
   "execution_count": 1,
   "metadata": {},
   "outputs": [],
   "source": [
    "from GA_optimiser import *\n",
    "import os"
   ]
  },
  {
   "cell_type": "code",
   "execution_count": 2,
   "metadata": {},
   "outputs": [
    {
     "name": "stdout",
     "output_type": "stream",
     "text": [
      "number of grid params:- 18.0\n",
      "number of lot params:- 19.0\n",
      "number of I_type params:- 2\n",
      "number of lookback params:- 7\n",
      "number of scaling_factor params:- 8.0\n",
      "total_number_of_combinations:- 38304.0\n"
     ]
    }
   ],
   "source": [
    "grid_params = [0.001,0.01,0.0005]\n",
    "lot_params = [100000,2000000,100000]\n",
    "I_type = ['v','a']\n",
    "lookback_params = [9,20,30,50,100,150,200]\n",
    "scaling_factor_params = [1,5,0.5]\n",
    "\n",
    "n_grid_params = ((grid_params[1]-grid_params[0])/grid_params[2])\n",
    "n_lot_params = ((lot_params[1]-lot_params[0])/lot_params[2])\n",
    "n_I_type_params = len(I_type)\n",
    "n_lookback_params = len(lookback_params)\n",
    "n_scaling_factor_params = ((scaling_factor_params[1]-scaling_factor_params[0])/scaling_factor_params[2])\n",
    "print('number of grid params:-',(n_grid_params))\n",
    "print('number of lot params:-',(n_lot_params))\n",
    "print('number of I_type params:-',(n_I_type_params))\n",
    "print('number of lookback params:-',(n_lookback_params))\n",
    "print('number of scaling_factor params:-',(n_scaling_factor_params))\n",
    "print('total_number_of_combinations:-',(n_grid_params*n_lot_params*n_I_type_params*n_lookback_params*n_scaling_factor_params))\n",
    "\n",
    "parameters = [grid_params,lot_params,I_type,lookback_params,scaling_factor_params]\n",
    "\n",
    "# Adjust these parameter according to search space\n",
    "n_trials = 50 #NGEN\n",
    "npop = 100\n",
    "early_stopping_gen = n_trials # no early stopping\n",
    "optimizer_param = [n_trials, npop, early_stopping_gen]"
   ]
  },
  {
   "cell_type": "code",
   "execution_count": 4,
   "metadata": {},
   "outputs": [
    {
     "ename": "FileNotFoundError",
     "evalue": "[Errno 2] No such file or directory: 'EURUSD/EURUSD/ticks_2013.pkl'",
     "output_type": "error",
     "traceback": [
      "\u001b[0;31m---------------------------------------------------------------------------\u001b[0m",
      "\u001b[0;31mFileNotFoundError\u001b[0m                         Traceback (most recent call last)",
      "Cell \u001b[0;32mIn[4], line 1\u001b[0m\n\u001b[0;32m----> 1\u001b[0m gen_results(\u001b[39m'\u001b[39;49m\u001b[39mjan 2014\u001b[39;49m\u001b[39m'\u001b[39;49m,\u001b[39m'\u001b[39;49m\u001b[39mjan 2022\u001b[39;49m\u001b[39m'\u001b[39;49m,\u001b[39m12\u001b[39;49m,\u001b[39m1\u001b[39;49m,optimiser\u001b[39m=\u001b[39;49mdeap_optimiser_indicator_std,parameters\u001b[39m=\u001b[39;49mparameters,optimizer_param\u001b[39m=\u001b[39;49moptimizer_param)\n\u001b[1;32m      2\u001b[0m gen_results(\u001b[39m'\u001b[39m\u001b[39mjan 2014\u001b[39m\u001b[39m'\u001b[39m,\u001b[39m'\u001b[39m\u001b[39mjan 2022\u001b[39m\u001b[39m'\u001b[39m,\u001b[39m6\u001b[39m,\u001b[39m1\u001b[39m,optimiser\u001b[39m=\u001b[39mdeap_optimiser_indicator_std,parameters\u001b[39m=\u001b[39mparameters,optimizer_param\u001b[39m=\u001b[39moptimizer_param)\n\u001b[1;32m      3\u001b[0m gen_results(\u001b[39m'\u001b[39m\u001b[39mjan 2014\u001b[39m\u001b[39m'\u001b[39m,\u001b[39m'\u001b[39m\u001b[39mjan 2022\u001b[39m\u001b[39m'\u001b[39m,\u001b[39m3\u001b[39m,\u001b[39m1\u001b[39m,optimiser\u001b[39m=\u001b[39mdeap_optimiser_indicator_std,parameters\u001b[39m=\u001b[39mparameters,optimizer_param\u001b[39m=\u001b[39moptimizer_param)\n",
      "File \u001b[0;32m~/Desktop/Desktop - Samanvay’s MacBook Pro/Sem 3/bp-Trading/GA_optimiser.py:598\u001b[0m, in \u001b[0;36mgen_results\u001b[0;34m(start, end, train_length, test_length, currency_pair, optimiser, parameters, optimizer_param)\u001b[0m\n\u001b[1;32m    594\u001b[0m \u001b[39mif\u001b[39;00m \u001b[39mnot\u001b[39;00m os\u001b[39m.\u001b[39mpath\u001b[39m.\u001b[39mexists(folder_path):\n\u001b[1;32m    595\u001b[0m     \u001b[39m# If the folder does not exist, create it\u001b[39;00m\n\u001b[1;32m    596\u001b[0m     os\u001b[39m.\u001b[39mmakedirs(folder_path)\n\u001b[0;32m--> 598\u001b[0m test_df,train_df,optimal_df \u001b[39m=\u001b[39m walk_forward_analysis(start,end,\u001b[39m1\u001b[39;49m,parameters,optimiser,optimizer_param,train_length,test_length,currency_pair\u001b[39m=\u001b[39;49mcurrency_pair)\n\u001b[1;32m    599\u001b[0m test_path \u001b[39m=\u001b[39m full_path \u001b[39m+\u001b[39m \u001b[39m'\u001b[39m\u001b[39m-test.csv\u001b[39m\u001b[39m'\u001b[39m\n\u001b[1;32m    600\u001b[0m train_path \u001b[39m=\u001b[39m full_path \u001b[39m+\u001b[39m \u001b[39m'\u001b[39m\u001b[39m-train.csv\u001b[39m\u001b[39m'\u001b[39m\n",
      "File \u001b[0;32m~/Desktop/Desktop - Samanvay’s MacBook Pro/Sem 3/bp-Trading/GA_optimiser.py:61\u001b[0m, in \u001b[0;36mwalk_forward_analysis\u001b[0;34m(evaluation_start, evaluation_end, evaluation_day, parameters, optimization_function, optimizer_params, lookback_in_months, evaluation_period, currency_pair)\u001b[0m\n\u001b[1;32m     59\u001b[0m \u001b[39mfor\u001b[39;00m dates \u001b[39min\u001b[39;00m generated_date_ranges:\n\u001b[1;32m     60\u001b[0m     train_period \u001b[39m=\u001b[39m get_previous_n_months(dates[\u001b[39m0\u001b[39m], lookback_in_months)\n\u001b[0;32m---> 61\u001b[0m     train_data \u001b[39m=\u001b[39m data_gather_from_files(train_period[\u001b[39m0\u001b[39;49m],train_period[\u001b[39m1\u001b[39;49m],currency_pair)[\u001b[39m'\u001b[39m\u001b[39mmid\u001b[39m\u001b[39m'\u001b[39m]\n\u001b[1;32m     62\u001b[0m     \u001b[39mprint\u001b[39m(\u001b[39m'\u001b[39m\u001b[39mData gathered for training period: \u001b[39m\u001b[39m'\u001b[39m,train_period[\u001b[39m0\u001b[39m],train_period[\u001b[39m1\u001b[39m])\n\u001b[1;32m     63\u001b[0m     test_data \u001b[39m=\u001b[39m data_gather_from_files(dates[\u001b[39m0\u001b[39m],dates[\u001b[39m1\u001b[39m])[\u001b[39m'\u001b[39m\u001b[39mmid\u001b[39m\u001b[39m'\u001b[39m]\n",
      "File \u001b[0;32m~/Desktop/Desktop - Samanvay’s MacBook Pro/Sem 3/bp-Trading/bp.py:157\u001b[0m, in \u001b[0;36mdata_gather_from_files\u001b[0;34m(start_date, end_date, file_path, currency_pair)\u001b[0m\n\u001b[1;32m    155\u001b[0m full_df \u001b[39m=\u001b[39m pd\u001b[39m.\u001b[39mDataFrame()\n\u001b[1;32m    156\u001b[0m \u001b[39mfor\u001b[39;00m year \u001b[39min\u001b[39;00m year_dict\u001b[39m.\u001b[39mkeys():\n\u001b[0;32m--> 157\u001b[0m     year_df \u001b[39m=\u001b[39m pd\u001b[39m.\u001b[39;49mread_pickle(\u001b[39mf\u001b[39;49m\u001b[39m'\u001b[39;49m\u001b[39m{\u001b[39;49;00mfile_path\u001b[39m}\u001b[39;49;00m\u001b[39m/\u001b[39;49m\u001b[39m{\u001b[39;49;00mcurrency_pair\u001b[39m}\u001b[39;49;00m\u001b[39m/ticks_\u001b[39;49m\u001b[39m'\u001b[39;49m \u001b[39m+\u001b[39;49m \u001b[39mstr\u001b[39;49m(year) \u001b[39m+\u001b[39;49m \u001b[39m'\u001b[39;49m\u001b[39m.pkl\u001b[39;49m\u001b[39m'\u001b[39;49m)\n\u001b[1;32m    158\u001b[0m     year_dict[year][\u001b[39m0\u001b[39m] \u001b[39m=\u001b[39m year_dict[year][\u001b[39m0\u001b[39m]\u001b[39m.\u001b[39mtz_localize(\u001b[39m'\u001b[39m\u001b[39mUTC\u001b[39m\u001b[39m'\u001b[39m)\n\u001b[1;32m    159\u001b[0m     year_dict[year][\u001b[39m1\u001b[39m] \u001b[39m=\u001b[39m year_dict[year][\u001b[39m1\u001b[39m]\u001b[39m.\u001b[39mtz_localize(\u001b[39m'\u001b[39m\u001b[39mUTC\u001b[39m\u001b[39m'\u001b[39m)\n",
      "File \u001b[0;32m~/opt/anaconda3/envs/tradingenv/lib/python3.11/site-packages/pandas/io/pickle.py:179\u001b[0m, in \u001b[0;36mread_pickle\u001b[0;34m(filepath_or_buffer, compression, storage_options)\u001b[0m\n\u001b[1;32m    115\u001b[0m \u001b[39m\u001b[39m\u001b[39m\"\"\"\u001b[39;00m\n\u001b[1;32m    116\u001b[0m \u001b[39mLoad pickled pandas object (or any object) from file.\u001b[39;00m\n\u001b[1;32m    117\u001b[0m \n\u001b[0;32m   (...)\u001b[0m\n\u001b[1;32m    176\u001b[0m \u001b[39m4    4    9\u001b[39;00m\n\u001b[1;32m    177\u001b[0m \u001b[39m\"\"\"\u001b[39;00m\n\u001b[1;32m    178\u001b[0m excs_to_catch \u001b[39m=\u001b[39m (\u001b[39mAttributeError\u001b[39;00m, \u001b[39mImportError\u001b[39;00m, \u001b[39mModuleNotFoundError\u001b[39;00m, \u001b[39mTypeError\u001b[39;00m)\n\u001b[0;32m--> 179\u001b[0m \u001b[39mwith\u001b[39;00m get_handle(\n\u001b[1;32m    180\u001b[0m     filepath_or_buffer,\n\u001b[1;32m    181\u001b[0m     \u001b[39m\"\u001b[39;49m\u001b[39mrb\u001b[39;49m\u001b[39m\"\u001b[39;49m,\n\u001b[1;32m    182\u001b[0m     compression\u001b[39m=\u001b[39;49mcompression,\n\u001b[1;32m    183\u001b[0m     is_text\u001b[39m=\u001b[39;49m\u001b[39mFalse\u001b[39;49;00m,\n\u001b[1;32m    184\u001b[0m     storage_options\u001b[39m=\u001b[39;49mstorage_options,\n\u001b[1;32m    185\u001b[0m ) \u001b[39mas\u001b[39;00m handles:\n\u001b[1;32m    186\u001b[0m     \u001b[39m# 1) try standard library Pickle\u001b[39;00m\n\u001b[1;32m    187\u001b[0m     \u001b[39m# 2) try pickle_compat (older pandas version) to handle subclass changes\u001b[39;00m\n\u001b[1;32m    188\u001b[0m     \u001b[39m# 3) try pickle_compat with latin-1 encoding upon a UnicodeDecodeError\u001b[39;00m\n\u001b[1;32m    190\u001b[0m     \u001b[39mtry\u001b[39;00m:\n\u001b[1;32m    191\u001b[0m         \u001b[39m# TypeError for Cython complaints about object.__new__ vs Tick.__new__\u001b[39;00m\n\u001b[1;32m    192\u001b[0m         \u001b[39mtry\u001b[39;00m:\n",
      "File \u001b[0;32m~/opt/anaconda3/envs/tradingenv/lib/python3.11/site-packages/pandas/io/common.py:868\u001b[0m, in \u001b[0;36mget_handle\u001b[0;34m(path_or_buf, mode, encoding, compression, memory_map, is_text, errors, storage_options)\u001b[0m\n\u001b[1;32m    859\u001b[0m         handle \u001b[39m=\u001b[39m \u001b[39mopen\u001b[39m(\n\u001b[1;32m    860\u001b[0m             handle,\n\u001b[1;32m    861\u001b[0m             ioargs\u001b[39m.\u001b[39mmode,\n\u001b[0;32m   (...)\u001b[0m\n\u001b[1;32m    864\u001b[0m             newline\u001b[39m=\u001b[39m\u001b[39m\"\u001b[39m\u001b[39m\"\u001b[39m,\n\u001b[1;32m    865\u001b[0m         )\n\u001b[1;32m    866\u001b[0m     \u001b[39melse\u001b[39;00m:\n\u001b[1;32m    867\u001b[0m         \u001b[39m# Binary mode\u001b[39;00m\n\u001b[0;32m--> 868\u001b[0m         handle \u001b[39m=\u001b[39m \u001b[39mopen\u001b[39;49m(handle, ioargs\u001b[39m.\u001b[39;49mmode)\n\u001b[1;32m    869\u001b[0m     handles\u001b[39m.\u001b[39mappend(handle)\n\u001b[1;32m    871\u001b[0m \u001b[39m# Convert BytesIO or file objects passed with an encoding\u001b[39;00m\n",
      "\u001b[0;31mFileNotFoundError\u001b[0m: [Errno 2] No such file or directory: 'EURUSD/EURUSD/ticks_2013.pkl'"
     ]
    }
   ],
   "source": [
    "gen_results('jan 2014','jan 2022',12,1,optimiser=deap_optimiser_indicator_std,parameters=parameters,optimizer_param=optimizer_param)\n",
    "gen_results('jan 2014','jan 2022',6,1,optimiser=deap_optimiser_indicator_std,parameters=parameters,optimizer_param=optimizer_param)\n",
    "gen_results('jan 2014','jan 2022',3,1,optimiser=deap_optimiser_indicator_std,parameters=parameters,optimizer_param=optimizer_param)"
   ]
  },
  {
   "cell_type": "code",
   "execution_count": null,
   "metadata": {},
   "outputs": [],
   "source": [
    "Profit_Analysis(currency_pair='EURUSD',type = 'std', split='3-1')"
   ]
  },
  {
   "cell_type": "code",
   "execution_count": null,
   "metadata": {},
   "outputs": [],
   "source": [
    "Profit_Analysis(currency_pair='EURUSD',type = 'std', split='6-1')"
   ]
  },
  {
   "cell_type": "code",
   "execution_count": null,
   "metadata": {},
   "outputs": [],
   "source": [
    "Profit_Analysis(currency_pair='EURUSD',type = 'std', split='12-1')"
   ]
  }
 ],
 "metadata": {
  "kernelspec": {
   "display_name": "tradingenv",
   "language": "python",
   "name": "python3"
  },
  "language_info": {
   "codemirror_mode": {
    "name": "ipython",
    "version": 3
   },
   "file_extension": ".py",
   "mimetype": "text/x-python",
   "name": "python",
   "nbconvert_exporter": "python",
   "pygments_lexer": "ipython3",
   "version": "3.11.5"
  },
  "orig_nbformat": 4
 },
 "nbformat": 4,
 "nbformat_minor": 2
}
