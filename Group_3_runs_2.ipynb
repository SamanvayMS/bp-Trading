{
 "cells": [
  {
   "attachments": {},
   "cell_type": "markdown",
   "metadata": {},
   "source": [
    "# Group 3 Runs without std consideration"
   ]
  },
  {
   "cell_type": "code",
   "execution_count": 1,
   "metadata": {},
   "outputs": [],
   "source": [
    "from GA_optimiser import *\n",
    "import os"
   ]
  },
  {
   "cell_type": "code",
   "execution_count": 2,
   "metadata": {},
   "outputs": [
    {
     "name": "stdout",
     "output_type": "stream",
     "text": [
      "number of grid params:- 18.0\n",
      "number of lot params:- 19.0\n",
      "number of I_type params:- 2\n",
      "number of lookback params:- 7\n",
      "number of scaling_factor params:- 8.0\n",
      "total_number_of_combinations:- 38304.0\n"
     ]
    }
   ],
   "source": [
    "grid_params = [0.001,0.01,0.0005]\n",
    "lot_params = [100000,2000000,100000]\n",
    "I_type = ['v','a']\n",
    "lookback_params = [9,20,30,50,100,150,200]\n",
    "scaling_factor_params = [1,5,0.5]\n",
    "\n",
    "n_grid_params = ((grid_params[1]-grid_params[0])/grid_params[2])\n",
    "n_lot_params = ((lot_params[1]-lot_params[0])/lot_params[2])\n",
    "n_I_type_params = len(I_type)\n",
    "n_lookback_params = len(lookback_params)\n",
    "n_scaling_factor_params = ((scaling_factor_params[1]-scaling_factor_params[0])/scaling_factor_params[2])\n",
    "print('number of grid params:-',(n_grid_params))\n",
    "print('number of lot params:-',(n_lot_params))\n",
    "print('number of I_type params:-',(n_I_type_params))\n",
    "print('number of lookback params:-',(n_lookback_params))\n",
    "print('number of scaling_factor params:-',(n_scaling_factor_params))\n",
    "print('total_number_of_combinations:-',(n_grid_params*n_lot_params*n_I_type_params*n_lookback_params*n_scaling_factor_params))\n",
    "\n",
    "parameters = [grid_params,lot_params,I_type,lookback_params,scaling_factor_params]\n",
    "\n",
    "# Adjust these parameter according to search space\n",
    "n_trials = 50 #NGEN\n",
    "npop = 100\n",
    "early_stopping_gen = n_trials # no early stopping\n",
    "optimizer_param = [n_trials, npop, early_stopping_gen]"
   ]
  },
  {
   "cell_type": "code",
   "execution_count": 3,
   "metadata": {},
   "outputs": [
    {
     "ename": "UnboundLocalError",
     "evalue": "cannot access local variable 'folder_path' where it is not associated with a value",
     "output_type": "error",
     "traceback": [
      "\u001b[0;31m---------------------------------------------------------------------------\u001b[0m",
      "\u001b[0;31mUnboundLocalError\u001b[0m                         Traceback (most recent call last)",
      "Cell \u001b[0;32mIn[3], line 1\u001b[0m\n\u001b[0;32m----> 1\u001b[0m gen_results(\u001b[39m'\u001b[39;49m\u001b[39mjan 2014\u001b[39;49m\u001b[39m'\u001b[39;49m,\u001b[39m'\u001b[39;49m\u001b[39mjan 2022\u001b[39;49m\u001b[39m'\u001b[39;49m,\u001b[39m12\u001b[39;49m,\u001b[39m1\u001b[39;49m,optimiser\u001b[39m=\u001b[39;49mdeap_optimiser_indicator_std,parameters\u001b[39m=\u001b[39;49mparameters,optimizer_param\u001b[39m=\u001b[39;49moptimizer_param)\n\u001b[1;32m      2\u001b[0m gen_results(\u001b[39m'\u001b[39m\u001b[39mjan 2014\u001b[39m\u001b[39m'\u001b[39m,\u001b[39m'\u001b[39m\u001b[39mjan 2022\u001b[39m\u001b[39m'\u001b[39m,\u001b[39m6\u001b[39m,\u001b[39m1\u001b[39m,optimiser\u001b[39m=\u001b[39mdeap_optimiser_indicator_std,parameters\u001b[39m=\u001b[39mparameters,optimizer_param\u001b[39m=\u001b[39moptimizer_param)\n\u001b[1;32m      3\u001b[0m gen_results(\u001b[39m'\u001b[39m\u001b[39mjan 2014\u001b[39m\u001b[39m'\u001b[39m,\u001b[39m'\u001b[39m\u001b[39mjan 2022\u001b[39m\u001b[39m'\u001b[39m,\u001b[39m3\u001b[39m,\u001b[39m1\u001b[39m,optimiser\u001b[39m=\u001b[39mdeap_optimiser_indicator_std,parameters\u001b[39m=\u001b[39mparameters,optimizer_param\u001b[39m=\u001b[39moptimizer_param)\n",
      "File \u001b[0;32m~/Desktop/Desktop - Samanvay’s MacBook Pro/Sem 3/bp-Trading/GA_optimiser.py:580\u001b[0m, in \u001b[0;36mgen_results\u001b[0;34m(start, end, train_length, test_length, currency_pair, optimiser, parameters, optimizer_param)\u001b[0m\n\u001b[1;32m    578\u001b[0m     folder_path \u001b[39m=\u001b[39m \u001b[39m'\u001b[39m\u001b[39m/Users/samanvayms/Desktop/Desktop - Samanvay’s MacBook Pro/Sem 3/bp-Trading/results/\u001b[39m\u001b[39m'\u001b[39m\u001b[39m+\u001b[39mcurrency_pair\u001b[39m+\u001b[39m \u001b[39m'\u001b[39m\u001b[39m/profit\u001b[39m\u001b[39m'\u001b[39m\n\u001b[1;32m    579\u001b[0m \u001b[39melif\u001b[39;00m optimiser \u001b[39m==\u001b[39m deap_optimiser_indicator_std:\n\u001b[0;32m--> 580\u001b[0m     folder_path \u001b[39m==\u001b[39m \u001b[39m'\u001b[39m\u001b[39m/Users/samanvayms/Desktop/Desktop - Samanvay’s MacBook Pro/Sem 3/bp-Trading/results/\u001b[39m\u001b[39m'\u001b[39m\u001b[39m+\u001b[39mcurrency_pair\u001b[39m+\u001b[39m \u001b[39m'\u001b[39m\u001b[39m/std\u001b[39m\u001b[39m'\u001b[39m\n\u001b[1;32m    581\u001b[0m csv_file_name \u001b[39m=\u001b[39m \u001b[39mf\u001b[39m\u001b[39m'\u001b[39m\u001b[39m{\u001b[39;00mtrain_length\u001b[39m}\u001b[39;00m\u001b[39m-\u001b[39m\u001b[39m{\u001b[39;00mtest_length\u001b[39m}\u001b[39;00m\u001b[39m-\u001b[39m\u001b[39m{\u001b[39;00mstart\u001b[39m}\u001b[39;00m\u001b[39m-\u001b[39m\u001b[39m{\u001b[39;00mend\u001b[39m}\u001b[39;00m\u001b[39m'\u001b[39m    \u001b[39m# Replace with your actual CSV file name\u001b[39;00m\n\u001b[1;32m    582\u001b[0m full_path \u001b[39m=\u001b[39m os\u001b[39m.\u001b[39mpath\u001b[39m.\u001b[39mjoin(folder_path, csv_file_name)\n",
      "\u001b[0;31mUnboundLocalError\u001b[0m: cannot access local variable 'folder_path' where it is not associated with a value"
     ]
    }
   ],
   "source": [
    "gen_results('jan 2014','jan 2022',12,1,optimiser=deap_optimiser_indicator_std,parameters=parameters,optimizer_param=optimizer_param)\n",
    "gen_results('jan 2014','jan 2022',6,1,optimiser=deap_optimiser_indicator_std,parameters=parameters,optimizer_param=optimizer_param)\n",
    "gen_results('jan 2014','jan 2022',3,1,optimiser=deap_optimiser_indicator_std,parameters=parameters,optimizer_param=optimizer_param)"
   ]
  }
 ],
 "metadata": {
  "kernelspec": {
   "display_name": "tradingenv",
   "language": "python",
   "name": "python3"
  },
  "language_info": {
   "codemirror_mode": {
    "name": "ipython",
    "version": 3
   },
   "file_extension": ".py",
   "mimetype": "text/x-python",
   "name": "python",
   "nbconvert_exporter": "python",
   "pygments_lexer": "ipython3",
   "version": "3.11.5"
  },
  "orig_nbformat": 4
 },
 "nbformat": 4,
 "nbformat_minor": 2
}
