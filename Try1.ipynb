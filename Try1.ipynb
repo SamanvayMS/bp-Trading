{
 "cells": [
  {
   "cell_type": "code",
   "execution_count": 7,
   "metadata": {},
   "outputs": [],
   "source": [
    "import pandas as pd\n",
    "import numpy as np\n",
    "from scipy.optimize import minimize\n",
    "import matplotlib.pyplot as plt\n",
    "import mplfinance as mpf\n",
    "import Data_for_bp as dfb\n",
    "import pickle"
   ]
  },
  {
   "cell_type": "code",
   "execution_count": 8,
   "metadata": {},
   "outputs": [],
   "source": [
    "def ladderize_open(tick_data, grid_size):\n",
    "    \"\"\"\n",
    "    Convert tick data into step-based data using a specified grid size.\n",
    "\n",
    "    :param tick_data: A pandas Series of tick data.\n",
    "    :param grid_size: The size of the grid to discretize the tick data.\n",
    "    :return: A pandas Series of ladderized data.\n",
    "    \"\"\"\n",
    "    ladderized_data = [tick_data.iloc[0]]\n",
    "    for i in range(1, len(tick_data)):\n",
    "        if tick_data.iloc[i] > ladderized_data[-1] + grid_size:\n",
    "            ladderized_data.append(ladderized_data[-1] + grid_size)\n",
    "        elif tick_data.iloc[i] < ladderized_data[-1] - grid_size:\n",
    "            ladderized_data.append(ladderized_data[-1] - grid_size)\n",
    "        else:\n",
    "            ladderized_data.append(ladderized_data[-1])\n",
    "    # Adding the final close price\n",
    "    ladderized_data[-1]=tick_data.iloc[-1]\n",
    "    return pd.Series(ladderized_data, index=tick_data.index)\n",
    "def ladderize_absolute(tick_data, grid_size):\n",
    "    \"\"\"\n",
    "    Convert tick data into step-based data using a specified grid size.\n",
    "\n",
    "    :param tick_data: A pandas Series of tick data.\n",
    "    :param grid_size: The size of the grid to discretize the tick data.\n",
    "    :return: A pandas Series of ladderized data.\n",
    "    \"\"\"\n",
    "    # Initialize ladder at the nearest rounded price level based on grid size\n",
    "    ladderized_data = [(tick_data.iloc[0] / grid_size).round() * grid_size]\n",
    "    for i in range(1, len(tick_data)):\n",
    "        current_tick = tick_data.iloc[i]\n",
    "        last_ladder_level = ladderized_data[-1]\n",
    "        if current_tick > last_ladder_level + grid_size:\n",
    "            ladderized_data.append(last_ladder_level + grid_size)\n",
    "        elif current_tick < last_ladder_level - grid_size:\n",
    "            ladderized_data.append(last_ladder_level - grid_size)\n",
    "        else:\n",
    "            ladderized_data.append(last_ladder_level)\n",
    "    # Adding the final close price\n",
    "    ladderized_data[-1] = tick_data.iloc[-1]\n",
    "    return pd.Series(ladderized_data, index=tick_data.index)"
   ]
  },
  {
   "cell_type": "code",
   "execution_count": 9,
   "metadata": {},
   "outputs": [],
   "source": [
    "def count_ticks_by_date(tick_data):\n",
    "    # Group the data by date\n",
    "    grouped = tick_data.groupby(tick_data.index.date)\n",
    "    \n",
    "    # Initialize an empty array to hold the count of ticks for each date\n",
    "    D = len(grouped)\n",
    "    T = np.zeros(D)\n",
    "    \n",
    "    # Initialize an index variable for populating the T array\n",
    "    T_index = 0\n",
    "    \n",
    "    # Loop through each group and count the number of ticks\n",
    "    for date, group in grouped:\n",
    "        T[T_index] = len(group)\n",
    "        print(f\"Date: {date}, Number of ticks: {len(group)}\")\n",
    "        T_index += 1\n",
    "    \n",
    "    # Convert the array to integers\n",
    "    T = T.astype(int)\n",
    "    return T,D"
   ]
  },
  {
   "cell_type": "code",
   "execution_count": 26,
   "metadata": {},
   "outputs": [],
   "source": [
    "def B_value(tick_data, grid_size, ladderized_function):\n",
    "    '''\n",
    "    Convert tick data to binomial series and also return the original tick data values\n",
    "    corresponding to the indices where the binomial series exists.\n",
    "    '''\n",
    "    ladderized_data = ladderized_function(tick_data, grid_size)\n",
    "    jumps = dfb.filter_jumps(ladderized_data)\n",
    "    aggregated_diff = dfb.aggregate_differences(jumps)\n",
    "    binomial_data = aggregated_diff.diff()\n",
    "    \n",
    "    # Drop NaNs from binomial_data and get the corresponding original tick_data values\n",
    "    binomial_data.dropna(inplace=True)\n",
    "    original_values_at_binomial_index = tick_data[binomial_data.index]\n",
    "    \n",
    "    return binomial_data.to_list(), original_values_at_binomial_index.tolist()\n"
   ]
  },
  {
   "cell_type": "code",
   "execution_count": 25,
   "metadata": {},
   "outputs": [],
   "source": [
    "def compute_pnl_t(G,T,n,tick_data,d,position):\n",
    "    #initialize pnl matrix for day d, T[d] period\n",
    "    B, ladder_data = B_value(tick_data, G, ladderize_open)\n",
    "    pnl = np.zeros(T[d])\n",
    "    for t in range (T[d]-1):\n",
    "        if B[t] > 0: ################ how to change t when day change>> Can i use if else for T period?\n",
    "            position-=n\n",
    "        elif B[t] < 0: ################ lets try one day first this can neglect for now\n",
    "            position+=n\n",
    "        else:\n",
    "            position+=0\n",
    "        pnl[t+1] = position * G * B[t] + pnl[t]\n",
    "    pnl_T= pnl[-1] + position*(tick_data.iloc[T[d]-1]-G)\n",
    "    return pnl,pnl_T,position "
   ]
  },
  {
   "cell_type": "code",
   "execution_count": 22,
   "metadata": {},
   "outputs": [],
   "source": [
    "def net_profit(G,T,n,tick_data):\n",
    "    profit = np.zeros(D)\n",
    "    for d in range (D):\n",
    "        if d == 0:\n",
    "            position = 0\n",
    "            pnl, pnl_T, position = compute_pnl_t(G, T, n, tick_data,d,position)\n",
    "            profit[d] = pnl_T\n",
    "        else:\n",
    "            pnl, pnl_T, position = compute_pnl_t(G, T, n, tick_data,d,position)\n",
    "            profit[d] = pnl_T + profit[d-1]\n",
    "    net_profit = profit[-1] \n",
    "    return -net_profit"
   ]
  },
  {
   "cell_type": "code",
   "execution_count": 23,
   "metadata": {},
   "outputs": [],
   "source": [
    "def position_constraint(params, T, n, tick_data,d,position):\n",
    "    G = params[0]\n",
    "    _, _, position = compute_pnl_t(G, T, n, tick_data,d,position)  # You might want to update these arguments based on your loop in net_profit\n",
    "    return min(10000000 - abs(position), abs(position) + 10000000)\n",
    "\n",
    "def pnl_constraint(params, T, n, tick_data,d,position):\n",
    "    G = params[0]\n",
    "    pnl, _, _= compute_pnl_t(G, T, n, tick_data,d,position)  # You might want to update these arguments based on your loop in net_profit\n",
    "    return min(pnl) + 150000\n",
    "\n",
    "def profit_constraint(params, T, n, tick_data):\n",
    "    G = params[0]\n",
    "    net_profit_value = net_profit(G, T, n, tick_data)\n",
    "    return net_profit_value + 500000\n"
   ]
  },
  {
   "cell_type": "code",
   "execution_count": 12,
   "metadata": {},
   "outputs": [
    {
     "name": "stdout",
     "output_type": "stream",
     "text": [
      "2023-09-16 18:14:37,400 - findatapy.market.datavendorweb - INFO - Request Dukascopy data\n",
      "2023-09-16 18:14:37,401 - findatapy.market.datavendorweb - INFO - About to download from Dukascopy... for EURUSD\n",
      "2023-09-16 18:14:37,473 - findatapy.market.datavendorweb - INFO - Downloading... 2023-08-15 00:00:00 https://www.dukascopy.com/datafeed/EURUSD/2023/07/15/00h_ticks.bi5\n",
      "2023-09-16 18:14:43,529 - findatapy.market.datavendorweb - INFO - Completed request from Dukascopy\n",
      "2023-09-16 18:14:45,636 - findatapy.market.ioengine - WARNING - Couldn't push MarketDataRequest_858__abstract_curve_key-None__base_depos_currencies-EUR_GBP_AUD_NZD_USD_CAD_CHF_NOK_SEK_JPY__base_depos_tenor-ON_TN_SN_1W_2W_3W_1M_... to Redis: Error 10061 connecting to 127.0.0.1:6379. No connection could be made because the target machine actively refused it.\n",
      "Date: 2023-08-15, Number of ticks: 108011\n"
     ]
    }
   ],
   "source": [
    "#fix n constant for now\n",
    "n = 1000 #fix n\n",
    "# lets try data of one day\n",
    "tick_data = dfb.get_tick_data('15 Aug 2023','16 Aug 2023')['EURUSD.mid']\n",
    "T,D =count_ticks_by_date(tick_data)"
   ]
  },
  {
   "cell_type": "code",
   "execution_count": 23,
   "metadata": {},
   "outputs": [
    {
     "data": {
      "text/plain": [
       "24"
      ]
     },
     "execution_count": 23,
     "metadata": {},
     "output_type": "execute_result"
    }
   ],
   "source": [
    "B,V = B_value(tick_data, 0.001, ladderize_open)\n",
    "len(B)"
   ]
  },
  {
   "cell_type": "code",
   "execution_count": 27,
   "metadata": {},
   "outputs": [
    {
     "data": {
      "text/plain": [
       "[1.0907800197601318,\n",
       " 1.091825008392334,\n",
       " 1.0927850008010864,\n",
       " 1.0917699337005615,\n",
       " 1.0927850008010864,\n",
       " 1.0937800407409668,\n",
       " 1.0927749872207642,\n",
       " 1.0916650295257568,\n",
       " 1.0907750129699707,\n",
       " 1.0897600650787354,\n",
       " 1.0908050537109375,\n",
       " 1.091784954071045,\n",
       " 1.0927900075912476,\n",
       " 1.0917799472808838,\n",
       " 1.0927900075912476,\n",
       " 1.093785047531128,\n",
       " 1.0948200225830078,\n",
       " 1.0937700271606445,\n",
       " 1.092764973640442,\n",
       " 1.0937800407409668,\n",
       " 1.0927749872207642,\n",
       " 1.0917799472808838,\n",
       " 1.0907050371170044,\n",
       " 1.0903899669647217]"
      ]
     },
     "execution_count": 27,
     "metadata": {},
     "output_type": "execute_result"
    }
   ],
   "source": [
    "V"
   ]
  },
  {
   "cell_type": "code",
   "execution_count": null,
   "metadata": {},
   "outputs": [],
   "source": [
    "def c(tick_data,grid_size):\n",
    "    ladderized_data = ladderized_function(tick_data,grid_size)\n",
    "    jumps = filter_jumps(ladderized_data)\n",
    "    binomial_data.dropna(inplace=True)\n",
    "    return binomial_data.to_list()"
   ]
  },
  {
   "cell_type": "code",
   "execution_count": 26,
   "metadata": {},
   "outputs": [
    {
     "ename": "IndexError",
     "evalue": "list index out of range",
     "output_type": "error",
     "traceback": [
      "\u001b[1;31m---------------------------------------------------------------------------\u001b[0m",
      "\u001b[1;31mIndexError\u001b[0m                                Traceback (most recent call last)",
      "\u001b[1;32mc:\\Users\\Jenny\\Documents\\UIUC_workspace\\Practicum\\bp-Trading\\Try1.ipynb Cell 8\u001b[0m line \u001b[0;36m1\n\u001b[0;32m      <a href='vscode-notebook-cell:/c%3A/Users/Jenny/Documents/UIUC_workspace/Practicum/bp-Trading/Try1.ipynb#X10sZmlsZQ%3D%3D?line=6'>7</a>\u001b[0m \u001b[39m# Initial guess for G\u001b[39;00m\n\u001b[0;32m      <a href='vscode-notebook-cell:/c%3A/Users/Jenny/Documents/UIUC_workspace/Practicum/bp-Trading/Try1.ipynb#X10sZmlsZQ%3D%3D?line=7'>8</a>\u001b[0m initial_G \u001b[39m=\u001b[39m [\u001b[39m0.001\u001b[39m]\n\u001b[1;32m---> <a href='vscode-notebook-cell:/c%3A/Users/Jenny/Documents/UIUC_workspace/Practicum/bp-Trading/Try1.ipynb#X10sZmlsZQ%3D%3D?line=9'>10</a>\u001b[0m result \u001b[39m=\u001b[39m minimize(\u001b[39mlambda\u001b[39;00m x: \u001b[39m-\u001b[39mnet_profit(x[\u001b[39m0\u001b[39m], T, n, tick_data),\n\u001b[0;32m     <a href='vscode-notebook-cell:/c%3A/Users/Jenny/Documents/UIUC_workspace/Practicum/bp-Trading/Try1.ipynb#X10sZmlsZQ%3D%3D?line=10'>11</a>\u001b[0m                   initial_G,\n\u001b[0;32m     <a href='vscode-notebook-cell:/c%3A/Users/Jenny/Documents/UIUC_workspace/Practicum/bp-Trading/Try1.ipynb#X10sZmlsZQ%3D%3D?line=11'>12</a>\u001b[0m                   constraints\u001b[39m=\u001b[39mconstraints,\n\u001b[0;32m     <a href='vscode-notebook-cell:/c%3A/Users/Jenny/Documents/UIUC_workspace/Practicum/bp-Trading/Try1.ipynb#X10sZmlsZQ%3D%3D?line=12'>13</a>\u001b[0m                   bounds\u001b[39m=\u001b[39m[(\u001b[39m0\u001b[39m, \u001b[39mNone\u001b[39;00m)])\n\u001b[0;32m     <a href='vscode-notebook-cell:/c%3A/Users/Jenny/Documents/UIUC_workspace/Practicum/bp-Trading/Try1.ipynb#X10sZmlsZQ%3D%3D?line=15'>16</a>\u001b[0m \u001b[39m# The optimal G should now be stored in result.x\u001b[39;00m\n\u001b[0;32m     <a href='vscode-notebook-cell:/c%3A/Users/Jenny/Documents/UIUC_workspace/Practicum/bp-Trading/Try1.ipynb#X10sZmlsZQ%3D%3D?line=16'>17</a>\u001b[0m optimal_G \u001b[39m=\u001b[39m result\u001b[39m.\u001b[39mx[\u001b[39m0\u001b[39m]\n",
      "File \u001b[1;32mc:\\Users\\Jenny\\anaconda3\\Lib\\site-packages\\scipy\\optimize\\_minimize.py:705\u001b[0m, in \u001b[0;36mminimize\u001b[1;34m(fun, x0, args, method, jac, hess, hessp, bounds, constraints, tol, callback, options)\u001b[0m\n\u001b[0;32m    702\u001b[0m     res \u001b[39m=\u001b[39m _minimize_cobyla(fun, x0, args, constraints, callback\u001b[39m=\u001b[39mcallback,\n\u001b[0;32m    703\u001b[0m                             \u001b[39m*\u001b[39m\u001b[39m*\u001b[39moptions)\n\u001b[0;32m    704\u001b[0m \u001b[39melif\u001b[39;00m meth \u001b[39m==\u001b[39m \u001b[39m'\u001b[39m\u001b[39mslsqp\u001b[39m\u001b[39m'\u001b[39m:\n\u001b[1;32m--> 705\u001b[0m     res \u001b[39m=\u001b[39m _minimize_slsqp(fun, x0, args, jac, bounds,\n\u001b[0;32m    706\u001b[0m                           constraints, callback\u001b[39m=\u001b[39mcallback, \u001b[39m*\u001b[39m\u001b[39m*\u001b[39moptions)\n\u001b[0;32m    707\u001b[0m \u001b[39melif\u001b[39;00m meth \u001b[39m==\u001b[39m \u001b[39m'\u001b[39m\u001b[39mtrust-constr\u001b[39m\u001b[39m'\u001b[39m:\n\u001b[0;32m    708\u001b[0m     res \u001b[39m=\u001b[39m _minimize_trustregion_constr(fun, x0, args, jac, hess, hessp,\n\u001b[0;32m    709\u001b[0m                                        bounds, constraints,\n\u001b[0;32m    710\u001b[0m                                        callback\u001b[39m=\u001b[39mcallback, \u001b[39m*\u001b[39m\u001b[39m*\u001b[39moptions)\n",
      "File \u001b[1;32mc:\\Users\\Jenny\\anaconda3\\Lib\\site-packages\\scipy\\optimize\\_slsqp_py.py:329\u001b[0m, in \u001b[0;36m_minimize_slsqp\u001b[1;34m(func, x0, args, jac, bounds, constraints, maxiter, ftol, iprint, disp, eps, callback, finite_diff_rel_step, **unknown_options)\u001b[0m\n\u001b[0;32m    325\u001b[0m \u001b[39m# Set the parameters that SLSQP will need\u001b[39;00m\n\u001b[0;32m    326\u001b[0m \u001b[39m# meq, mieq: number of equality and inequality constraints\u001b[39;00m\n\u001b[0;32m    327\u001b[0m meq \u001b[39m=\u001b[39m \u001b[39msum\u001b[39m(\u001b[39mmap\u001b[39m(\u001b[39mlen\u001b[39m, [atleast_1d(c[\u001b[39m'\u001b[39m\u001b[39mfun\u001b[39m\u001b[39m'\u001b[39m](x, \u001b[39m*\u001b[39mc[\u001b[39m'\u001b[39m\u001b[39margs\u001b[39m\u001b[39m'\u001b[39m]))\n\u001b[0;32m    328\u001b[0m           \u001b[39mfor\u001b[39;00m c \u001b[39min\u001b[39;00m cons[\u001b[39m'\u001b[39m\u001b[39meq\u001b[39m\u001b[39m'\u001b[39m]]))\n\u001b[1;32m--> 329\u001b[0m mieq \u001b[39m=\u001b[39m \u001b[39msum\u001b[39m(\u001b[39mmap\u001b[39m(\u001b[39mlen\u001b[39m, [atleast_1d(c[\u001b[39m'\u001b[39m\u001b[39mfun\u001b[39m\u001b[39m'\u001b[39m](x, \u001b[39m*\u001b[39mc[\u001b[39m'\u001b[39m\u001b[39margs\u001b[39m\u001b[39m'\u001b[39m]))\n\u001b[0;32m    330\u001b[0m            \u001b[39mfor\u001b[39;00m c \u001b[39min\u001b[39;00m cons[\u001b[39m'\u001b[39m\u001b[39mineq\u001b[39m\u001b[39m'\u001b[39m]]))\n\u001b[0;32m    331\u001b[0m \u001b[39m# m = The total number of constraints\u001b[39;00m\n\u001b[0;32m    332\u001b[0m m \u001b[39m=\u001b[39m meq \u001b[39m+\u001b[39m mieq\n",
      "File \u001b[1;32mc:\\Users\\Jenny\\anaconda3\\Lib\\site-packages\\scipy\\optimize\\_slsqp_py.py:329\u001b[0m, in \u001b[0;36m<listcomp>\u001b[1;34m(.0)\u001b[0m\n\u001b[0;32m    325\u001b[0m \u001b[39m# Set the parameters that SLSQP will need\u001b[39;00m\n\u001b[0;32m    326\u001b[0m \u001b[39m# meq, mieq: number of equality and inequality constraints\u001b[39;00m\n\u001b[0;32m    327\u001b[0m meq \u001b[39m=\u001b[39m \u001b[39msum\u001b[39m(\u001b[39mmap\u001b[39m(\u001b[39mlen\u001b[39m, [atleast_1d(c[\u001b[39m'\u001b[39m\u001b[39mfun\u001b[39m\u001b[39m'\u001b[39m](x, \u001b[39m*\u001b[39mc[\u001b[39m'\u001b[39m\u001b[39margs\u001b[39m\u001b[39m'\u001b[39m]))\n\u001b[0;32m    328\u001b[0m           \u001b[39mfor\u001b[39;00m c \u001b[39min\u001b[39;00m cons[\u001b[39m'\u001b[39m\u001b[39meq\u001b[39m\u001b[39m'\u001b[39m]]))\n\u001b[1;32m--> 329\u001b[0m mieq \u001b[39m=\u001b[39m \u001b[39msum\u001b[39m(\u001b[39mmap\u001b[39m(\u001b[39mlen\u001b[39m, [atleast_1d(c[\u001b[39m'\u001b[39m\u001b[39mfun\u001b[39m\u001b[39m'\u001b[39m](x, \u001b[39m*\u001b[39mc[\u001b[39m'\u001b[39m\u001b[39margs\u001b[39m\u001b[39m'\u001b[39m]))\n\u001b[0;32m    330\u001b[0m            \u001b[39mfor\u001b[39;00m c \u001b[39min\u001b[39;00m cons[\u001b[39m'\u001b[39m\u001b[39mineq\u001b[39m\u001b[39m'\u001b[39m]]))\n\u001b[0;32m    331\u001b[0m \u001b[39m# m = The total number of constraints\u001b[39;00m\n\u001b[0;32m    332\u001b[0m m \u001b[39m=\u001b[39m meq \u001b[39m+\u001b[39m mieq\n",
      "\u001b[1;32mc:\\Users\\Jenny\\Documents\\UIUC_workspace\\Practicum\\bp-Trading\\Try1.ipynb Cell 8\u001b[0m line \u001b[0;36m2\n\u001b[0;32m      <a href='vscode-notebook-cell:/c%3A/Users/Jenny/Documents/UIUC_workspace/Practicum/bp-Trading/Try1.ipynb#X10sZmlsZQ%3D%3D?line=0'>1</a>\u001b[0m \u001b[39m#optimixation\u001b[39;00m\n\u001b[1;32m----> <a href='vscode-notebook-cell:/c%3A/Users/Jenny/Documents/UIUC_workspace/Practicum/bp-Trading/Try1.ipynb#X10sZmlsZQ%3D%3D?line=1'>2</a>\u001b[0m constraints \u001b[39m=\u001b[39m [{\u001b[39m'\u001b[39m\u001b[39mtype\u001b[39m\u001b[39m'\u001b[39m: \u001b[39m'\u001b[39m\u001b[39mineq\u001b[39m\u001b[39m'\u001b[39m, \u001b[39m'\u001b[39m\u001b[39mfun\u001b[39m\u001b[39m'\u001b[39m: \u001b[39mlambda\u001b[39;00m params: position_constraint(params, T, n, tick_data,d\u001b[39m=\u001b[39m\u001b[39m0\u001b[39m,position\u001b[39m=\u001b[39m\u001b[39m0\u001b[39m)},\n\u001b[0;32m      <a href='vscode-notebook-cell:/c%3A/Users/Jenny/Documents/UIUC_workspace/Practicum/bp-Trading/Try1.ipynb#X10sZmlsZQ%3D%3D?line=2'>3</a>\u001b[0m                {\u001b[39m'\u001b[39m\u001b[39mtype\u001b[39m\u001b[39m'\u001b[39m: \u001b[39m'\u001b[39m\u001b[39mineq\u001b[39m\u001b[39m'\u001b[39m, \u001b[39m'\u001b[39m\u001b[39mfun\u001b[39m\u001b[39m'\u001b[39m: \u001b[39mlambda\u001b[39;00m params: pnl_constraint(params, T, n, tick_data,d\u001b[39m=\u001b[39m\u001b[39m0\u001b[39m,position\u001b[39m=\u001b[39m\u001b[39m0\u001b[39m)},\n\u001b[0;32m      <a href='vscode-notebook-cell:/c%3A/Users/Jenny/Documents/UIUC_workspace/Practicum/bp-Trading/Try1.ipynb#X10sZmlsZQ%3D%3D?line=3'>4</a>\u001b[0m                {\u001b[39m'\u001b[39m\u001b[39mtype\u001b[39m\u001b[39m'\u001b[39m: \u001b[39m'\u001b[39m\u001b[39mineq\u001b[39m\u001b[39m'\u001b[39m, \u001b[39m'\u001b[39m\u001b[39mfun\u001b[39m\u001b[39m'\u001b[39m: \u001b[39mlambda\u001b[39;00m params: profit_constraint(params, T, n, tick_data)}]\n\u001b[0;32m      <a href='vscode-notebook-cell:/c%3A/Users/Jenny/Documents/UIUC_workspace/Practicum/bp-Trading/Try1.ipynb#X10sZmlsZQ%3D%3D?line=6'>7</a>\u001b[0m \u001b[39m# Initial guess for G\u001b[39;00m\n\u001b[0;32m      <a href='vscode-notebook-cell:/c%3A/Users/Jenny/Documents/UIUC_workspace/Practicum/bp-Trading/Try1.ipynb#X10sZmlsZQ%3D%3D?line=7'>8</a>\u001b[0m initial_G \u001b[39m=\u001b[39m [\u001b[39m0.001\u001b[39m]\n",
      "\u001b[1;32mc:\\Users\\Jenny\\Documents\\UIUC_workspace\\Practicum\\bp-Trading\\Try1.ipynb Cell 8\u001b[0m line \u001b[0;36m3\n\u001b[0;32m      <a href='vscode-notebook-cell:/c%3A/Users/Jenny/Documents/UIUC_workspace/Practicum/bp-Trading/Try1.ipynb#X10sZmlsZQ%3D%3D?line=0'>1</a>\u001b[0m \u001b[39mdef\u001b[39;00m \u001b[39mposition_constraint\u001b[39m(params, T, n, tick_data,d,position):\n\u001b[0;32m      <a href='vscode-notebook-cell:/c%3A/Users/Jenny/Documents/UIUC_workspace/Practicum/bp-Trading/Try1.ipynb#X10sZmlsZQ%3D%3D?line=1'>2</a>\u001b[0m     G \u001b[39m=\u001b[39m params[\u001b[39m0\u001b[39m]\n\u001b[1;32m----> <a href='vscode-notebook-cell:/c%3A/Users/Jenny/Documents/UIUC_workspace/Practicum/bp-Trading/Try1.ipynb#X10sZmlsZQ%3D%3D?line=2'>3</a>\u001b[0m     _, _, position \u001b[39m=\u001b[39m compute_pnl_t(G, T, n, tick_data,d,position)  \u001b[39m# You might want to update these arguments based on your loop in net_profit\u001b[39;00m\n\u001b[0;32m      <a href='vscode-notebook-cell:/c%3A/Users/Jenny/Documents/UIUC_workspace/Practicum/bp-Trading/Try1.ipynb#X10sZmlsZQ%3D%3D?line=3'>4</a>\u001b[0m     \u001b[39mreturn\u001b[39;00m \u001b[39mmin\u001b[39m(\u001b[39m10000000\u001b[39m \u001b[39m-\u001b[39m \u001b[39mabs\u001b[39m(position), \u001b[39mabs\u001b[39m(position) \u001b[39m+\u001b[39m \u001b[39m10000000\u001b[39m)\n",
      "\u001b[1;32mc:\\Users\\Jenny\\Documents\\UIUC_workspace\\Practicum\\bp-Trading\\Try1.ipynb Cell 8\u001b[0m line \u001b[0;36m6\n\u001b[0;32m      <a href='vscode-notebook-cell:/c%3A/Users/Jenny/Documents/UIUC_workspace/Practicum/bp-Trading/Try1.ipynb#X10sZmlsZQ%3D%3D?line=3'>4</a>\u001b[0m pnl \u001b[39m=\u001b[39m np\u001b[39m.\u001b[39mzeros(T[d])\n\u001b[0;32m      <a href='vscode-notebook-cell:/c%3A/Users/Jenny/Documents/UIUC_workspace/Practicum/bp-Trading/Try1.ipynb#X10sZmlsZQ%3D%3D?line=4'>5</a>\u001b[0m \u001b[39mfor\u001b[39;00m t \u001b[39min\u001b[39;00m \u001b[39mrange\u001b[39m (T[d]\u001b[39m-\u001b[39m\u001b[39m1\u001b[39m):\n\u001b[1;32m----> <a href='vscode-notebook-cell:/c%3A/Users/Jenny/Documents/UIUC_workspace/Practicum/bp-Trading/Try1.ipynb#X10sZmlsZQ%3D%3D?line=5'>6</a>\u001b[0m     \u001b[39mif\u001b[39;00m B[t] \u001b[39m>\u001b[39m \u001b[39m0\u001b[39m: \u001b[39m################ how to change t when day change>> Can i use if else for T period?\u001b[39;00m\n\u001b[0;32m      <a href='vscode-notebook-cell:/c%3A/Users/Jenny/Documents/UIUC_workspace/Practicum/bp-Trading/Try1.ipynb#X10sZmlsZQ%3D%3D?line=6'>7</a>\u001b[0m         position\u001b[39m-\u001b[39m\u001b[39m=\u001b[39mn\n\u001b[0;32m      <a href='vscode-notebook-cell:/c%3A/Users/Jenny/Documents/UIUC_workspace/Practicum/bp-Trading/Try1.ipynb#X10sZmlsZQ%3D%3D?line=7'>8</a>\u001b[0m     \u001b[39melif\u001b[39;00m B[t] \u001b[39m<\u001b[39m \u001b[39m0\u001b[39m: \u001b[39m################ lets try one day first this can neglect for now\u001b[39;00m\n",
      "\u001b[1;31mIndexError\u001b[0m: list index out of range"
     ]
    }
   ],
   "source": [
    "#optimixation\n",
    "constraints = [{'type': 'ineq', 'fun': lambda params: position_constraint(params, T, n, tick_data,d=0,position=0)},\n",
    "               {'type': 'ineq', 'fun': lambda params: pnl_constraint(params, T, n, tick_data,d=0,position=0)},\n",
    "               {'type': 'ineq', 'fun': lambda params: profit_constraint(params, T, n, tick_data)}]\n",
    "\n",
    "\n",
    "# Initial guess for G\n",
    "initial_G = [0.001]\n",
    "\n",
    "result = minimize(lambda x: -net_profit(x[0], T, n, tick_data),\n",
    "                  initial_G,\n",
    "                  constraints=constraints,\n",
    "                  bounds=[(0, None)])\n",
    "\n",
    "\n",
    "# The optimal G should now be stored in result.x\n",
    "optimal_G = result.x[0]\n",
    "print(optimal_G)"
   ]
  }
 ],
 "metadata": {
  "kernelspec": {
   "display_name": "base",
   "language": "python",
   "name": "python3"
  },
  "language_info": {
   "codemirror_mode": {
    "name": "ipython",
    "version": 3
   },
   "file_extension": ".py",
   "mimetype": "text/x-python",
   "name": "python",
   "nbconvert_exporter": "python",
   "pygments_lexer": "ipython3",
   "version": "3.11.4"
  },
  "orig_nbformat": 4
 },
 "nbformat": 4,
 "nbformat_minor": 2
}
