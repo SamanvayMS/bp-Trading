{
 "cells": [
  {
   "attachments": {},
   "cell_type": "markdown",
   "metadata": {},
   "source": [
    "# Group 3 Runs without std consideration"
   ]
  },
  {
   "cell_type": "code",
   "execution_count": 1,
   "metadata": {},
   "outputs": [],
   "source": [
    "from GA_optimiser import *\n",
    "import os"
   ]
  },
  {
   "cell_type": "code",
   "execution_count": 2,
   "metadata": {},
   "outputs": [
    {
     "name": "stdout",
     "output_type": "stream",
     "text": [
      "number of grid params:- 18.0\n",
      "number of lot params:- 19.0\n",
      "number of I_type params:- 2\n",
      "number of lookback params:- 7\n",
      "number of scaling_factor params:- 8.0\n",
      "total_number_of_combinations:- 38304.0\n"
     ]
    }
   ],
   "source": [
    "grid_params = [0.001,0.01,0.0005]\n",
    "lot_params = [100000,2000000,100000]\n",
    "I_type = ['v','a']\n",
    "lookback_params = [9,20,30,50,100,150,200]\n",
    "scaling_factor_params = [1,5,0.5]\n",
    "\n",
    "n_grid_params = ((grid_params[1]-grid_params[0])/grid_params[2])\n",
    "n_lot_params = ((lot_params[1]-lot_params[0])/lot_params[2])\n",
    "n_I_type_params = len(I_type)\n",
    "n_lookback_params = len(lookback_params)\n",
    "n_scaling_factor_params = ((scaling_factor_params[1]-scaling_factor_params[0])/scaling_factor_params[2])\n",
    "print('number of grid params:-',(n_grid_params))\n",
    "print('number of lot params:-',(n_lot_params))\n",
    "print('number of I_type params:-',(n_I_type_params))\n",
    "print('number of lookback params:-',(n_lookback_params))\n",
    "print('number of scaling_factor params:-',(n_scaling_factor_params))\n",
    "print('total_number_of_combinations:-',(n_grid_params*n_lot_params*n_I_type_params*n_lookback_params*n_scaling_factor_params))\n",
    "\n",
    "parameters = [grid_params,lot_params,I_type,lookback_params,scaling_factor_params]\n",
    "\n",
    "# Adjust these parameter according to search space\n",
    "n_trials = 50 #NGEN\n",
    "npop = 100\n",
    "early_stopping_gen = n_trials # no early stopping\n",
    "optimizer_param = [n_trials, npop, early_stopping_gen]"
   ]
  },
  {
   "cell_type": "code",
   "execution_count": 3,
   "metadata": {},
   "outputs": [
    {
     "name": "stdout",
     "output_type": "stream",
     "text": [
      "Data gathered for training period:  01 Jan 2013 31 Dec 2013\n",
      "Data gathered for testing period:  01 Jan 2014 31 Jan 2014\n"
     ]
    }
   ],
   "source": [
    "gen_results('jan 2014','jan 2022',12,1,parameters=parameters,optimizer_param=optimizer_param)\n",
    "gen_results('jan 2014','jan 2022',6,1,parameters=parameters,optimizer_param=optimizer_param)\n",
    "gen_results('jan 2014','jan 2022',3,1,parameters=parameters,optimizer_param=optimizer_param)"
   ]
  }
 ],
 "metadata": {
  "kernelspec": {
   "display_name": "tradingenv",
   "language": "python",
   "name": "python3"
  },
  "language_info": {
   "codemirror_mode": {
    "name": "ipython",
    "version": 3
   },
   "file_extension": ".py",
   "mimetype": "text/x-python",
   "name": "python",
   "nbconvert_exporter": "python",
   "pygments_lexer": "ipython3",
   "version": "3.11.5"
  },
  "orig_nbformat": 4
 },
 "nbformat": 4,
 "nbformat_minor": 2
}
