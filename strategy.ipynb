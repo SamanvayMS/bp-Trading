{
 "cells": [
  {
   "cell_type": "code",
   "execution_count": 15,
   "metadata": {},
   "outputs": [],
   "source": [
    "import pandas as pd\n",
    "import numpy as np\n",
    "import matplotlib.pyplot as plt\n",
    "import ta"
   ]
  },
  {
   "attachments": {},
   "cell_type": "markdown",
   "metadata": {},
   "source": [
    "## Read the data into a dataframe\n",
    "- jenny"
   ]
  },
  {
   "cell_type": "code",
   "execution_count": null,
   "metadata": {},
   "outputs": [],
   "source": [
    "def read_data(csv_file):\n",
    "    pass\n",
    "    # return df"
   ]
  },
  {
   "attachments": {},
   "cell_type": "markdown",
   "metadata": {},
   "source": [
    "## build function to stop trading between 4pm and 5pm everyday\n",
    "- jenny"
   ]
  },
  {
   "cell_type": "code",
   "execution_count": null,
   "metadata": {},
   "outputs": [],
   "source": [
    "def market_closed():\n",
    "    # return true or false"
   ]
  },
  {
   "attachments": {},
   "cell_type": "markdown",
   "metadata": {},
   "source": [
    "## build a function to track trades and add linked trades"
   ]
  },
  {
   "cell_type": "code",
   "execution_count": null,
   "metadata": {},
   "outputs": [],
   "source": [
    "def trade_tracker(trade_df,current_trade):\n",
    "    trade = [current_trade.price,current_trade.quantity,current_trade.time] \n",
    "    trade_df = trade_df.append(current_trade)\n",
    "    # return trade_df\n"
   ]
  },
  {
   "cell_type": "code",
   "execution_count": null,
   "metadata": {},
   "outputs": [],
   "source": [
    "def assign_values(df,row):\n",
    "    current_values = df[row]\n",
    "    previous_values = df[row].shift(1)\n",
    "    return previous_values,current_values"
   ]
  },
  {
   "cell_type": "code",
   "execution_count": null,
   "metadata": {},
   "outputs": [],
   "source": [
    "def strategy(df):\n",
    "    for row in df:\n",
    "        grid = build_grid()\n",
    "        if buy_condition():\n",
    "            # buy \n",
    "            current_trade = {price: , quantity: , time: }\n",
    "            trade_df = trade_tracker(trade_df,current_trade)\n",
    "        \n",
    "        if sell_condition():\n",
    "            # sell\n",
    "            current_trade = {price: , quantity: , time: }\n",
    "            trade_df = trade_tracker(trade_df,current_trade)\n",
    "        \n",
    "    return trade_df, trade_tracker, current_trade\n"
   ]
  }
 ],
 "metadata": {
  "kernelspec": {
   "display_name": "tradingenv",
   "language": "python",
   "name": "python3"
  },
  "language_info": {
   "codemirror_mode": {
    "name": "ipython",
    "version": 3
   },
   "file_extension": ".py",
   "mimetype": "text/x-python",
   "name": "python",
   "nbconvert_exporter": "python",
   "pygments_lexer": "ipython3",
   "version": "3.11.5"
  },
  "orig_nbformat": 4
 },
 "nbformat": 4,
 "nbformat_minor": 2
}
