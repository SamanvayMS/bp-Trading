{
 "cells": [
  {
   "cell_type": "markdown",
   "metadata": {},
   "source": [
    "# optuna_optimiser_g_n_d_multiplier"
   ]
  },
  {
   "cell_type": "code",
   "execution_count": 2,
   "metadata": {},
   "outputs": [],
   "source": [
    "import numpy as np\n",
    "import matplotlib.pyplot as plt\n",
    "from tqdm import tqdm\n",
    "import numpy as np\n",
    "import pandas as pd\n",
    "from bp import data_gather_from_files,run_strategy_optimised,run_strategy_eval\n",
    "import seaborn as sns\n",
    "import time\n",
    "import scipy\n",
    "from datetime import datetime\n",
    "from dateutil.relativedelta import relativedelta"
   ]
  },
  {
   "cell_type": "code",
   "execution_count": 3,
   "metadata": {},
   "outputs": [
    {
     "data": {
      "text/plain": [
       "(-102600.0, -113759.0271, 9962190.0, 65120.3874, 389850.0)"
      ]
     },
     "execution_count": 3,
     "metadata": {},
     "output_type": "execute_result"
    }
   ],
   "source": [
    "data = data_gather_from_files('1 jul 2020','31 dec 2020')['EURUSD.mid']\n",
    "run_strategy_optimised(data, 0.006, 300000, 4)"
   ]
  },
  {
   "cell_type": "code",
   "execution_count": null,
   "metadata": {},
   "outputs": [],
   "source": [
    "run_strategy_eval(data, 0.002, 200_000, 7, multiplier=2.4,\n",
    "                      indicator_type='v', indicator_scale=5, lookback=100,\n",
    "                      print_trade_book=False, trade_plot=False)"
   ]
  },
  {
   "cell_type": "code",
   "execution_count": null,
   "metadata": {},
   "outputs": [],
   "source": [
    "run_strategy_eval(data, 0.006, 300000, 4, trade_plot=True)"
   ]
  },
  {
   "cell_type": "code",
   "execution_count": 5,
   "metadata": {},
   "outputs": [
    {
     "data": {
      "text/plain": [
       "(-8160.0, -19660.0, 1055070.0, 11500.0, -8160.0)"
      ]
     },
     "execution_count": 5,
     "metadata": {},
     "output_type": "execute_result"
    }
   ],
   "source": [
    "data = data_gather_from_files('1 oct 2020','31 mar 2021')['EURUSD.mid']\n",
    "run_strategy_optimised(data, 0.01, 100000, 5)"
   ]
  },
  {
   "cell_type": "code",
   "execution_count": null,
   "metadata": {},
   "outputs": [],
   "source": [
    "run_strategy_eval(data, 0.01, 100000, 5, trade_plot=True)"
   ]
  },
  {
   "cell_type": "code",
   "execution_count": 9,
   "metadata": {},
   "outputs": [
    {
     "data": {
      "text/plain": [
       "(-20000.0, -66666.6667, 9760000.0, 200000.0001, 200000.0)"
      ]
     },
     "execution_count": 9,
     "metadata": {},
     "output_type": "execute_result"
    }
   ],
   "source": [
    "data = data_gather_from_files('1 jan 2021','30 june 2021')['EURUSD.mid']\n",
    "run_strategy_optimised(data, 0.01, 2_000_000, 11)"
   ]
  },
  {
   "cell_type": "code",
   "execution_count": null,
   "metadata": {},
   "outputs": [],
   "source": [
    "run_strategy_eval(data, 0.01, 2_000_000, 11, trade_plot=True)"
   ]
  },
  {
   "cell_type": "code",
   "execution_count": 10,
   "metadata": {},
   "outputs": [
    {
     "data": {
      "text/plain": [
       "(-156750.0, -142500.0, 9191250.0, 58800.0, 58800.0)"
      ]
     },
     "execution_count": 10,
     "metadata": {},
     "output_type": "execute_result"
    }
   ],
   "source": [
    "data = data_gather_from_files('1 apr 2021','30 sep 2021')['EURUSD.mid']\n",
    "run_strategy_optimised(data, 0.0095, 1_500_000, 8)"
   ]
  },
  {
   "cell_type": "code",
   "execution_count": null,
   "metadata": {},
   "outputs": [],
   "source": [
    "run_strategy_eval(data, 0.0095, 1_500_000, 8,trade_plot=True)"
   ]
  }
 ],
 "metadata": {
  "kernelspec": {
   "display_name": "base",
   "language": "python",
   "name": "python3"
  },
  "language_info": {
   "codemirror_mode": {
    "name": "ipython",
    "version": 3
   },
   "file_extension": ".py",
   "mimetype": "text/x-python",
   "name": "python",
   "nbconvert_exporter": "python",
   "pygments_lexer": "ipython3",
   "version": "3.11.4"
  }
 },
 "nbformat": 4,
 "nbformat_minor": 2
}
