{
 "cells": [
  {
   "cell_type": "code",
   "execution_count": 17,
   "metadata": {},
   "outputs": [],
   "source": [
    "import numpy as np\n",
    "import matplotlib.pyplot as plt\n",
    "import numpy as np\n",
    "import pandas as pd\n",
    "from Data_for_bp import data_gather_from_files,run_strategy_optimised,run_strategy_eval,ladderize_absolute,convert_to_grid_binomial_data,indicator_prep,build_lot_sizing\n",
    "import seaborn as sns"
   ]
  },
  {
   "cell_type": "code",
   "execution_count": 2,
   "metadata": {},
   "outputs": [],
   "source": [
    "tick_data = data_gather_from_files('1 jan 2021','31 jan 2021')['EURUSD.mid']"
   ]
  },
  {
   "cell_type": "code",
   "execution_count": 22,
   "metadata": {},
   "outputs": [
    {
     "name": "stdout",
     "output_type": "stream",
     "text": [
      "Iteration No: 1 started. Evaluating function at random point.\n"
     ]
    },
    {
     "ename": "AttributeError",
     "evalue": "module 'numpy' has no attribute 'int'.\n`np.int` was a deprecated alias for the builtin `int`. To avoid this error in existing code, use `int` by itself. Doing this will not modify any behavior and is safe. When replacing `np.int`, you may wish to use e.g. `np.int64` or `np.int32` to specify the precision. If you wish to review your current use, check the release note link for additional information.\nThe aliases was originally deprecated in NumPy 1.20; for more details and guidance see the original release note at:\n    https://numpy.org/devdocs/release/1.20.0-notes.html#deprecations",
     "output_type": "error",
     "traceback": [
      "\u001b[1;31m---------------------------------------------------------------------------\u001b[0m",
      "\u001b[1;31mAttributeError\u001b[0m                            Traceback (most recent call last)",
      "\u001b[1;32mc:\\Users\\Jenny\\Documents\\UIUC_workspace\\Practicum\\bp-Trading\\optimization - method copy.ipynb Cell 3\u001b[0m line \u001b[0;36m3\n\u001b[0;32m     <a href='vscode-notebook-cell:/c%3A/Users/Jenny/Documents/UIUC_workspace/Practicum/bp-Trading/optimization%20-%20method%20copy.ipynb#Y104sZmlsZQ%3D%3D?line=28'>29</a>\u001b[0m     \u001b[39mreturn\u001b[39;00m \u001b[39m-\u001b[39mR_PNL\n\u001b[0;32m     <a href='vscode-notebook-cell:/c%3A/Users/Jenny/Documents/UIUC_workspace/Practicum/bp-Trading/optimization%20-%20method%20copy.ipynb#Y104sZmlsZQ%3D%3D?line=30'>31</a>\u001b[0m \u001b[39m# Run the optimizer\u001b[39;00m\n\u001b[1;32m---> <a href='vscode-notebook-cell:/c%3A/Users/Jenny/Documents/UIUC_workspace/Practicum/bp-Trading/optimization%20-%20method%20copy.ipynb#Y104sZmlsZQ%3D%3D?line=31'>32</a>\u001b[0m result \u001b[39m=\u001b[39m gp_minimize(objective_with_constraints, space, n_calls\u001b[39m=\u001b[39m\u001b[39m50\u001b[39m, noise\u001b[39m=\u001b[39m\u001b[39m0.1\u001b[39m, n_random_starts\u001b[39m=\u001b[39m\u001b[39m10\u001b[39m, verbose\u001b[39m=\u001b[39m\u001b[39mTrue\u001b[39;00m)\n\u001b[0;32m     <a href='vscode-notebook-cell:/c%3A/Users/Jenny/Documents/UIUC_workspace/Practicum/bp-Trading/optimization%20-%20method%20copy.ipynb#Y104sZmlsZQ%3D%3D?line=33'>34</a>\u001b[0m optimal_G, optimal_n \u001b[39m=\u001b[39m result\u001b[39m.\u001b[39mx\n",
      "File \u001b[1;32mc:\\Users\\Jenny\\anaconda3\\Lib\\site-packages\\skopt\\optimizer\\gp.py:259\u001b[0m, in \u001b[0;36mgp_minimize\u001b[1;34m(func, dimensions, base_estimator, n_calls, n_random_starts, n_initial_points, initial_point_generator, acq_func, acq_optimizer, x0, y0, random_state, verbose, callback, n_points, n_restarts_optimizer, xi, kappa, noise, n_jobs, model_queue_size)\u001b[0m\n\u001b[0;32m    254\u001b[0m \u001b[39mif\u001b[39;00m base_estimator \u001b[39mis\u001b[39;00m \u001b[39mNone\u001b[39;00m:\n\u001b[0;32m    255\u001b[0m     base_estimator \u001b[39m=\u001b[39m cook_estimator(\n\u001b[0;32m    256\u001b[0m         \u001b[39m\"\u001b[39m\u001b[39mGP\u001b[39m\u001b[39m\"\u001b[39m, space\u001b[39m=\u001b[39mspace, random_state\u001b[39m=\u001b[39mrng\u001b[39m.\u001b[39mrandint(\u001b[39m0\u001b[39m, np\u001b[39m.\u001b[39miinfo(np\u001b[39m.\u001b[39mint32)\u001b[39m.\u001b[39mmax),\n\u001b[0;32m    257\u001b[0m         noise\u001b[39m=\u001b[39mnoise)\n\u001b[1;32m--> 259\u001b[0m \u001b[39mreturn\u001b[39;00m base_minimize(\n\u001b[0;32m    260\u001b[0m     func, space, base_estimator\u001b[39m=\u001b[39mbase_estimator,\n\u001b[0;32m    261\u001b[0m     acq_func\u001b[39m=\u001b[39macq_func,\n\u001b[0;32m    262\u001b[0m     xi\u001b[39m=\u001b[39mxi, kappa\u001b[39m=\u001b[39mkappa, acq_optimizer\u001b[39m=\u001b[39macq_optimizer, n_calls\u001b[39m=\u001b[39mn_calls,\n\u001b[0;32m    263\u001b[0m     n_points\u001b[39m=\u001b[39mn_points, n_random_starts\u001b[39m=\u001b[39mn_random_starts,\n\u001b[0;32m    264\u001b[0m     n_initial_points\u001b[39m=\u001b[39mn_initial_points,\n\u001b[0;32m    265\u001b[0m     initial_point_generator\u001b[39m=\u001b[39minitial_point_generator,\n\u001b[0;32m    266\u001b[0m     n_restarts_optimizer\u001b[39m=\u001b[39mn_restarts_optimizer,\n\u001b[0;32m    267\u001b[0m     x0\u001b[39m=\u001b[39mx0, y0\u001b[39m=\u001b[39my0, random_state\u001b[39m=\u001b[39mrng, verbose\u001b[39m=\u001b[39mverbose,\n\u001b[0;32m    268\u001b[0m     callback\u001b[39m=\u001b[39mcallback, n_jobs\u001b[39m=\u001b[39mn_jobs, model_queue_size\u001b[39m=\u001b[39mmodel_queue_size)\n",
      "File \u001b[1;32mc:\\Users\\Jenny\\anaconda3\\Lib\\site-packages\\skopt\\optimizer\\base.py:298\u001b[0m, in \u001b[0;36mbase_minimize\u001b[1;34m(func, dimensions, base_estimator, n_calls, n_random_starts, n_initial_points, initial_point_generator, acq_func, acq_optimizer, x0, y0, random_state, verbose, callback, n_points, n_restarts_optimizer, xi, kappa, n_jobs, model_queue_size)\u001b[0m\n\u001b[0;32m    296\u001b[0m \u001b[39m# Optimize\u001b[39;00m\n\u001b[0;32m    297\u001b[0m \u001b[39mfor\u001b[39;00m n \u001b[39min\u001b[39;00m \u001b[39mrange\u001b[39m(n_calls):\n\u001b[1;32m--> 298\u001b[0m     next_x \u001b[39m=\u001b[39m optimizer\u001b[39m.\u001b[39mask()\n\u001b[0;32m    299\u001b[0m     next_y \u001b[39m=\u001b[39m func(next_x)\n\u001b[0;32m    300\u001b[0m     result \u001b[39m=\u001b[39m optimizer\u001b[39m.\u001b[39mtell(next_x, next_y)\n",
      "File \u001b[1;32mc:\\Users\\Jenny\\anaconda3\\Lib\\site-packages\\skopt\\optimizer\\optimizer.py:367\u001b[0m, in \u001b[0;36mOptimizer.ask\u001b[1;34m(self, n_points, strategy)\u001b[0m\n\u001b[0;32m    336\u001b[0m \u001b[39m\u001b[39m\u001b[39m\"\"\"Query point or multiple points at which objective should be evaluated.\u001b[39;00m\n\u001b[0;32m    337\u001b[0m \n\u001b[0;32m    338\u001b[0m \u001b[39mn_points : int or None, default: None\u001b[39;00m\n\u001b[1;32m   (...)\u001b[0m\n\u001b[0;32m    364\u001b[0m \n\u001b[0;32m    365\u001b[0m \u001b[39m\"\"\"\u001b[39;00m\n\u001b[0;32m    366\u001b[0m \u001b[39mif\u001b[39;00m n_points \u001b[39mis\u001b[39;00m \u001b[39mNone\u001b[39;00m:\n\u001b[1;32m--> 367\u001b[0m     \u001b[39mreturn\u001b[39;00m \u001b[39mself\u001b[39m\u001b[39m.\u001b[39m_ask()\n\u001b[0;32m    369\u001b[0m supported_strategies \u001b[39m=\u001b[39m [\u001b[39m\"\u001b[39m\u001b[39mcl_min\u001b[39m\u001b[39m\"\u001b[39m, \u001b[39m\"\u001b[39m\u001b[39mcl_mean\u001b[39m\u001b[39m\"\u001b[39m, \u001b[39m\"\u001b[39m\u001b[39mcl_max\u001b[39m\u001b[39m\"\u001b[39m]\n\u001b[0;32m    371\u001b[0m \u001b[39mif\u001b[39;00m \u001b[39mnot\u001b[39;00m (\u001b[39misinstance\u001b[39m(n_points, \u001b[39mint\u001b[39m) \u001b[39mand\u001b[39;00m n_points \u001b[39m>\u001b[39m \u001b[39m0\u001b[39m):\n",
      "File \u001b[1;32mc:\\Users\\Jenny\\anaconda3\\Lib\\site-packages\\skopt\\optimizer\\optimizer.py:434\u001b[0m, in \u001b[0;36mOptimizer._ask\u001b[1;34m(self)\u001b[0m\n\u001b[0;32m    430\u001b[0m \u001b[39mif\u001b[39;00m \u001b[39mself\u001b[39m\u001b[39m.\u001b[39m_n_initial_points \u001b[39m>\u001b[39m \u001b[39m0\u001b[39m \u001b[39mor\u001b[39;00m \u001b[39mself\u001b[39m\u001b[39m.\u001b[39mbase_estimator_ \u001b[39mis\u001b[39;00m \u001b[39mNone\u001b[39;00m:\n\u001b[0;32m    431\u001b[0m     \u001b[39m# this will not make a copy of `self.rng` and hence keep advancing\u001b[39;00m\n\u001b[0;32m    432\u001b[0m     \u001b[39m# our random state.\u001b[39;00m\n\u001b[0;32m    433\u001b[0m     \u001b[39mif\u001b[39;00m \u001b[39mself\u001b[39m\u001b[39m.\u001b[39m_initial_samples \u001b[39mis\u001b[39;00m \u001b[39mNone\u001b[39;00m:\n\u001b[1;32m--> 434\u001b[0m         \u001b[39mreturn\u001b[39;00m \u001b[39mself\u001b[39m\u001b[39m.\u001b[39mspace\u001b[39m.\u001b[39mrvs(random_state\u001b[39m=\u001b[39m\u001b[39mself\u001b[39m\u001b[39m.\u001b[39mrng)[\u001b[39m0\u001b[39m]\n\u001b[0;32m    435\u001b[0m     \u001b[39melse\u001b[39;00m:\n\u001b[0;32m    436\u001b[0m         \u001b[39m# The samples are evaluated starting form initial_samples[0]\u001b[39;00m\n\u001b[0;32m    437\u001b[0m         \u001b[39mreturn\u001b[39;00m \u001b[39mself\u001b[39m\u001b[39m.\u001b[39m_initial_samples[\n\u001b[0;32m    438\u001b[0m             \u001b[39mlen\u001b[39m(\u001b[39mself\u001b[39m\u001b[39m.\u001b[39m_initial_samples) \u001b[39m-\u001b[39m \u001b[39mself\u001b[39m\u001b[39m.\u001b[39m_n_initial_points]\n",
      "File \u001b[1;32mc:\\Users\\Jenny\\anaconda3\\Lib\\site-packages\\skopt\\space\\space.py:900\u001b[0m, in \u001b[0;36mSpace.rvs\u001b[1;34m(self, n_samples, random_state)\u001b[0m\n\u001b[0;32m    897\u001b[0m columns \u001b[39m=\u001b[39m []\n\u001b[0;32m    899\u001b[0m \u001b[39mfor\u001b[39;00m dim \u001b[39min\u001b[39;00m \u001b[39mself\u001b[39m\u001b[39m.\u001b[39mdimensions:\n\u001b[1;32m--> 900\u001b[0m     columns\u001b[39m.\u001b[39mappend(dim\u001b[39m.\u001b[39mrvs(n_samples\u001b[39m=\u001b[39mn_samples, random_state\u001b[39m=\u001b[39mrng))\n\u001b[0;32m    902\u001b[0m \u001b[39m# Transpose\u001b[39;00m\n\u001b[0;32m    903\u001b[0m \u001b[39mreturn\u001b[39;00m _transpose_list_array(columns)\n",
      "File \u001b[1;32mc:\\Users\\Jenny\\anaconda3\\Lib\\site-packages\\skopt\\space\\space.py:158\u001b[0m, in \u001b[0;36mDimension.rvs\u001b[1;34m(self, n_samples, random_state)\u001b[0m\n\u001b[0;32m    156\u001b[0m rng \u001b[39m=\u001b[39m check_random_state(random_state)\n\u001b[0;32m    157\u001b[0m samples \u001b[39m=\u001b[39m \u001b[39mself\u001b[39m\u001b[39m.\u001b[39m_rvs\u001b[39m.\u001b[39mrvs(size\u001b[39m=\u001b[39mn_samples, random_state\u001b[39m=\u001b[39mrng)\n\u001b[1;32m--> 158\u001b[0m \u001b[39mreturn\u001b[39;00m \u001b[39mself\u001b[39m\u001b[39m.\u001b[39minverse_transform(samples)\n",
      "File \u001b[1;32mc:\\Users\\Jenny\\anaconda3\\Lib\\site-packages\\skopt\\space\\space.py:528\u001b[0m, in \u001b[0;36mInteger.inverse_transform\u001b[1;34m(self, Xt)\u001b[0m\n\u001b[0;32m    523\u001b[0m \u001b[39m\u001b[39m\u001b[39m\"\"\"Inverse transform samples from the warped space back into the\u001b[39;00m\n\u001b[0;32m    524\u001b[0m \u001b[39m   original space.\u001b[39;00m\n\u001b[0;32m    525\u001b[0m \u001b[39m\"\"\"\u001b[39;00m\n\u001b[0;32m    526\u001b[0m \u001b[39m# The concatenation of all transformed dimensions makes Xt to be\u001b[39;00m\n\u001b[0;32m    527\u001b[0m \u001b[39m# of type float, hence the required cast back to int.\u001b[39;00m\n\u001b[1;32m--> 528\u001b[0m inv_transform \u001b[39m=\u001b[39m \u001b[39msuper\u001b[39m(Integer, \u001b[39mself\u001b[39m)\u001b[39m.\u001b[39minverse_transform(Xt)\n\u001b[0;32m    529\u001b[0m \u001b[39mif\u001b[39;00m \u001b[39misinstance\u001b[39m(inv_transform, \u001b[39mlist\u001b[39m):\n\u001b[0;32m    530\u001b[0m     inv_transform \u001b[39m=\u001b[39m np\u001b[39m.\u001b[39marray(inv_transform)\n",
      "File \u001b[1;32mc:\\Users\\Jenny\\anaconda3\\Lib\\site-packages\\skopt\\space\\space.py:168\u001b[0m, in \u001b[0;36mDimension.inverse_transform\u001b[1;34m(self, Xt)\u001b[0m\n\u001b[0;32m    164\u001b[0m \u001b[39mdef\u001b[39;00m \u001b[39minverse_transform\u001b[39m(\u001b[39mself\u001b[39m, Xt):\n\u001b[0;32m    165\u001b[0m \u001b[39m    \u001b[39m\u001b[39m\"\"\"Inverse transform samples from the warped space back into the\u001b[39;00m\n\u001b[0;32m    166\u001b[0m \u001b[39m       original space.\u001b[39;00m\n\u001b[0;32m    167\u001b[0m \u001b[39m    \"\"\"\u001b[39;00m\n\u001b[1;32m--> 168\u001b[0m     \u001b[39mreturn\u001b[39;00m \u001b[39mself\u001b[39m\u001b[39m.\u001b[39mtransformer\u001b[39m.\u001b[39minverse_transform(Xt)\n",
      "File \u001b[1;32mc:\\Users\\Jenny\\anaconda3\\Lib\\site-packages\\skopt\\space\\transformers.py:309\u001b[0m, in \u001b[0;36mPipeline.inverse_transform\u001b[1;34m(self, X)\u001b[0m\n\u001b[0;32m    307\u001b[0m \u001b[39mdef\u001b[39;00m \u001b[39minverse_transform\u001b[39m(\u001b[39mself\u001b[39m, X):\n\u001b[0;32m    308\u001b[0m     \u001b[39mfor\u001b[39;00m transformer \u001b[39min\u001b[39;00m \u001b[39mself\u001b[39m\u001b[39m.\u001b[39mtransformers[::\u001b[39m-\u001b[39m\u001b[39m1\u001b[39m]:\n\u001b[1;32m--> 309\u001b[0m         X \u001b[39m=\u001b[39m transformer\u001b[39m.\u001b[39minverse_transform(X)\n\u001b[0;32m    310\u001b[0m     \u001b[39mreturn\u001b[39;00m X\n",
      "File \u001b[1;32mc:\\Users\\Jenny\\anaconda3\\Lib\\site-packages\\skopt\\space\\transformers.py:275\u001b[0m, in \u001b[0;36mNormalize.inverse_transform\u001b[1;34m(self, X)\u001b[0m\n\u001b[0;32m    273\u001b[0m X_orig \u001b[39m=\u001b[39m X \u001b[39m*\u001b[39m (\u001b[39mself\u001b[39m\u001b[39m.\u001b[39mhigh \u001b[39m-\u001b[39m \u001b[39mself\u001b[39m\u001b[39m.\u001b[39mlow) \u001b[39m+\u001b[39m \u001b[39mself\u001b[39m\u001b[39m.\u001b[39mlow\n\u001b[0;32m    274\u001b[0m \u001b[39mif\u001b[39;00m \u001b[39mself\u001b[39m\u001b[39m.\u001b[39mis_int:\n\u001b[1;32m--> 275\u001b[0m     \u001b[39mreturn\u001b[39;00m np\u001b[39m.\u001b[39mround(X_orig)\u001b[39m.\u001b[39mastype(np\u001b[39m.\u001b[39mint)\n\u001b[0;32m    276\u001b[0m \u001b[39mreturn\u001b[39;00m X_orig\n",
      "File \u001b[1;32mc:\\Users\\Jenny\\anaconda3\\Lib\\site-packages\\numpy\\__init__.py:305\u001b[0m, in \u001b[0;36m__getattr__\u001b[1;34m(attr)\u001b[0m\n\u001b[0;32m    300\u001b[0m     warnings\u001b[39m.\u001b[39mwarn(\n\u001b[0;32m    301\u001b[0m         \u001b[39mf\u001b[39m\u001b[39m\"\u001b[39m\u001b[39mIn the future `np.\u001b[39m\u001b[39m{\u001b[39;00mattr\u001b[39m}\u001b[39;00m\u001b[39m` will be defined as the \u001b[39m\u001b[39m\"\u001b[39m\n\u001b[0;32m    302\u001b[0m         \u001b[39m\"\u001b[39m\u001b[39mcorresponding NumPy scalar.\u001b[39m\u001b[39m\"\u001b[39m, \u001b[39mFutureWarning\u001b[39;00m, stacklevel\u001b[39m=\u001b[39m\u001b[39m2\u001b[39m)\n\u001b[0;32m    304\u001b[0m \u001b[39mif\u001b[39;00m attr \u001b[39min\u001b[39;00m __former_attrs__:\n\u001b[1;32m--> 305\u001b[0m     \u001b[39mraise\u001b[39;00m \u001b[39mAttributeError\u001b[39;00m(__former_attrs__[attr])\n\u001b[0;32m    307\u001b[0m \u001b[39m# Importing Tester requires importing all of UnitTest which is not a\u001b[39;00m\n\u001b[0;32m    308\u001b[0m \u001b[39m# cheap import Since it is mainly used in test suits, we lazy import it\u001b[39;00m\n\u001b[0;32m    309\u001b[0m \u001b[39m# here to save on the order of 10 ms of import time for most users\u001b[39;00m\n\u001b[0;32m    310\u001b[0m \u001b[39m#\u001b[39;00m\n\u001b[0;32m    311\u001b[0m \u001b[39m# The previous way Tester was imported also had a side effect of adding\u001b[39;00m\n\u001b[0;32m    312\u001b[0m \u001b[39m# the full `numpy.testing` namespace\u001b[39;00m\n\u001b[0;32m    313\u001b[0m \u001b[39mif\u001b[39;00m attr \u001b[39m==\u001b[39m \u001b[39m'\u001b[39m\u001b[39mtesting\u001b[39m\u001b[39m'\u001b[39m:\n",
      "\u001b[1;31mAttributeError\u001b[0m: module 'numpy' has no attribute 'int'.\n`np.int` was a deprecated alias for the builtin `int`. To avoid this error in existing code, use `int` by itself. Doing this will not modify any behavior and is safe. When replacing `np.int`, you may wish to use e.g. `np.int64` or `np.int32` to specify the precision. If you wish to review your current use, check the release note link for additional information.\nThe aliases was originally deprecated in NumPy 1.20; for more details and guidance see the original release note at:\n    https://numpy.org/devdocs/release/1.20.0-notes.html#deprecations"
     ]
    }
   ],
   "source": []
  },
  {
   "cell_type": "markdown",
   "metadata": {},
   "source": [
    "# Adam pytorch"
   ]
  },
  {
   "cell_type": "code",
   "execution_count": 21,
   "metadata": {},
   "outputs": [
    {
     "ename": "RuntimeError",
     "evalue": "Can't call numpy() on Tensor that requires grad. Use tensor.detach().numpy() instead.",
     "output_type": "error",
     "traceback": [
      "\u001b[1;31m---------------------------------------------------------------------------\u001b[0m",
      "\u001b[1;31mRuntimeError\u001b[0m                              Traceback (most recent call last)",
      "\u001b[1;32mc:\\Users\\Jenny\\Documents\\UIUC_workspace\\Practicum\\bp-Trading\\optimization - method copy.ipynb Cell 4\u001b[0m line \u001b[0;36m7\n\u001b[0;32m     <a href='vscode-notebook-cell:/c%3A/Users/Jenny/Documents/UIUC_workspace/Practicum/bp-Trading/optimization%20-%20method%20copy.ipynb#Y103sZmlsZQ%3D%3D?line=73'>74</a>\u001b[0m \u001b[39mfor\u001b[39;00m epoch \u001b[39min\u001b[39;00m \u001b[39mrange\u001b[39m(num_epochs):\n\u001b[0;32m     <a href='vscode-notebook-cell:/c%3A/Users/Jenny/Documents/UIUC_workspace/Practicum/bp-Trading/optimization%20-%20method%20copy.ipynb#Y103sZmlsZQ%3D%3D?line=74'>75</a>\u001b[0m     optimizer\u001b[39m.\u001b[39mzero_grad()\n\u001b[1;32m---> <a href='vscode-notebook-cell:/c%3A/Users/Jenny/Documents/UIUC_workspace/Practicum/bp-Trading/optimization%20-%20method%20copy.ipynb#Y103sZmlsZQ%3D%3D?line=75'>76</a>\u001b[0m     loss \u001b[39m=\u001b[39m torch_objective(params, tick_data)\n\u001b[0;32m     <a href='vscode-notebook-cell:/c%3A/Users/Jenny/Documents/UIUC_workspace/Practicum/bp-Trading/optimization%20-%20method%20copy.ipynb#Y103sZmlsZQ%3D%3D?line=77'>78</a>\u001b[0m     \u001b[39m# Add constraints to the loss using a penalty method\u001b[39;00m\n\u001b[0;32m     <a href='vscode-notebook-cell:/c%3A/Users/Jenny/Documents/UIUC_workspace/Practicum/bp-Trading/optimization%20-%20method%20copy.ipynb#Y103sZmlsZQ%3D%3D?line=78'>79</a>\u001b[0m     c1 \u001b[39m=\u001b[39m torch_constraint1(params, tick_data)\n",
      "\u001b[1;32mc:\\Users\\Jenny\\Documents\\UIUC_workspace\\Practicum\\bp-Trading\\optimization - method copy.ipynb Cell 4\u001b[0m line \u001b[0;36m5\n\u001b[0;32m     <a href='vscode-notebook-cell:/c%3A/Users/Jenny/Documents/UIUC_workspace/Practicum/bp-Trading/optimization%20-%20method%20copy.ipynb#Y103sZmlsZQ%3D%3D?line=52'>53</a>\u001b[0m \u001b[39mdef\u001b[39;00m \u001b[39mtorch_objective\u001b[39m(params, tick_data):\n\u001b[0;32m     <a href='vscode-notebook-cell:/c%3A/Users/Jenny/Documents/UIUC_workspace/Practicum/bp-Trading/optimization%20-%20method%20copy.ipynb#Y103sZmlsZQ%3D%3D?line=53'>54</a>\u001b[0m     G, n \u001b[39m=\u001b[39m params\n\u001b[1;32m---> <a href='vscode-notebook-cell:/c%3A/Users/Jenny/Documents/UIUC_workspace/Practicum/bp-Trading/optimization%20-%20method%20copy.ipynb#Y103sZmlsZQ%3D%3D?line=54'>55</a>\u001b[0m     profit, U_PNL, max_position, R_PNL \u001b[39m=\u001b[39m torch_run_strategy_optimised(tick_data, G, n)\n\u001b[0;32m     <a href='vscode-notebook-cell:/c%3A/Users/Jenny/Documents/UIUC_workspace/Practicum/bp-Trading/optimization%20-%20method%20copy.ipynb#Y103sZmlsZQ%3D%3D?line=55'>56</a>\u001b[0m     \u001b[39mreturn\u001b[39;00m \u001b[39m-\u001b[39mR_PNL\n",
      "\u001b[1;32mc:\\Users\\Jenny\\Documents\\UIUC_workspace\\Practicum\\bp-Trading\\optimization - method copy.ipynb Cell 4\u001b[0m line \u001b[0;36m6\n\u001b[0;32m      <a href='vscode-notebook-cell:/c%3A/Users/Jenny/Documents/UIUC_workspace/Practicum/bp-Trading/optimization%20-%20method%20copy.ipynb#Y103sZmlsZQ%3D%3D?line=3'>4</a>\u001b[0m \u001b[39mdef\u001b[39;00m \u001b[39mtorch_run_strategy_optimised\u001b[39m(tick_data, grid_sizing, lot_sizing, ladder_depth\u001b[39m=\u001b[39m\u001b[39m10\u001b[39m, ladder_function\u001b[39m=\u001b[39mladderize_absolute, multiplier\u001b[39m=\u001b[39m\u001b[39m1\u001b[39m, indicator\u001b[39m=\u001b[39m\u001b[39mFalse\u001b[39;00m, lookback\u001b[39m=\u001b[39m\u001b[39m200\u001b[39m):\n\u001b[1;32m----> <a href='vscode-notebook-cell:/c%3A/Users/Jenny/Documents/UIUC_workspace/Practicum/bp-Trading/optimization%20-%20method%20copy.ipynb#Y103sZmlsZQ%3D%3D?line=5'>6</a>\u001b[0m     grid_jumps, binomial_data \u001b[39m=\u001b[39m convert_to_grid_binomial_data(tick_data, grid_sizing, ladder_function, ladder_depth)  \u001b[39m# This function needs to be converted too\u001b[39;00m\n\u001b[0;32m      <a href='vscode-notebook-cell:/c%3A/Users/Jenny/Documents/UIUC_workspace/Practicum/bp-Trading/optimization%20-%20method%20copy.ipynb#Y103sZmlsZQ%3D%3D?line=6'>7</a>\u001b[0m     indicator_data \u001b[39m=\u001b[39m []\n\u001b[0;32m      <a href='vscode-notebook-cell:/c%3A/Users/Jenny/Documents/UIUC_workspace/Practicum/bp-Trading/optimization%20-%20method%20copy.ipynb#Y103sZmlsZQ%3D%3D?line=7'>8</a>\u001b[0m     \u001b[39mif\u001b[39;00m indicator:\n",
      "File \u001b[1;32mc:\\Users\\Jenny\\Documents\\UIUC_workspace\\Practicum\\bp-Trading\\Data_for_bp.py:328\u001b[0m, in \u001b[0;36mconvert_to_grid_binomial_data\u001b[1;34m(tick_data, grid_size, ladderized_function, ladder_depth)\u001b[0m\n\u001b[0;32m    304\u001b[0m \u001b[39mdef\u001b[39;00m \u001b[39mconvert_to_grid_binomial_data\u001b[39m(tick_data,grid_size,ladderized_function,ladder_depth\u001b[39m=\u001b[39m\u001b[39m10\u001b[39m):\n\u001b[0;32m    305\u001b[0m \u001b[39m    \u001b[39m\u001b[39m\"\"\"\u001b[39;00m\n\u001b[0;32m    306\u001b[0m \u001b[39m    Convert tick data to a binomial grid representation using a ladderized function.\u001b[39;00m\n\u001b[0;32m    307\u001b[0m \n\u001b[1;32m   (...)\u001b[0m\n\u001b[0;32m    326\u001b[0m \u001b[39m    The binomial data would be [0, 1, 1, 1]\u001b[39;00m\n\u001b[0;32m    327\u001b[0m \u001b[39m    \"\"\"\u001b[39;00m\n\u001b[1;32m--> 328\u001b[0m     ladderized_data \u001b[39m=\u001b[39m ladderized_function(tick_data,grid_size)\n\u001b[0;32m    329\u001b[0m     jumps \u001b[39m=\u001b[39m filter_jumps(ladderized_data)\n\u001b[0;32m    330\u001b[0m     binomial_data \u001b[39m=\u001b[39m jumps\u001b[39m.\u001b[39mdiff()\n",
      "File \u001b[1;32mc:\\Users\\Jenny\\Documents\\UIUC_workspace\\Practicum\\bp-Trading\\Data_for_bp.py:210\u001b[0m, in \u001b[0;36mladderize_absolute\u001b[1;34m(tick_data, grid_size)\u001b[0m\n\u001b[0;32m    208\u001b[0m ladderized_data[\u001b[39m-\u001b[39m\u001b[39m1\u001b[39m]\u001b[39m=\u001b[39mtick_data\u001b[39m.\u001b[39miloc[\u001b[39m-\u001b[39m\u001b[39m1\u001b[39m]\n\u001b[0;32m    209\u001b[0m ladderized_data[\u001b[39m0\u001b[39m]\u001b[39m=\u001b[39mtick_data\u001b[39m.\u001b[39miloc[\u001b[39m0\u001b[39m]\n\u001b[1;32m--> 210\u001b[0m \u001b[39mreturn\u001b[39;00m pd\u001b[39m.\u001b[39mSeries(np\u001b[39m.\u001b[39mround(ladderized_data,\u001b[39m4\u001b[39m), index\u001b[39m=\u001b[39mtick_data\u001b[39m.\u001b[39mindex)\n",
      "File \u001b[1;32m<__array_function__ internals>:200\u001b[0m, in \u001b[0;36mround_\u001b[1;34m(*args, **kwargs)\u001b[0m\n",
      "File \u001b[1;32mc:\\Users\\Jenny\\anaconda3\\Lib\\site-packages\\numpy\\core\\fromnumeric.py:3763\u001b[0m, in \u001b[0;36mround_\u001b[1;34m(a, decimals, out)\u001b[0m\n\u001b[0;32m   3754\u001b[0m \u001b[39m@array_function_dispatch\u001b[39m(_around_dispatcher)\n\u001b[0;32m   3755\u001b[0m \u001b[39mdef\u001b[39;00m \u001b[39mround_\u001b[39m(a, decimals\u001b[39m=\u001b[39m\u001b[39m0\u001b[39m, out\u001b[39m=\u001b[39m\u001b[39mNone\u001b[39;00m):\n\u001b[0;32m   3756\u001b[0m \u001b[39m    \u001b[39m\u001b[39m\"\"\"\u001b[39;00m\n\u001b[0;32m   3757\u001b[0m \u001b[39m    Round an array to the given number of decimals.\u001b[39;00m\n\u001b[0;32m   3758\u001b[0m \n\u001b[1;32m   (...)\u001b[0m\n\u001b[0;32m   3761\u001b[0m \u001b[39m    around : equivalent function; see for details.\u001b[39;00m\n\u001b[0;32m   3762\u001b[0m \u001b[39m    \"\"\"\u001b[39;00m\n\u001b[1;32m-> 3763\u001b[0m     \u001b[39mreturn\u001b[39;00m around(a, decimals\u001b[39m=\u001b[39mdecimals, out\u001b[39m=\u001b[39mout)\n",
      "File \u001b[1;32m<__array_function__ internals>:200\u001b[0m, in \u001b[0;36maround\u001b[1;34m(*args, **kwargs)\u001b[0m\n",
      "File \u001b[1;32mc:\\Users\\Jenny\\anaconda3\\Lib\\site-packages\\numpy\\core\\fromnumeric.py:3337\u001b[0m, in \u001b[0;36maround\u001b[1;34m(a, decimals, out)\u001b[0m\n\u001b[0;32m   3245\u001b[0m \u001b[39m@array_function_dispatch\u001b[39m(_around_dispatcher)\n\u001b[0;32m   3246\u001b[0m \u001b[39mdef\u001b[39;00m \u001b[39maround\u001b[39m(a, decimals\u001b[39m=\u001b[39m\u001b[39m0\u001b[39m, out\u001b[39m=\u001b[39m\u001b[39mNone\u001b[39;00m):\n\u001b[0;32m   3247\u001b[0m \u001b[39m    \u001b[39m\u001b[39m\"\"\"\u001b[39;00m\n\u001b[0;32m   3248\u001b[0m \u001b[39m    Evenly round to the given number of decimals.\u001b[39;00m\n\u001b[0;32m   3249\u001b[0m \n\u001b[1;32m   (...)\u001b[0m\n\u001b[0;32m   3335\u001b[0m \n\u001b[0;32m   3336\u001b[0m \u001b[39m    \"\"\"\u001b[39;00m\n\u001b[1;32m-> 3337\u001b[0m     \u001b[39mreturn\u001b[39;00m _wrapfunc(a, \u001b[39m'\u001b[39m\u001b[39mround\u001b[39m\u001b[39m'\u001b[39m, decimals\u001b[39m=\u001b[39mdecimals, out\u001b[39m=\u001b[39mout)\n",
      "File \u001b[1;32mc:\\Users\\Jenny\\anaconda3\\Lib\\site-packages\\numpy\\core\\fromnumeric.py:54\u001b[0m, in \u001b[0;36m_wrapfunc\u001b[1;34m(obj, method, *args, **kwds)\u001b[0m\n\u001b[0;32m     52\u001b[0m bound \u001b[39m=\u001b[39m \u001b[39mgetattr\u001b[39m(obj, method, \u001b[39mNone\u001b[39;00m)\n\u001b[0;32m     53\u001b[0m \u001b[39mif\u001b[39;00m bound \u001b[39mis\u001b[39;00m \u001b[39mNone\u001b[39;00m:\n\u001b[1;32m---> 54\u001b[0m     \u001b[39mreturn\u001b[39;00m _wrapit(obj, method, \u001b[39m*\u001b[39margs, \u001b[39m*\u001b[39m\u001b[39m*\u001b[39mkwds)\n\u001b[0;32m     56\u001b[0m \u001b[39mtry\u001b[39;00m:\n\u001b[0;32m     57\u001b[0m     \u001b[39mreturn\u001b[39;00m bound(\u001b[39m*\u001b[39margs, \u001b[39m*\u001b[39m\u001b[39m*\u001b[39mkwds)\n",
      "File \u001b[1;32mc:\\Users\\Jenny\\anaconda3\\Lib\\site-packages\\numpy\\core\\fromnumeric.py:43\u001b[0m, in \u001b[0;36m_wrapit\u001b[1;34m(obj, method, *args, **kwds)\u001b[0m\n\u001b[0;32m     41\u001b[0m \u001b[39mexcept\u001b[39;00m \u001b[39mAttributeError\u001b[39;00m:\n\u001b[0;32m     42\u001b[0m     wrap \u001b[39m=\u001b[39m \u001b[39mNone\u001b[39;00m\n\u001b[1;32m---> 43\u001b[0m result \u001b[39m=\u001b[39m \u001b[39mgetattr\u001b[39m(asarray(obj), method)(\u001b[39m*\u001b[39margs, \u001b[39m*\u001b[39m\u001b[39m*\u001b[39mkwds)\n\u001b[0;32m     44\u001b[0m \u001b[39mif\u001b[39;00m wrap:\n\u001b[0;32m     45\u001b[0m     \u001b[39mif\u001b[39;00m \u001b[39mnot\u001b[39;00m \u001b[39misinstance\u001b[39m(result, mu\u001b[39m.\u001b[39mndarray):\n",
      "File \u001b[1;32mc:\\Users\\Jenny\\anaconda3\\Lib\\site-packages\\torch\\_tensor.py:970\u001b[0m, in \u001b[0;36mTensor.__array__\u001b[1;34m(self, dtype)\u001b[0m\n\u001b[0;32m    968\u001b[0m     \u001b[39mreturn\u001b[39;00m handle_torch_function(Tensor\u001b[39m.\u001b[39m__array__, (\u001b[39mself\u001b[39m,), \u001b[39mself\u001b[39m, dtype\u001b[39m=\u001b[39mdtype)\n\u001b[0;32m    969\u001b[0m \u001b[39mif\u001b[39;00m dtype \u001b[39mis\u001b[39;00m \u001b[39mNone\u001b[39;00m:\n\u001b[1;32m--> 970\u001b[0m     \u001b[39mreturn\u001b[39;00m \u001b[39mself\u001b[39m\u001b[39m.\u001b[39mnumpy()\n\u001b[0;32m    971\u001b[0m \u001b[39melse\u001b[39;00m:\n\u001b[0;32m    972\u001b[0m     \u001b[39mreturn\u001b[39;00m \u001b[39mself\u001b[39m\u001b[39m.\u001b[39mnumpy()\u001b[39m.\u001b[39mastype(dtype, copy\u001b[39m=\u001b[39m\u001b[39mFalse\u001b[39;00m)\n",
      "\u001b[1;31mRuntimeError\u001b[0m: Can't call numpy() on Tensor that requires grad. Use tensor.detach().numpy() instead."
     ]
    }
   ],
   "source": [
    "import torch\n",
    "from torch.autograd import Variable\n",
    "\n",
    "def torch_run_strategy_optimised(tick_data, grid_sizing, lot_sizing, ladder_depth=10, ladder_function=ladderize_absolute, multiplier=1, indicator=False, lookback=200):\n",
    "\n",
    "    grid_jumps, binomial_data = convert_to_grid_binomial_data(tick_data, grid_sizing, ladder_function, ladder_depth)  # This function needs to be converted too\n",
    "    indicator_data = []\n",
    "    if indicator:\n",
    "        indicator_data = indicator_prep(grid_jumps, grid_sizing, lookback=lookback)  # This function needs to be converted too\n",
    "\n",
    "    T = len(binomial_data)\n",
    "\n",
    "    current_lots = torch.tensor(0.)\n",
    "    previous_lots = torch.tensor(0.)\n",
    "    R_PNL = torch.tensor(0.)\n",
    "    U_PNL = torch.tensor(0.)\n",
    "    PNL = torch.tensor(0.)\n",
    "    position = torch.tensor(0.)\n",
    "    position_sizing = build_lot_sizing(lot_sizing, binomial_data, multiplier=multiplier, indicator_data=indicator_data)  # This function needs to be converted too\n",
    "    avg_price = torch.tensor(0.)\n",
    "\n",
    "    max_position = torch.tensor(0.)\n",
    "    min_U_PNL = torch.tensor(0.)\n",
    "\n",
    "    for t in range(T):\n",
    "        lots_in_order = - position_sizing[t] * binomial_data[t]\n",
    "        previous_lots = current_lots.clone()\n",
    "        current_lots = previous_lots + lots_in_order\n",
    "        position = current_lots * grid_jumps[t]\n",
    "\n",
    "        closing_position = (current_lots * lots_in_order <= 0) & (lots_in_order != 0)\n",
    "        opening_or_adding_position = ~closing_position\n",
    "\n",
    "        R_PNL -= torch.where(closing_position, (grid_jumps[t] - avg_price) * lots_in_order, torch.tensor(0.))\n",
    "        \n",
    "        # Update avg price for opening or adding to a position\n",
    "        avg_price = torch.where(opening_or_adding_position & (current_lots != 0), \n",
    "                                (avg_price * previous_lots + grid_jumps[t] * lots_in_order) / current_lots,\n",
    "                                avg_price)\n",
    "\n",
    "        PNL += previous_lots * (grid_jumps[t] - grid_jumps[t-1])\n",
    "        U_PNL = (grid_jumps[t] - avg_price) * current_lots\n",
    "\n",
    "        PNL = torch.round(PNL, 4)\n",
    "        U_PNL = torch.round(U_PNL, 4)\n",
    "        R_PNL = torch.round(R_PNL, 4)\n",
    "\n",
    "        min_U_PNL = torch.where(U_PNL < min_U_PNL, U_PNL, min_U_PNL)\n",
    "        max_position = torch.where(torch.abs(position) > max_position, torch.abs(position), max_position)\n",
    "\n",
    "    return PNL, min_U_PNL, max_position, R_PNL\n",
    "\n",
    "def torch_objective(params, tick_data):\n",
    "    G, n = params\n",
    "    profit, U_PNL, max_position, R_PNL = torch_run_strategy_optimised(tick_data, G, n)\n",
    "    return -R_PNL\n",
    "\n",
    "def torch_constraint1(params, tick_data):\n",
    "    G, n = params\n",
    "    _, _, max_position, _ = torch_run_strategy_optimised(tick_data, G, n)\n",
    "    return 10e6 - max_position\n",
    "\n",
    "def torch_constraint2(params, tick_data):\n",
    "    G, n = params\n",
    "    _, U_PNL, _, _ = torch_run_strategy_optimised(tick_data, G, n)\n",
    "    return U_PNL + 150e3\n",
    "\n",
    "# Initialize parameters\n",
    "params = Variable(torch.Tensor([0.005, 500000]), requires_grad=True)\n",
    "optimizer = torch.optim.Adam([params], lr=0.001)  # You can adjust the learning rate\n",
    "\n",
    "num_epochs = 2  # You can adjust the number of epochs\n",
    "\n",
    "for epoch in range(num_epochs):\n",
    "    optimizer.zero_grad()\n",
    "    loss = torch_objective(params, tick_data)\n",
    "    \n",
    "    # Add constraints to the loss using a penalty method\n",
    "    c1 = torch_constraint1(params, tick_data)\n",
    "    c2 = torch_constraint2(params, tick_data)\n",
    "    if c1 < 0:  # This means the constraint is violated\n",
    "        loss += 1000 * torch.abs(c1)  # The factor 1000 is a penalty coefficient and can be adjusted\n",
    "    if c2 < 0:\n",
    "        loss += 1000 * torch.abs(c2)\n",
    "    \n",
    "    loss.backward()\n",
    "    optimizer.step()\n",
    "\n",
    "optimal_G, optimal_n = params.detach().numpy()\n"
   ]
  }
 ],
 "metadata": {
  "kernelspec": {
   "display_name": "tradingenv",
   "language": "python",
   "name": "python3"
  },
  "language_info": {
   "codemirror_mode": {
    "name": "ipython",
    "version": 3
   },
   "file_extension": ".py",
   "mimetype": "text/x-python",
   "name": "python",
   "nbconvert_exporter": "python",
   "pygments_lexer": "ipython3",
   "version": "3.11.4"
  },
  "orig_nbformat": 4
 },
 "nbformat": 4,
 "nbformat_minor": 2
}
