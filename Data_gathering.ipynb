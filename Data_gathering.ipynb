{
 "cells": [
  {
   "cell_type": "code",
   "execution_count": 1,
   "metadata": {},
   "outputs": [],
   "source": [
    "from findatapy.market import Market, MarketDataRequest, MarketDataGenerator"
   ]
  },
  {
   "cell_type": "code",
   "execution_count": 2,
   "metadata": {},
   "outputs": [
    {
     "name": "stderr",
     "output_type": "stream",
     "text": [
      "Couldn't push MarketDataRequest_858__abstract_curve_key-None__base_depos_currencies-EUR_GBP_AUD_NZD_USD_CAD_CHF_NOK_SEK_JPY__base_depos_tenor-ON_TN_SN_1W_2W_3W_1M_... to Redis: Error 61 connecting to 127.0.0.1:6379. Connection refused.\n"
     ]
    },
    {
     "name": "stdout",
     "output_type": "stream",
     "text": [
      "                                  EURUSD.bid  EURUSD.ask\n",
      "Date                                                    \n",
      "2016-06-19 23:59:48.959000+00:00     1.13471     1.13476\n",
      "2016-06-19 23:59:51.179000+00:00     1.13471     1.13476\n",
      "2016-06-19 23:59:53.703000+00:00     1.13471     1.13476\n",
      "2016-06-19 23:59:54.226000+00:00     1.13470     1.13476\n",
      "2016-06-19 23:59:54.813000+00:00     1.13471     1.13476\n",
      "2016-06-19 23:59:55.321000+00:00     1.13470     1.13476\n",
      "2016-06-19 23:59:55.834000+00:00     1.13471     1.13476\n",
      "2016-06-19 23:59:58.713000+00:00     1.13470     1.13476\n",
      "2016-06-19 23:59:59.228000+00:00     1.13470     1.13475\n",
      "2016-06-19 23:59:59.746000+00:00     1.13469     1.13474\n"
     ]
    }
   ],
   "source": [
    "market = Market(market_data_generator=MarketDataGenerator())\n",
    "\n",
    "# first we can do it by defining all the vendor fields, tickers etc. so we bypass the configuration file\n",
    "md_request = MarketDataRequest( start_date='14 Jun 2016',\n",
    "                                finish_date='20 Jun 2016',\n",
    "                                fields=['bid', 'ask'], \n",
    "                                vendor_fields=['bid', 'ask'],\n",
    "                                freq='tick', \n",
    "                                data_source='dukascopy',\n",
    "                                tickers=['EURUSD'],\n",
    "                                vendor_tickers=['EURUSD'])\n",
    "\n",
    "df = market.fetch_market(md_request)\n",
    "print(df.tail(n=10))"
   ]
  },
  {
   "cell_type": "code",
   "execution_count": 3,
   "metadata": {},
   "outputs": [],
   "source": [
    "df['EURUSD.mid'] = (df['EURUSD.ask'] + df['EURUSD.bid']) / 2.0"
   ]
  },
  {
   "cell_type": "code",
   "execution_count": 4,
   "metadata": {},
   "outputs": [],
   "source": [
    "def get_tick_data(start_date,finish_date):\n",
    "    market = Market(market_data_generator=MarketDataGenerator())\n",
    "\n",
    "    # first we can do it by defining all the vendor fields, tickers etc. so we bypass the configuration file\n",
    "    md_request = MarketDataRequest( start_date=start_date,\n",
    "                                finish_date=finish_date,\n",
    "                                fields=['bid', 'ask'], \n",
    "                                vendor_fields=['bid', 'ask'],\n",
    "                                freq='tick', \n",
    "                                data_source='dukascopy',\n",
    "                                tickers=['EURUSD'],\n",
    "                                vendor_tickers=['EURUSD'])\n",
    "    df = market.fetch_market(md_request)\n",
    "    df['EURUSD.mid'] = (df['EURUSD.ask'] + df['EURUSD.bid']) / 2.0\n",
    "    return df"
   ]
  },
  {
   "cell_type": "code",
   "execution_count": 7,
   "metadata": {},
   "outputs": [
    {
     "name": "stderr",
     "output_type": "stream",
     "text": [
      "Couldn't push MarketDataRequest_858__abstract_curve_key-None__base_depos_currencies-EUR_GBP_AUD_NZD_USD_CAD_CHF_NOK_SEK_JPY__base_depos_tenor-ON_TN_SN_1W_2W_3W_1M_... to Redis: Error 61 connecting to 127.0.0.1:6379. Connection refused.\n"
     ]
    }
   ],
   "source": [
    "tick_data = get_tick_data('14 Jun 2016','20 Jun 2016')"
   ]
  },
  {
   "cell_type": "code",
   "execution_count": 12,
   "metadata": {},
   "outputs": [],
   "source": [
    "import pandas as pd\n",
    "\n",
    "def tick_to_ohlc(tick_df: pd.DataFrame, timeframe: str) -> pd.DataFrame:\n",
    "    '''\n",
    "    Convert tick data to OHLC data.\n",
    "    1 min = 1T\n",
    "    1 Hr = 1H\n",
    "    1 Day = 1D\n",
    "    '''\n",
    "    # Assuming the DataFrame is indexed by timestamp and has a 'Mid' column\n",
    "    # for the mid prices. Adapt as necessary.\n",
    "\n",
    "    # Resample the tick data to OHLC data using the specified timeframe\n",
    "    ohlc_df = tick_df['EURUSD.mid'].resample(timeframe).ohlc()\n",
    "    \n",
    "    # Drop rows where all values are NaN (which may happen in less active trading periods)\n",
    "    ohlc_df.dropna(how='all', inplace=True)\n",
    "    \n",
    "    return ohlc_df"
   ]
  },
  {
   "cell_type": "code",
   "execution_count": 13,
   "metadata": {},
   "outputs": [
    {
     "name": "stdout",
     "output_type": "stream",
     "text": [
      "                               open      high       low     close\n",
      "Date                                                             \n",
      "2016-06-14 00:00:00+00:00  1.128795  1.128795  1.128620  1.128725\n",
      "2016-06-14 00:01:00+00:00  1.128715  1.128715  1.128635  1.128635\n",
      "2016-06-14 00:02:00+00:00  1.128635  1.128755  1.128555  1.128735\n",
      "2016-06-14 00:03:00+00:00  1.128735  1.128775  1.128645  1.128645\n",
      "2016-06-14 00:04:00+00:00  1.128640  1.128695  1.128630  1.128670\n",
      "...                             ...       ...       ...       ...\n",
      "2016-06-19 23:55:00+00:00  1.135555  1.135595  1.134920  1.134925\n",
      "2016-06-19 23:56:00+00:00  1.134935  1.135015  1.134210  1.134280\n",
      "2016-06-19 23:57:00+00:00  1.134285  1.134740  1.134230  1.134710\n",
      "2016-06-19 23:58:00+00:00  1.134705  1.134705  1.134550  1.134610\n",
      "2016-06-19 23:59:00+00:00  1.134600  1.134815  1.134565  1.134715\n",
      "\n",
      "[5757 rows x 4 columns]\n"
     ]
    }
   ],
   "source": [
    "ohlc_df = tick_to_ohlc(tick_data, '1T')  # '1T' denotes 1-minute bars\n",
    "\n",
    "print(ohlc_df)"
   ]
  },
  {
   "cell_type": "code",
   "execution_count": 15,
   "metadata": {},
   "outputs": [],
   "source": [
    "def get_candlestick_data(start_date,finish_date,timeframe: str):\n",
    "    '''get candlestick data from start_date to finish_date with timeframe\n",
    "    date format: 'dd mmm yyyy' like '14 Jun 2016'\n",
    "    timeframe format:\n",
    "    1 min = 1T\n",
    "    1 Hr = 1H\n",
    "    1 Day = 1D\n",
    "    '''\n",
    "    tick_data = get_tick_data(start_date,finish_date)\n",
    "    ohlc_df = tick_to_ohlc(tick_data, timeframe)\n",
    "    return ohlc_df"
   ]
  },
  {
   "cell_type": "code",
   "execution_count": 16,
   "metadata": {},
   "outputs": [
    {
     "name": "stderr",
     "output_type": "stream",
     "text": [
      "Couldn't push MarketDataRequest_858__abstract_curve_key-None__base_depos_currencies-EUR_GBP_AUD_NZD_USD_CAD_CHF_NOK_SEK_JPY__base_depos_tenor-ON_TN_SN_1W_2W_3W_1M_... to Redis: Error 61 connecting to 127.0.0.1:6379. Connection refused.\n"
     ]
    },
    {
     "data": {
      "text/html": [
       "<div>\n",
       "<style scoped>\n",
       "    .dataframe tbody tr th:only-of-type {\n",
       "        vertical-align: middle;\n",
       "    }\n",
       "\n",
       "    .dataframe tbody tr th {\n",
       "        vertical-align: top;\n",
       "    }\n",
       "\n",
       "    .dataframe thead th {\n",
       "        text-align: right;\n",
       "    }\n",
       "</style>\n",
       "<table border=\"1\" class=\"dataframe\">\n",
       "  <thead>\n",
       "    <tr style=\"text-align: right;\">\n",
       "      <th></th>\n",
       "      <th>open</th>\n",
       "      <th>high</th>\n",
       "      <th>low</th>\n",
       "      <th>close</th>\n",
       "    </tr>\n",
       "    <tr>\n",
       "      <th>Date</th>\n",
       "      <th></th>\n",
       "      <th></th>\n",
       "      <th></th>\n",
       "      <th></th>\n",
       "    </tr>\n",
       "  </thead>\n",
       "  <tbody>\n",
       "    <tr>\n",
       "      <th>2016-06-14 00:00:00+00:00</th>\n",
       "      <td>1.128795</td>\n",
       "      <td>1.129015</td>\n",
       "      <td>1.128555</td>\n",
       "      <td>1.128895</td>\n",
       "    </tr>\n",
       "    <tr>\n",
       "      <th>2016-06-14 00:15:00+00:00</th>\n",
       "      <td>1.128880</td>\n",
       "      <td>1.129185</td>\n",
       "      <td>1.128825</td>\n",
       "      <td>1.128935</td>\n",
       "    </tr>\n",
       "    <tr>\n",
       "      <th>2016-06-14 00:30:00+00:00</th>\n",
       "      <td>1.128940</td>\n",
       "      <td>1.129115</td>\n",
       "      <td>1.128840</td>\n",
       "      <td>1.129035</td>\n",
       "    </tr>\n",
       "    <tr>\n",
       "      <th>2016-06-14 00:45:00+00:00</th>\n",
       "      <td>1.129030</td>\n",
       "      <td>1.129545</td>\n",
       "      <td>1.128930</td>\n",
       "      <td>1.129535</td>\n",
       "    </tr>\n",
       "    <tr>\n",
       "      <th>2016-06-14 01:00:00+00:00</th>\n",
       "      <td>1.129535</td>\n",
       "      <td>1.129720</td>\n",
       "      <td>1.129395</td>\n",
       "      <td>1.129625</td>\n",
       "    </tr>\n",
       "    <tr>\n",
       "      <th>...</th>\n",
       "      <td>...</td>\n",
       "      <td>...</td>\n",
       "      <td>...</td>\n",
       "      <td>...</td>\n",
       "    </tr>\n",
       "    <tr>\n",
       "      <th>2016-06-19 22:45:00+00:00</th>\n",
       "      <td>1.131670</td>\n",
       "      <td>1.132380</td>\n",
       "      <td>1.131440</td>\n",
       "      <td>1.132305</td>\n",
       "    </tr>\n",
       "    <tr>\n",
       "      <th>2016-06-19 23:00:00+00:00</th>\n",
       "      <td>1.132295</td>\n",
       "      <td>1.133530</td>\n",
       "      <td>1.132295</td>\n",
       "      <td>1.133420</td>\n",
       "    </tr>\n",
       "    <tr>\n",
       "      <th>2016-06-19 23:15:00+00:00</th>\n",
       "      <td>1.133425</td>\n",
       "      <td>1.133570</td>\n",
       "      <td>1.132930</td>\n",
       "      <td>1.133530</td>\n",
       "    </tr>\n",
       "    <tr>\n",
       "      <th>2016-06-19 23:30:00+00:00</th>\n",
       "      <td>1.133525</td>\n",
       "      <td>1.133735</td>\n",
       "      <td>1.133245</td>\n",
       "      <td>1.133735</td>\n",
       "    </tr>\n",
       "    <tr>\n",
       "      <th>2016-06-19 23:45:00+00:00</th>\n",
       "      <td>1.133735</td>\n",
       "      <td>1.135820</td>\n",
       "      <td>1.133705</td>\n",
       "      <td>1.134715</td>\n",
       "    </tr>\n",
       "  </tbody>\n",
       "</table>\n",
       "<p>384 rows × 4 columns</p>\n",
       "</div>"
      ],
      "text/plain": [
       "                               open      high       low     close\n",
       "Date                                                             \n",
       "2016-06-14 00:00:00+00:00  1.128795  1.129015  1.128555  1.128895\n",
       "2016-06-14 00:15:00+00:00  1.128880  1.129185  1.128825  1.128935\n",
       "2016-06-14 00:30:00+00:00  1.128940  1.129115  1.128840  1.129035\n",
       "2016-06-14 00:45:00+00:00  1.129030  1.129545  1.128930  1.129535\n",
       "2016-06-14 01:00:00+00:00  1.129535  1.129720  1.129395  1.129625\n",
       "...                             ...       ...       ...       ...\n",
       "2016-06-19 22:45:00+00:00  1.131670  1.132380  1.131440  1.132305\n",
       "2016-06-19 23:00:00+00:00  1.132295  1.133530  1.132295  1.133420\n",
       "2016-06-19 23:15:00+00:00  1.133425  1.133570  1.132930  1.133530\n",
       "2016-06-19 23:30:00+00:00  1.133525  1.133735  1.133245  1.133735\n",
       "2016-06-19 23:45:00+00:00  1.133735  1.135820  1.133705  1.134715\n",
       "\n",
       "[384 rows x 4 columns]"
      ]
     },
     "execution_count": 16,
     "metadata": {},
     "output_type": "execute_result"
    }
   ],
   "source": [
    "get_candlestick_data('14 Jun 2016','20 Jun 2016','15T')"
   ]
  },
  {
   "attachments": {},
   "cell_type": "markdown",
   "metadata": {},
   "source": [
    "# Tasks\n",
    "test function for stability while procuring larger datasets \n",
    "ignore the market close times "
   ]
  },
  {
   "cell_type": "markdown",
   "metadata": {},
   "source": []
  }
 ],
 "metadata": {
  "kernelspec": {
   "display_name": "tradingenv",
   "language": "python",
   "name": "python3"
  },
  "language_info": {
   "codemirror_mode": {
    "name": "ipython",
    "version": 3
   },
   "file_extension": ".py",
   "mimetype": "text/x-python",
   "name": "python",
   "nbconvert_exporter": "python",
   "pygments_lexer": "ipython3",
   "version": "3.11.5"
  },
  "orig_nbformat": 4
 },
 "nbformat": 4,
 "nbformat_minor": 2
}
