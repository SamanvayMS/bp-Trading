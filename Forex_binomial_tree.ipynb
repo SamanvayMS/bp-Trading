{
 "cells": [
  {
   "cell_type": "code",
   "execution_count": 1,
   "metadata": {},
   "outputs": [],
   "source": [
    "import numpy as np\n",
    "import matplotlib.pyplot as plt"
   ]
  },
  {
   "cell_type": "code",
   "execution_count": 2,
   "metadata": {},
   "outputs": [],
   "source": [
    "previous_position = np.array([0.5,0.75,1.25,1.5]).reshape(-1,1)\n",
    "binomial_moves = np.array([50,-50]).reshape(-1,1)\n",
    "previous_pnl = np.array([87.5,12.5,12.5,-112.5]).reshape(-1,1)"
   ]
  },
  {
   "cell_type": "code",
   "execution_count": 3,
   "metadata": {},
   "outputs": [
    {
     "name": "stdout",
     "output_type": "stream",
     "text": [
      "(4, 1) (2, 1) (4, 1)\n"
     ]
    }
   ],
   "source": [
    "print(np.shape(previous_position),np.shape(binomial_moves),np.shape(previous_pnl))"
   ]
  },
  {
   "cell_type": "code",
   "execution_count": 4,
   "metadata": {},
   "outputs": [
    {
     "data": {
      "text/plain": [
       "array([[ 112.5,   62.5],\n",
       "       [  50. ,  -25. ],\n",
       "       [  75. ,  -50. ],\n",
       "       [ -37.5, -187.5]])"
      ]
     },
     "execution_count": 4,
     "metadata": {},
     "output_type": "execute_result"
    }
   ],
   "source": [
    "(np.dot(previous_position,np.transpose(binomial_moves)) + previous_pnl)"
   ]
  },
  {
   "cell_type": "code",
   "execution_count": 5,
   "metadata": {},
   "outputs": [],
   "source": [
    "next_pnl = (np.dot(previous_position,np.transpose(binomial_moves)) + previous_pnl).reshape(-1,1)"
   ]
  },
  {
   "cell_type": "code",
   "execution_count": 6,
   "metadata": {},
   "outputs": [
    {
     "data": {
      "text/plain": [
       "array([[ 112.5],\n",
       "       [  62.5],\n",
       "       [  50. ],\n",
       "       [ -25. ],\n",
       "       [  75. ],\n",
       "       [ -50. ],\n",
       "       [ -37.5],\n",
       "       [-187.5]])"
      ]
     },
     "execution_count": 6,
     "metadata": {},
     "output_type": "execute_result"
    }
   ],
   "source": [
    "next_pnl"
   ]
  },
  {
   "cell_type": "code",
   "execution_count": 7,
   "metadata": {},
   "outputs": [],
   "source": [
    "def current_pnl(previous_position,binomial_moves,previous_pnl):\n",
    "    previous_position = previous_position.reshape(-1,1)\n",
    "    binomial_moves = binomial_moves.reshape(-1,1)\n",
    "    previous_pnl = previous_pnl.reshape(-1,1)\n",
    "    \n",
    "    return (np.dot(previous_position,np.transpose(binomial_moves)) + previous_pnl).reshape(-1,1)"
   ]
  },
  {
   "cell_type": "code",
   "execution_count": 8,
   "metadata": {},
   "outputs": [],
   "source": [
    "def current_position(previous_position,buy_size,sell_size):\n",
    "    lot_size = np.array([-sell_size,buy_size]).reshape(-1,1)\n",
    "    previous_position = previous_position.reshape(-1,1)\n",
    "    return (previous_position + np.transpose(lot_size)).reshape(-1,1)\n"
   ]
  },
  {
   "cell_type": "code",
   "execution_count": 9,
   "metadata": {},
   "outputs": [],
   "source": [
    "previous_position = np.array([0.75,1.25]).reshape(-1,1)\n",
    "buy_size = 0.25\n",
    "sell_size = 0.25"
   ]
  },
  {
   "cell_type": "code",
   "execution_count": 10,
   "metadata": {},
   "outputs": [
    {
     "data": {
      "text/plain": [
       "array([[0.5],\n",
       "       [1. ],\n",
       "       [1. ],\n",
       "       [1.5]])"
      ]
     },
     "execution_count": 10,
     "metadata": {},
     "output_type": "execute_result"
    }
   ],
   "source": [
    "current_position(previous_position,buy_size,sell_size)"
   ]
  },
  {
   "cell_type": "code",
   "execution_count": 11,
   "metadata": {},
   "outputs": [],
   "source": [
    "def time_step(previous_position,binomial_moves,previous_pnl,buy_size,sell_size):\n",
    "    return current_position(previous_position,buy_size,sell_size),current_pnl(previous_position,binomial_moves,previous_pnl)"
   ]
  },
  {
   "cell_type": "code",
   "execution_count": 16,
   "metadata": {},
   "outputs": [
    {
     "name": "stdout",
     "output_type": "stream",
     "text": [
      "[[  250000]\n",
      " [ 6750000]\n",
      " [ 6750000]\n",
      " [13250000]\n",
      " [ 6750000]\n",
      " [13250000]\n",
      " [13250000]\n",
      " [19750000]]\n",
      "[[  112500000]\n",
      " [   62500000]\n",
      " [  362500000]\n",
      " [ -337500000]\n",
      " [  662500000]\n",
      " [  -37500000]\n",
      " [  262500000]\n",
      " [-1087500000]]\n"
     ]
    }
   ],
   "source": [
    "previous_pnl = np.array([0])\n",
    "previous_position = np.array([1])\n",
    "for i in range (0,3):\n",
    "    previous_position,previous_pnl = time_step(previous_position,binomial_moves,previous_pnl,buy_size,sell_size)\n",
    "print(previous_position)\n",
    "print(previous_pnl)"
   ]
  },
  {
   "cell_type": "code",
   "execution_count": 13,
   "metadata": {},
   "outputs": [],
   "source": [
    "bet_increase_ratio = 5"
   ]
  },
  {
   "cell_type": "code",
   "execution_count": 22,
   "metadata": {},
   "outputs": [
    {
     "name": "stdout",
     "output_type": "stream",
     "text": [
      "[[ 500000]\n",
      " [2000000]\n",
      " [1000000]\n",
      " [2500000]]\n",
      "[[ 11250.]\n",
      " [  6250.]\n",
      " [ 11250.]\n",
      " [ -8750.]\n",
      " [  6250.]\n",
      " [ -3750.]\n",
      " [  1250.]\n",
      " [-23750.]]\n"
     ]
    }
   ],
   "source": [
    "\n",
    "previous_pnl = np.array([0])\n",
    "previous_position = np.array([1000000])\n",
    "buy_size = 250000\n",
    "sell_size = 250000\n",
    "binomial_moves = np.array([50,-50]).reshape(-1,1)/10000\n",
    "for i in range (0,3):\n",
    "    if i>=1:\n",
    "        buy_size = buy_size * bet_increase_ratio\n",
    "        #sell_size = sell_size/bet_increase_ratio\n",
    "    pos = previous_position\n",
    "    previous_position,previous_pnl = time_step(pos,binomial_moves,previous_pnl,buy_size,sell_size)\n",
    "\n",
    "print(pos)\n",
    "print(previous_pnl)"
   ]
  },
  {
   "cell_type": "code",
   "execution_count": 23,
   "metadata": {},
   "outputs": [
    {
     "name": "stdout",
     "output_type": "stream",
     "text": [
      "expected value:- 0.0\n",
      "probability of profit:-  62.5 %\n"
     ]
    }
   ],
   "source": [
    "expectation = np.sum(previous_pnl)/len(previous_pnl)\n",
    "print('expected value:-', expectation)\n",
    "# number of instances where pnl is positive/ total number of instances\n",
    "profit = np.where(previous_pnl>0,1,0)\n",
    "pop = np.sum(profit)/len(profit)\n",
    "print('probability of profit:- ',pop*100,'%')"
   ]
  }
 ],
 "metadata": {
  "kernelspec": {
   "display_name": "tradingenv",
   "language": "python",
   "name": "python3"
  },
  "language_info": {
   "codemirror_mode": {
    "name": "ipython",
    "version": 3
   },
   "file_extension": ".py",
   "mimetype": "text/x-python",
   "name": "python",
   "nbconvert_exporter": "python",
   "pygments_lexer": "ipython3",
   "version": "3.11.5"
  },
  "orig_nbformat": 4
 },
 "nbformat": 4,
 "nbformat_minor": 2
}
