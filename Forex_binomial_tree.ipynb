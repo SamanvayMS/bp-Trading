{
 "cells": [
  {
   "cell_type": "code",
   "execution_count": 157,
   "metadata": {},
   "outputs": [],
   "source": [
    "import numpy as np\n",
    "import matplotlib.pyplot as plt"
   ]
  },
  {
   "attachments": {},
   "cell_type": "markdown",
   "metadata": {},
   "source": [
    "##### basic matrix multiplication - just to make sure shapes are right"
   ]
  },
  {
   "cell_type": "code",
   "execution_count": 158,
   "metadata": {},
   "outputs": [],
   "source": [
    "previous_position = np.array([0.5,0.75,1.25,1.5]).reshape(-1,1)\n",
    "binomial_moves = np.array([50,-50]).reshape(-1,1)\n",
    "previous_pnl = np.array([87.5,12.5,12.5,-112.5]).reshape(-1,1)"
   ]
  },
  {
   "cell_type": "code",
   "execution_count": 159,
   "metadata": {},
   "outputs": [
    {
     "name": "stdout",
     "output_type": "stream",
     "text": [
      "(4, 1) (2, 1) (4, 1)\n"
     ]
    }
   ],
   "source": [
    "print(np.shape(previous_position),np.shape(binomial_moves),np.shape(previous_pnl))"
   ]
  },
  {
   "cell_type": "code",
   "execution_count": 160,
   "metadata": {},
   "outputs": [
    {
     "data": {
      "text/plain": [
       "array([[ 112.5,   62.5],\n",
       "       [  50. ,  -25. ],\n",
       "       [  75. ,  -50. ],\n",
       "       [ -37.5, -187.5]])"
      ]
     },
     "execution_count": 160,
     "metadata": {},
     "output_type": "execute_result"
    }
   ],
   "source": [
    "(np.dot(previous_position,np.transpose(binomial_moves)) + previous_pnl)"
   ]
  },
  {
   "cell_type": "code",
   "execution_count": 161,
   "metadata": {},
   "outputs": [],
   "source": [
    "next_pnl = (np.dot(previous_position,np.transpose(binomial_moves)) + previous_pnl).reshape(-1,1)"
   ]
  },
  {
   "cell_type": "code",
   "execution_count": 162,
   "metadata": {},
   "outputs": [
    {
     "data": {
      "text/plain": [
       "array([[ 112.5],\n",
       "       [  62.5],\n",
       "       [  50. ],\n",
       "       [ -25. ],\n",
       "       [  75. ],\n",
       "       [ -50. ],\n",
       "       [ -37.5],\n",
       "       [-187.5]])"
      ]
     },
     "execution_count": 162,
     "metadata": {},
     "output_type": "execute_result"
    }
   ],
   "source": [
    "next_pnl"
   ]
  },
  {
   "attachments": {},
   "cell_type": "markdown",
   "metadata": {},
   "source": [
    "## builder functions"
   ]
  },
  {
   "cell_type": "code",
   "execution_count": 163,
   "metadata": {},
   "outputs": [],
   "source": [
    "def current_pnl(previous_position,binomial_moves,previous_pnl):\n",
    "    previous_position = previous_position.reshape(-1,1)\n",
    "    binomial_moves = binomial_moves.reshape(-1,1)\n",
    "    previous_pnl = previous_pnl.reshape(-1,1)\n",
    "    \n",
    "    return (np.dot(previous_position,np.transpose(binomial_moves)) + previous_pnl).reshape(-1,1)"
   ]
  },
  {
   "cell_type": "code",
   "execution_count": 164,
   "metadata": {},
   "outputs": [],
   "source": [
    "def current_position(previous_position,buy_size,sell_size):\n",
    "    lot_size = np.array([-sell_size,buy_size]).reshape(-1,1)\n",
    "    previous_position = previous_position.reshape(-1,1)\n",
    "    return (previous_position + np.transpose(lot_size)).reshape(-1,1)\n"
   ]
  },
  {
   "cell_type": "code",
   "execution_count": 165,
   "metadata": {},
   "outputs": [],
   "source": [
    "previous_position = np.array([0.75,1.25]).reshape(-1,1)\n",
    "buy_size = 0.25\n",
    "sell_size = 0.25"
   ]
  },
  {
   "cell_type": "code",
   "execution_count": 166,
   "metadata": {},
   "outputs": [
    {
     "data": {
      "text/plain": [
       "array([[0.5],\n",
       "       [1. ],\n",
       "       [1. ],\n",
       "       [1.5]])"
      ]
     },
     "execution_count": 166,
     "metadata": {},
     "output_type": "execute_result"
    }
   ],
   "source": [
    "current_position(previous_position,buy_size,sell_size)"
   ]
  },
  {
   "cell_type": "code",
   "execution_count": 167,
   "metadata": {},
   "outputs": [],
   "source": [
    "def time_step(previous_position,binomial_moves,previous_pnl,buy_size,sell_size):\n",
    "    return current_position(previous_position,buy_size,sell_size),current_pnl(previous_position,binomial_moves,previous_pnl)"
   ]
  },
  {
   "attachments": {},
   "cell_type": "markdown",
   "metadata": {},
   "source": [
    "## without increasing position sizing"
   ]
  },
  {
   "cell_type": "code",
   "execution_count": 168,
   "metadata": {},
   "outputs": [],
   "source": [
    "t = 3 # number of time steps\n",
    "starting_bet = 1000000\n",
    "previous_pnl = np.array([0])\n",
    "previous_position = np.array([starting_bet])\n",
    "buy_size = 250000\n",
    "sell_size = 250000\n",
    "binomial_moves = np.array([50,-50]).reshape(-1,1)/10000"
   ]
  },
  {
   "cell_type": "code",
   "execution_count": 169,
   "metadata": {},
   "outputs": [],
   "source": [
    "def expand_array(arr, num_copies):\n",
    "    # Repeat the array side by side for user-defined times\n",
    "    duplicated_arr = np.tile(arr, (1, num_copies))\n",
    "    # Flatten the array\n",
    "    vertical_arr = duplicated_arr.reshape(-1,1)\n",
    "    return vertical_arr\n"
   ]
  },
  {
   "cell_type": "code",
   "execution_count": 170,
   "metadata": {},
   "outputs": [],
   "source": [
    "def binomial_tree(previous_position,binomial_moves,previous_pnl,buy_size,sell_size,t):\n",
    "    pnl_df = pd.DataFrame(np.zeros((2**t,t)),columns = list(['pnl'+str(i+1) for i in range(0,t)]))\n",
    "    position_df = pd.DataFrame(np.zeros((2**t,t)),columns = list(['position'+str(i+1) for i in range(0,t)]))\n",
    "    for i in range (0,t):\n",
    "        cur_pos = previous_position\n",
    "        previous_position,previous_pnl = time_step(cur_pos,binomial_moves,previous_pnl,buy_size,sell_size)\n",
    "        pnl_df.iloc[:,i] = expand_array(previous_pnl, int(2**t/len(previous_pnl)))\n",
    "        position_df.iloc[:,i] = expand_array(cur_pos, int(2**t/len(cur_pos)))\n",
    "    return  pnl_df,position_df\n"
   ]
  },
  {
   "cell_type": "code",
   "execution_count": 171,
   "metadata": {},
   "outputs": [],
   "source": [
    "pnl,position=binomial_tree(previous_position,binomial_moves,previous_pnl,buy_size,sell_size,t)"
   ]
  },
  {
   "cell_type": "code",
   "execution_count": 172,
   "metadata": {},
   "outputs": [
    {
     "name": "stdout",
     "output_type": "stream",
     "text": [
      "   position1  position2  position3\n",
      "0    1000000   750000.0   500000.0\n",
      "1    1000000   750000.0   500000.0\n",
      "2    1000000   750000.0  1000000.0\n",
      "3    1000000   750000.0  1000000.0\n",
      "4    1000000  1250000.0  1000000.0\n",
      "5    1000000  1250000.0  1000000.0\n",
      "6    1000000  1250000.0  1500000.0\n",
      "7    1000000  1250000.0  1500000.0\n",
      "     pnl1     pnl2     pnl3\n",
      "0  5000.0   8750.0  11250.0\n",
      "1  5000.0   8750.0   6250.0\n",
      "2  5000.0   1250.0   6250.0\n",
      "3  5000.0   1250.0  -3750.0\n",
      "4 -5000.0   1250.0   6250.0\n",
      "5 -5000.0   1250.0  -3750.0\n",
      "6 -5000.0 -11250.0  -3750.0\n",
      "7 -5000.0 -11250.0 -18750.0\n"
     ]
    }
   ],
   "source": [
    "print(position)\n",
    "print(pnl)"
   ]
  },
  {
   "cell_type": "code",
   "execution_count": 173,
   "metadata": {},
   "outputs": [],
   "source": [
    "def calc_expected(previous_pnl):\n",
    "    print('expected value:-',np.sum(previous_pnl)/len(previous_pnl))\n",
    "\n",
    "def calc_pop(previous_pnl):\n",
    "    profit = np.where(previous_pnl>0,1,0)\n",
    "    pop = np.sum(profit)/len(profit)\n",
    "    print('probability of profit:- ',pop*100,'%')"
   ]
  },
  {
   "cell_type": "code",
   "execution_count": 174,
   "metadata": {},
   "outputs": [
    {
     "name": "stdout",
     "output_type": "stream",
     "text": [
      "expected value:- 0.0\n",
      "probability of profit:-  50.0 %\n"
     ]
    }
   ],
   "source": [
    "last_pnl = pnl.iloc[:,-1]\n",
    "calc_expected(last_pnl)\n",
    "calc_pop(last_pnl)"
   ]
  },
  {
   "attachments": {},
   "cell_type": "markdown",
   "metadata": {},
   "source": [
    "we see if we just buy and sell the same amount we get expected value of 0. we also have a probability of profit of 50 %"
   ]
  },
  {
   "attachments": {},
   "cell_type": "markdown",
   "metadata": {},
   "source": [
    "## While increasing position sizing"
   ]
  },
  {
   "cell_type": "code",
   "execution_count": 175,
   "metadata": {},
   "outputs": [],
   "source": [
    "t = 3\n",
    "starting_bet = 1000000\n",
    "previous_pnl = np.array([0])\n",
    "previous_position = np.array([starting_bet])\n",
    "buy_size = 250000\n",
    "sell_size = 250000\n",
    "binomial_moves = np.array([50,-50]).reshape(-1,1)/10000\n",
    "\n",
    "bet_increase_ratio = 5 # we set it as 5 to correspond with your example - postion size at time 2 or t=1 is 1.25M whereas at t=0 it is 0.25M. \n",
    "# keep in mind it will continue to increase for later time steps to solve this change i>= 1 to i==1 in the if statement below"
   ]
  },
  {
   "cell_type": "code",
   "execution_count": 176,
   "metadata": {},
   "outputs": [],
   "source": [
    "def biased_binomial_tree(previous_position,binomial_moves,previous_pnl,buy_size,sell_size,t,bet_increase_ratio):\n",
    "    pnl_df = pd.DataFrame(np.zeros((2**t,t)),columns = list(['pnl'+str(i+1) for i in range(0,t)]))\n",
    "    position_df = pd.DataFrame(np.zeros((2**t,t)),columns = list(['position'+str(i+1) for i in range(0,t)]))\n",
    "    for i in range (0,t):\n",
    "        if i>=1:  # increase bet size after first time step\n",
    "            buy_size = buy_size * bet_increase_ratio # we increase every subsequent time step but not relistic as we dont have infinite money\n",
    "            #sell_size = sell_size*bet_increase_ratio - uncomment if we have a bearish outlook ahead and comment out above line.\n",
    "        cur_pos = previous_position\n",
    "        previous_position,previous_pnl = time_step(cur_pos,binomial_moves,previous_pnl,buy_size,sell_size)\n",
    "        pnl_df.iloc[:,i] = expand_array(previous_pnl, int(2**t/len(previous_pnl)))\n",
    "        position_df.iloc[:,i] = expand_array(cur_pos, int(2**t/len(cur_pos)))\n",
    "    return pnl_df,position_df"
   ]
  },
  {
   "cell_type": "code",
   "execution_count": 177,
   "metadata": {},
   "outputs": [],
   "source": [
    "pnl,position=biased_binomial_tree(previous_position,binomial_moves,previous_pnl,buy_size,sell_size,t,bet_increase_ratio)"
   ]
  },
  {
   "cell_type": "code",
   "execution_count": 178,
   "metadata": {},
   "outputs": [
    {
     "name": "stdout",
     "output_type": "stream",
     "text": [
      "   position1  position2  position3\n",
      "0    1000000   750000.0   500000.0\n",
      "1    1000000   750000.0   500000.0\n",
      "2    1000000   750000.0  2000000.0\n",
      "3    1000000   750000.0  2000000.0\n",
      "4    1000000  1250000.0  1000000.0\n",
      "5    1000000  1250000.0  1000000.0\n",
      "6    1000000  1250000.0  2500000.0\n",
      "7    1000000  1250000.0  2500000.0\n",
      "     pnl1     pnl2     pnl3\n",
      "0  5000.0   8750.0  11250.0\n",
      "1  5000.0   8750.0   6250.0\n",
      "2  5000.0   1250.0  11250.0\n",
      "3  5000.0   1250.0  -8750.0\n",
      "4 -5000.0   1250.0   6250.0\n",
      "5 -5000.0   1250.0  -3750.0\n",
      "6 -5000.0 -11250.0   1250.0\n",
      "7 -5000.0 -11250.0 -23750.0\n"
     ]
    }
   ],
   "source": [
    "print(position)\n",
    "print(pnl)"
   ]
  },
  {
   "cell_type": "code",
   "execution_count": 179,
   "metadata": {},
   "outputs": [
    {
     "name": "stdout",
     "output_type": "stream",
     "text": [
      "expected value:- 0.0\n",
      "probability of profit:-  62.5 %\n"
     ]
    }
   ],
   "source": [
    "last_pnl = pnl.iloc[:,-1]\n",
    "calc_expected(last_pnl)\n",
    "calc_pop(last_pnl)"
   ]
  }
 ],
 "metadata": {
  "kernelspec": {
   "display_name": "tradingenv",
   "language": "python",
   "name": "python3"
  },
  "language_info": {
   "codemirror_mode": {
    "name": "ipython",
    "version": 3
   },
   "file_extension": ".py",
   "mimetype": "text/x-python",
   "name": "python",
   "nbconvert_exporter": "python",
   "pygments_lexer": "ipython3",
   "version": "3.11.5"
  },
  "orig_nbformat": 4
 },
 "nbformat": 4,
 "nbformat_minor": 2
}
