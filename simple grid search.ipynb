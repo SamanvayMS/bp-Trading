{
 "cells": [
  {
   "cell_type": "markdown",
   "metadata": {},
   "source": [
    "Simple Grid search\n",
    "- find optimize G\n",
    "- constant n\n",
    "- for D days\n",
    "- with out bet ratio"
   ]
  },
  {
   "cell_type": "code",
   "execution_count": 2,
   "metadata": {},
   "outputs": [],
   "source": [
    "import pandas as pd\n",
    "import numpy as np\n",
    "import matplotlib.pyplot as plt\n",
    "import mplfinance as mpf\n",
    "import Data_for_bp as dfb\n",
    "import pickle\n",
    "from datetime import datetime, timedelta"
   ]
  },
  {
   "cell_type": "code",
   "execution_count": 3,
   "metadata": {},
   "outputs": [
    {
     "name": "stdout",
     "output_type": "stream",
     "text": [
      "2023-09-18 00:50:08,485 - findatapy.market.datavendorweb - INFO - Request Dukascopy data\n",
      "2023-09-18 00:50:08,485 - findatapy.market.datavendorweb - INFO - About to download from Dukascopy... for EURUSD\n",
      "2023-09-18 00:50:08,511 - findatapy.market.datavendorweb - INFO - Downloading... 2023-08-15 00:00:00 https://www.dukascopy.com/datafeed/EURUSD/2023/07/15/00h_ticks.bi5\n",
      "2023-09-18 00:50:14,035 - findatapy.market.datavendorweb - INFO - Completed request from Dukascopy\n",
      "2023-09-18 00:50:16,096 - findatapy.market.ioengine - WARNING - Couldn't push MarketDataRequest_858__abstract_curve_key-None__base_depos_currencies-EUR_GBP_AUD_NZD_USD_CAD_CHF_NOK_SEK_JPY__base_depos_tenor-ON_TN_SN_1W_2W_3W_1M_... to Redis: Error 10061 connecting to 127.0.0.1:6379. No connection could be made because the target machine actively refused it.\n",
      "Optimal G: 0.0001\n",
      "Optimal net profit: 94.63978880000002\n"
     ]
    }
   ],
   "source": [
    "#import data & count numbers of day\n",
    "start_date = '15 Aug 2023'\n",
    "end_date = '16 Aug 2023' # will get data before 17 Aug 2023\n",
    "# Convert string dates to datetime objects\n",
    "start_date_dt = datetime.strptime(start_date, '%d %b %Y')\n",
    "end_date_dt = datetime.strptime(end_date, '%d %b %Y')\n",
    "# Calculate the number of days (D)\n",
    "D = (end_date_dt - start_date_dt).days\n",
    "tick_data = dfb.get_tick_data(start_date,end_date)['EURUSD.mid']\n",
    "\n"
   ]
  },
  {
   "cell_type": "code",
   "execution_count": 19,
   "metadata": {},
   "outputs": [
    {
     "data": {
      "text/plain": [
       "540055"
      ]
     },
     "execution_count": 19,
     "metadata": {},
     "output_type": "execute_result"
    }
   ],
   "source": [
    "k =5\n",
    "ps = k*len(tick_data) #for day d\n",
    "ps"
   ]
  },
  {
   "cell_type": "code",
   "execution_count": 20,
   "metadata": {},
   "outputs": [],
   "source": [
    "def get_daily_data(tick_data, d):\n",
    "    current_date = start_date_dt + timedelta(days=d)\n",
    "    return tick_data[tick_data.index.date == current_date.date()]\n",
    "def convert_to_binomial(tick_data,grid_size,ladderized_function):\n",
    "    ladderized_data = ladderized_function(tick_data,grid_size)\n",
    "    jumps = dfb.filter_jumps(ladderized_data)\n",
    "    binomial_data = jumps.diff()/grid_size\n",
    "    binomial_data = np.vectorize(lambda x: float('{:.5g}'.format(x)))(binomial_data)\n",
    "    return binomial_data[1:]\n",
    "def compute_pnl_t(G,n,daily_data,d,position):\n",
    "    B=dfb.convert_to_binomial(daily_data, G, dfb.ladderize_open)\n",
    "    pnl = np.zeros(len(B))\n",
    "    position_series = [position]*len(B) #for day d\n",
    "    #position_series = np.zeros(len(B)) ## but for day d > 0 this will not be 0\n",
    "    for t in np.arange(0,len(B)):\n",
    "        position_series[t] = position_series[t-1] - n * B[t]\n",
    "        pnl[t] = pnl[t-1] + position_series[t-1] * G * B[t]\n",
    "    #pnl_T= pnl[-1] + position*(daily_data[-1]-G) # cl price - G\n",
    "    pnl_T= pnl[-1] \n",
    "    position = position_series[-1]\n",
    "    return pnl,pnl_T,position,position_series \n",
    "def net_profit(G,n,tick_data):\n",
    "    profit = np.zeros(D)\n",
    "    for d in range(D):\n",
    "        daily_data = get_daily_data(tick_data, d)\n",
    "        #B=dfb.convert_to_binomial(daily_data, G, dfb.ladderize_open)\n",
    "        if d == 0:\n",
    "            position = 0\n",
    "            #position_series = np.zeros(len(B)) #equal 0 for first day\n",
    "            pnl, pnl_T, position,position_series = compute_pnl_t(G, n, daily_data,d,position)\n",
    "            profit[d] = pnl_T\n",
    "        else:\n",
    "            #position_series = position * len(B)\n",
    "            pnl, pnl_T, position,position_series = compute_pnl_t(G, n, daily_data,d,position)\n",
    "            profit[d] = pnl_T + profit[d-1]\n",
    "    net_profit = profit[-1] \n",
    "    return net_profit, profit\n"
   ]
  },
  {
   "cell_type": "markdown",
   "metadata": {},
   "source": [
    "def pnl_constraint(params, n, d):\n",
    "    G = params[0]\n",
    "    position = 0  # for the first day; may have to modify this\n",
    "    daily_data = get_daily_data(tick_data, d)\n",
    "    pnl, _,_, _ = compute_pnl_t(G, n, daily_data, d, position)\n",
    "    # Checks if pnl at any time t violates the constraint\n",
    "    if any(p < -150000 for p in pnl):\n",
    "        return -1\n",
    "    return 0\n",
    "# daily profit > -500K\n",
    "def profit_constraint(params, n, tick_data):\n",
    "    G = params[0]\n",
    "    _, profit = net_profit(G, n, tick_data)\n",
    "    \n",
    "    if any(pf < -500000 for pf in profit):\n",
    "        return -1 #violated\n",
    "    return 0\n",
    "# Constraint to ensure -10M < Position at any time t < 10M\n",
    "def position_constraint(params, n, d):\n",
    "    G = params[0]\n",
    "    position = 0\n",
    "    daily_data = get_daily_data(tick_data, d)\n",
    "    pnl, _,_, position_series = compute_pnl_t(G, n, daily_data, d, position)\n",
    "    # Checks if position at any time t violates the constraint\n",
    "    if any(abs(pos) > 10000000 for pos in position_series):\n",
    "        return -1 #violated\n",
    "    return 0\n",
    "    "
   ]
  },
  {
   "cell_type": "markdown",
   "metadata": {},
   "source": [
    "confuse about constraints"
   ]
  },
  {
   "cell_type": "code",
   "execution_count": 23,
   "metadata": {},
   "outputs": [
    {
     "name": "stdout",
     "output_type": "stream",
     "text": [
      "Optimal G: 0.0001\n",
      "Optimal net profit: 94.63978880000002\n"
     ]
    }
   ],
   "source": [
    "# daily profit > -500K\n",
    "def profit_constraint(params, n, tick_data):\n",
    "    G = params[0]\n",
    "    _, profit = net_profit(G, n, tick_data)\n",
    "    \n",
    "    if any(pf < -500000 for pf in profit):\n",
    "        return -1 #violated\n",
    "    return 0\n",
    "# Constraint to ensure -10M < Position at any time t < 10M\n",
    "def position_constraint(params, n, d):\n",
    "    G = params[0]\n",
    "    daily_data = get_daily_data(tick_data, d)\n",
    "    if d==0:\n",
    "        position = 0\n",
    "    else:\n",
    "        _,_, position,_ = compute_pnl_t(G, n, daily_data, d, position)\n",
    "    pnl, _,_, position_series = compute_pnl_t(G, n, daily_data, d, position)\n",
    "    # Checks if position at any time t violates the constraint\n",
    "    if any(abs(pos) > 10000000 for pos in position_series):\n",
    "        return -1 #violated\n",
    "    return 0\n",
    "\n",
    "# Constraint to ensure pnl_t at all time t > -150K\n",
    "\n",
    "def pnl_constraint(params, n, d):\n",
    "    G = params[0]\n",
    "    daily_data = get_daily_data(tick_data, d)\n",
    "    if d==0:\n",
    "        position = 0  # for the first day\n",
    "    else:\n",
    "        _,_, position,_ = compute_pnl_t(G, n, daily_data, d, position)\n",
    "\n",
    "    pnl, _,position, _ = compute_pnl_t(G, n, daily_data, d, position)\n",
    "    # Checks if pnl at any time t violates the constraint\n",
    "    if any(p < -150000 for p in pnl):\n",
    "        return -1\n",
    "    return 0\n",
    "def check_constraints(G, n, d):\n",
    "    position_okay = position_constraint([G], n, d) == 0\n",
    "    pnl_okay = pnl_constraint([G], n, d) == 0\n",
    "    profit_okay = profit_constraint([G], n, tick_data) == 0\n",
    "    return position_okay and pnl_okay and profit_okay\n",
    "# Grid search\n",
    "n=1000\n",
    "best_profit = float('-inf')\n",
    "best_G = None\n",
    "\n",
    "# Custom list of values for G\n",
    "#G_values = [0.0001, 0.001, 0.01, 0.1, 1]\n",
    "G_values = [0.0001, 0.001]\n",
    "# Grid Search\n",
    "\n",
    "for G in G_values:\n",
    "    for d in range(D):\n",
    "        if check_constraints(G, n, d):\n",
    "            current_profit,_ = net_profit(G, n, tick_data)\n",
    "            if current_profit > best_profit:\n",
    "                best_profit = current_profit\n",
    "                best_G = G\n",
    "\n",
    "if best_G is not None:\n",
    "    print(f\"Optimal G: {best_G}\")\n",
    "    print(f\"Optimal net profit: {best_profit}\")\n",
    "else:\n",
    "    print(\"No feasible solution found.\")"
   ]
  },
  {
   "cell_type": "markdown",
   "metadata": {},
   "source": [
    "Nelder-Mead"
   ]
  },
  {
   "cell_type": "code",
   "execution_count": 6,
   "metadata": {},
   "outputs": [],
   "source": [
    "def position_constraint(params, *args):\n",
    "    G, n, d = params[0], args[0], args[1]\n",
    "    position = 0\n",
    "    daily_data = get_daily_data(tick_data, d)\n",
    "    pnl, _,_, position_series = compute_pnl_t(G, n, daily_data, d, position)\n",
    "    # Checks if position at any time t violates the constraint\n",
    "    if any(abs(pos) > 10000000 for pos in position_series):\n",
    "        return -1 #violated\n",
    "    return 0\n",
    "\n",
    "def pnl_constraint(params, *args):\n",
    "    G, n, d = params[0], args[0], args[1]\n",
    "    position = 0  # for the first day; may have to modify this\n",
    "    daily_data = get_daily_data(tick_data, d)\n",
    "    pnl, _,_, _ = compute_pnl_t(G, n, daily_data, d, position)\n",
    "    # Checks if pnl at any time t violates the constraint\n",
    "    if any(p < -150000 for p in pnl):\n",
    "        return -1\n",
    "    return 0\n",
    "\n",
    "def profit_constraint(params, *args):\n",
    "    G, n, tick_data = params[0], args[0], args[1]\n",
    "    G = params[0]\n",
    "    _, profit = net_profit(G, n, tick_data)\n",
    "    \n",
    "    if any(pf < -500000 for pf in profit):\n",
    "        return -1 #violated\n",
    "    return 0"
   ]
  },
  {
   "cell_type": "code",
   "execution_count": 8,
   "metadata": {},
   "outputs": [
    {
     "name": "stdout",
     "output_type": "stream",
     "text": [
      "Optimization terminated successfully.\n",
      "         Current function value: -253.960564\n",
      "         Iterations: 32\n",
      "         Function evaluations: 70\n",
      "Optimal G: 1.2514214515686167e-05\n",
      "Optimal (negative) net profit: -253.96056383100907\n"
     ]
    }
   ],
   "source": [
    "from scipy.optimize import minimize\n",
    "\n",
    "def neg_net_profit(params):\n",
    "    G = params[0]\n",
    "    # Getting the negative of the profit since we're minimizing\n",
    "    net_profit_value, _ = net_profit(G, n, tick_data)\n",
    "    return -net_profit_value\n",
    "\n",
    "def combined_constraints(params):\n",
    "    G = params[0]\n",
    "    constraint_values = []\n",
    "    for d in range(D):\n",
    "        constraint_values.append(position_constraint(params, n, d))\n",
    "        constraint_values.append(pnl_constraint(params, n, d))\n",
    "    constraint_values.append(profit_constraint(params, n, tick_data))\n",
    "    return sum(constraint_values)\n",
    "\n",
    "# The main optimization\n",
    "initial_guess = [0.0001]  \n",
    "# We will incorporate the constraints into the objective by penalization\n",
    "def objective_with_penalty(params):\n",
    "    penalty_weight = 1e2  # you may need to adjust this value\n",
    "    return neg_net_profit(params) + penalty_weight * abs(combined_constraints(params))\n",
    "\n",
    "result = minimize(objective_with_penalty, initial_guess, method='Nelder-Mead', options={'xatol': 1e-4, 'disp': True})\n",
    "\n",
    "# Display results\n",
    "if result.success:\n",
    "    optimal_G = result.x[0]\n",
    "    print(f\"Optimal G: {optimal_G}\")\n",
    "    print(f\"Optimal (negative) net profit: {result.fun}\")\n",
    "else:\n",
    "    print(\"Optimization did not converge!\")"
   ]
  }
 ],
 "metadata": {
  "kernelspec": {
   "display_name": "base",
   "language": "python",
   "name": "python3"
  },
  "language_info": {
   "codemirror_mode": {
    "name": "ipython",
    "version": 3
   },
   "file_extension": ".py",
   "mimetype": "text/x-python",
   "name": "python",
   "nbconvert_exporter": "python",
   "pygments_lexer": "ipython3",
   "version": "3.11.4"
  },
  "orig_nbformat": 4
 },
 "nbformat": 4,
 "nbformat_minor": 2
}
