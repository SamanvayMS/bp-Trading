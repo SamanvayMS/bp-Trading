{
 "cells": [
  {
   "cell_type": "code",
   "execution_count": 1,
   "metadata": {},
   "outputs": [],
   "source": [
    "import pandas as pd\n",
    "import numpy as np\n",
    "from scipy.optimize import minimize\n",
    "import matplotlib.pyplot as plt\n",
    "import mplfinance as mpf\n",
    "import Data_for_bp as dfb\n",
    "import pickle"
   ]
  },
  {
   "cell_type": "code",
   "execution_count": 2,
   "metadata": {},
   "outputs": [],
   "source": [
    "def ladderize_open(tick_data, grid_size):\n",
    "    \"\"\"\n",
    "    Convert tick data into step-based data using a specified grid size.\n",
    "\n",
    "    :param tick_data: A pandas Series of tick data.\n",
    "    :param grid_size: The size of the grid to discretize the tick data.\n",
    "    :return: A pandas Series of ladderized data.\n",
    "    \"\"\"\n",
    "    ladderized_data = [tick_data.iloc[0]]\n",
    "    for i in range(1, len(tick_data)):\n",
    "        if tick_data.iloc[i] > ladderized_data[-1] + grid_size:\n",
    "            ladderized_data.append(ladderized_data[-1] + grid_size)\n",
    "        elif tick_data.iloc[i] < ladderized_data[-1] - grid_size:\n",
    "            ladderized_data.append(ladderized_data[-1] - grid_size)\n",
    "        else:\n",
    "            ladderized_data.append(ladderized_data[-1])\n",
    "    # Adding the final close price\n",
    "    ladderized_data[-1]=tick_data.iloc[-1]\n",
    "    return pd.Series(ladderized_data, index=tick_data.index)\n",
    "def ladderize_absolute(tick_data, grid_size):\n",
    "    \"\"\"\n",
    "    Convert tick data into step-based data using a specified grid size.\n",
    "\n",
    "    :param tick_data: A pandas Series of tick data.\n",
    "    :param grid_size: The size of the grid to discretize the tick data.\n",
    "    :return: A pandas Series of ladderized data.\n",
    "    \"\"\"\n",
    "    # Initialize ladder at the nearest rounded price level based on grid size\n",
    "    ladderized_data = [(tick_data.iloc[0] / grid_size).round() * grid_size]\n",
    "    for i in range(1, len(tick_data)):\n",
    "        current_tick = tick_data.iloc[i]\n",
    "        last_ladder_level = ladderized_data[-1]\n",
    "        if current_tick > last_ladder_level + grid_size:\n",
    "            ladderized_data.append(last_ladder_level + grid_size)\n",
    "        elif current_tick < last_ladder_level - grid_size:\n",
    "            ladderized_data.append(last_ladder_level - grid_size)\n",
    "        else:\n",
    "            ladderized_data.append(last_ladder_level)\n",
    "    # Adding the final close price\n",
    "    ladderized_data[-1] = tick_data.iloc[-1]\n",
    "    return pd.Series(ladderized_data, index=tick_data.index)"
   ]
  },
  {
   "cell_type": "code",
   "execution_count": 3,
   "metadata": {},
   "outputs": [],
   "source": [
    "def count_ticks_by_date(tick_data):\n",
    "    # Group the data by date\n",
    "    grouped = tick_data.groupby(tick_data.index.date)\n",
    "    \n",
    "    # Initialize an empty array to hold the count of ticks for each date\n",
    "    D = len(grouped)\n",
    "    T = np.zeros(D)\n",
    "    \n",
    "    # Initialize an index variable for populating the T array\n",
    "    T_index = 0\n",
    "    \n",
    "    # Loop through each group and count the number of ticks\n",
    "    for date, group in grouped:\n",
    "        T[T_index] = len(group)\n",
    "        print(f\"Date: {date}, Number of ticks: {len(group)}\")\n",
    "        T_index += 1\n",
    "    \n",
    "    # Convert the array to integers\n",
    "    T = T.astype(int)\n",
    "    return T,D"
   ]
  },
  {
   "cell_type": "code",
   "execution_count": 4,
   "metadata": {},
   "outputs": [],
   "source": [
    "def B_value(tick_data, grid_size, ladderized_function):\n",
    "    '''\n",
    "    Convert tick data to binomial series and also return the original tick data values\n",
    "    corresponding to the indices where the binomial series exists.\n",
    "    '''\n",
    "    ladderized_data = ladderized_function(tick_data, grid_size)\n",
    "    jumps = dfb.filter_jumps(ladderized_data)\n",
    "    aggregated_diff = dfb.aggregate_differences(jumps)\n",
    "    binomial_data = aggregated_diff.diff()\n",
    "    \n",
    "    # Drop NaNs from binomial_data and get the corresponding original tick_data values\n",
    "    binomial_data.dropna(inplace=True)\n",
    "    original_values_at_binomial_index = tick_data[binomial_data.index]\n",
    "    \n",
    "    return binomial_data.to_list(), original_values_at_binomial_index.tolist()\n"
   ]
  },
  {
   "cell_type": "code",
   "execution_count": 10,
   "metadata": {},
   "outputs": [],
   "source": [
    "def compute_pnl_t(G,T,n,tick_data,d,position):\n",
    "    #initialize pnl matrix for day d, T[d] period\n",
    "    B, ladder_data = B_value(tick_data, G, ladderize_open)\n",
    "    pnl = np.zeros(len(B))\n",
    "    for t in range (len(B)-1):\n",
    "        if B[t] > 0: ################ how to change t when day change>> Can i use if else for T period?\n",
    "            position-=n\n",
    "        elif B[t] < 0: ################ lets try one day first this can neglect for now\n",
    "            position+=n\n",
    "        else:\n",
    "            position+=0\n",
    "        pnl[t+1] = position * G * B[t] + pnl[t]\n",
    "    pnl_T= pnl[-1] + position*(ladder_data[len(B)-1]-G)\n",
    "    return pnl,pnl_T,position "
   ]
  },
  {
   "cell_type": "code",
   "execution_count": 6,
   "metadata": {},
   "outputs": [],
   "source": [
    "def net_profit(G,T,n,tick_data):\n",
    "    profit = np.zeros(D)\n",
    "    for d in range (D):\n",
    "        if d == 0:\n",
    "            position = 0\n",
    "            pnl, pnl_T, position = compute_pnl_t(G, T, n, tick_data,d,position)\n",
    "            profit[d] = pnl_T\n",
    "        else:\n",
    "            pnl, pnl_T, position = compute_pnl_t(G, T, n, tick_data,d,position)\n",
    "            profit[d] = pnl_T + profit[d-1]\n",
    "    net_profit = profit[-1] \n",
    "    return -net_profit"
   ]
  },
  {
   "cell_type": "code",
   "execution_count": 7,
   "metadata": {},
   "outputs": [],
   "source": [
    "def position_constraint(params, T, n, tick_data,d,position):\n",
    "    G = params[0]\n",
    "    _, _, position = compute_pnl_t(G, T, n, tick_data,d,position)  \n",
    "    return min(10000000 - abs(position), abs(position) + 10000000)\n",
    "\n",
    "def pnl_constraint(params, T, n, tick_data,d,position):\n",
    "    G = params[0]\n",
    "    pnl, _, _= compute_pnl_t(G, T, n, tick_data,d,position)  \n",
    "    return min(pnl) + 150000\n",
    "\n",
    "def profit_constraint(params, T, n, tick_data):\n",
    "    G = params[0]\n",
    "    net_profit_value = net_profit(G, T, n, tick_data)\n",
    "    return net_profit_value + 500000\n"
   ]
  },
  {
   "cell_type": "code",
   "execution_count": 8,
   "metadata": {},
   "outputs": [
    {
     "name": "stdout",
     "output_type": "stream",
     "text": [
      "2023-09-16 18:39:37,917 - findatapy.market.datavendorweb - INFO - Request Dukascopy data\n",
      "2023-09-16 18:39:37,918 - findatapy.market.datavendorweb - INFO - About to download from Dukascopy... for EURUSD\n",
      "2023-09-16 18:39:37,990 - findatapy.market.datavendorweb - INFO - Downloading... 2023-08-15 00:00:00 https://www.dukascopy.com/datafeed/EURUSD/2023/07/15/00h_ticks.bi5\n",
      "2023-09-16 18:39:43,820 - findatapy.market.datavendorweb - INFO - Completed request from Dukascopy\n",
      "2023-09-16 18:39:45,922 - findatapy.market.ioengine - WARNING - Couldn't push MarketDataRequest_858__abstract_curve_key-None__base_depos_currencies-EUR_GBP_AUD_NZD_USD_CAD_CHF_NOK_SEK_JPY__base_depos_tenor-ON_TN_SN_1W_2W_3W_1M_... to Redis: Error 10061 connecting to 127.0.0.1:6379. No connection could be made because the target machine actively refused it.\n",
      "Date: 2023-08-15, Number of ticks: 108011\n"
     ]
    }
   ],
   "source": [
    "#fix n constant for now\n",
    "n = 1000 #fix n\n",
    "# lets try data of one day\n",
    "tick_data = dfb.get_tick_data('15 Aug 2023','16 Aug 2023')['EURUSD.mid']\n",
    "T,D =count_ticks_by_date(tick_data)"
   ]
  },
  {
   "cell_type": "markdown",
   "metadata": {},
   "source": [
    "BFGS"
   ]
  },
  {
   "cell_type": "code",
   "execution_count": 11,
   "metadata": {},
   "outputs": [
    {
     "name": "stdout",
     "output_type": "stream",
     "text": [
      "0.011296841591164532\n"
     ]
    }
   ],
   "source": [
    "#optimixation\n",
    "constraints = [{'type': 'ineq', 'fun': lambda params: position_constraint(params, T, n, tick_data,d=0,position=0)},\n",
    "               {'type': 'ineq', 'fun': lambda params: pnl_constraint(params, T, n, tick_data,d=0,position=0)},\n",
    "               {'type': 'ineq', 'fun': lambda params: profit_constraint(params, T, n, tick_data)}]\n",
    "\n",
    "\n",
    "# Initial guess for G\n",
    "initial_G = [0.001]\n",
    "\n",
    "result = minimize(lambda x: -net_profit(x[0], T, n, tick_data),\n",
    "                  initial_G,\n",
    "                  constraints=constraints,\n",
    "                  bounds=[(0, None)])\n",
    "\n",
    "\n",
    "# The optimal G should now be stored in result.x\n",
    "optimal_G = result.x[0]\n",
    "print(optimal_G)"
   ]
  },
  {
   "cell_type": "code",
   "execution_count": 12,
   "metadata": {},
   "outputs": [
    {
     "name": "stdout",
     "output_type": "stream",
     "text": [
      "Optimal net profit: 1090.3899669647217\n"
     ]
    }
   ],
   "source": [
    "optimal_net_profit = net_profit(optimal_G, T, n, tick_data)\n",
    "print(f\"Optimal net profit: {optimal_net_profit}\")"
   ]
  },
  {
   "cell_type": "markdown",
   "metadata": {},
   "source": [
    "Grid Search"
   ]
  },
  {
   "cell_type": "code",
   "execution_count": 16,
   "metadata": {},
   "outputs": [
    {
     "name": "stdout",
     "output_type": "stream",
     "text": [
      "Optimal G: 0.01\n",
      "Optimal net profit: -1090.3899669647217\n"
     ]
    }
   ],
   "source": [
    "#Grid search\n",
    "best_profit = float('-inf')\n",
    "best_G = None\n",
    "\n",
    "# Custom list of values for G\n",
    "G_values = [0.0001, 0.001, 0.01, 0.1, 1]\n",
    "\n",
    "# Grid Search\n",
    "for G in G_values:\n",
    "    current_profit = -net_profit(G, T, n, tick_data)\n",
    "    if current_profit > best_profit:\n",
    "        best_profit = current_profit\n",
    "        best_G = G\n",
    "\n",
    "print(f\"Optimal G: {best_G}\")\n",
    "print(f\"Optimal net profit: {best_profit}\")\n"
   ]
  },
  {
   "cell_type": "markdown",
   "metadata": {},
   "source": [
    "Nelder-Mead"
   ]
  },
  {
   "cell_type": "code",
   "execution_count": 17,
   "metadata": {},
   "outputs": [
    {
     "name": "stdout",
     "output_type": "stream",
     "text": [
      "Optimization terminated successfully.\n",
      "         Current function value: -1102.899733\n",
      "         Iterations: 18\n",
      "         Function evaluations: 36\n",
      "Optimal G found by Nelder-Mead: 0.0010424804687500008\n"
     ]
    }
   ],
   "source": [
    "#Nelder-Mead\n",
    "from scipy.optimize import minimize\n",
    "\n",
    "# Your net_profit function and constraints should already be defined\n",
    "\n",
    "# Initial guess for G\n",
    "initial_G = [0.001]\n",
    "\n",
    "# No bounds or constraints are used in Nelder-Mead\n",
    "result = minimize(lambda x: -net_profit(x[0], T, n, tick_data),\n",
    "                  initial_G,\n",
    "                  method='Nelder-Mead',\n",
    "                  options={'xatol': 1e-8, 'disp': True})\n",
    "\n",
    "# The optimal G should now be stored in result.x\n",
    "optimal_G = result.x[0]\n",
    "\n",
    "print(f\"Optimal G found by Nelder-Mead: {optimal_G}\")\n"
   ]
  },
  {
   "cell_type": "code",
   "execution_count": 18,
   "metadata": {},
   "outputs": [
    {
     "name": "stdout",
     "output_type": "stream",
     "text": [
      "Optimal net profit: 1102.8997325897217\n"
     ]
    }
   ],
   "source": [
    "# Calculate the optimal net profit\n",
    "optimal_net_profit = net_profit(optimal_G, T, n, tick_data)\n",
    "print(f\"Optimal net profit: {optimal_net_profit}\")"
   ]
  },
  {
   "cell_type": "markdown",
   "metadata": {},
   "source": [
    "Optuna"
   ]
  },
  {
   "cell_type": "code",
   "execution_count": 19,
   "metadata": {},
   "outputs": [
    {
     "name": "stdout",
     "output_type": "stream",
     "text": [
      "Requirement already satisfied: optuna in c:\\users\\jenny\\anaconda3\\lib\\site-packages (3.3.0)\n",
      "Requirement already satisfied: alembic>=1.5.0 in c:\\users\\jenny\\anaconda3\\lib\\site-packages (from optuna) (1.12.0)\n",
      "Requirement already satisfied: cmaes>=0.10.0 in c:\\users\\jenny\\anaconda3\\lib\\site-packages (from optuna) (0.10.0)\n",
      "Requirement already satisfied: colorlog in c:\\users\\jenny\\anaconda3\\lib\\site-packages (from optuna) (6.7.0)\n",
      "Requirement already satisfied: numpy in c:\\users\\jenny\\anaconda3\\lib\\site-packages (from optuna) (1.24.3)\n",
      "Requirement already satisfied: packaging>=20.0 in c:\\users\\jenny\\anaconda3\\lib\\site-packages (from optuna) (23.0)\n",
      "Requirement already satisfied: sqlalchemy>=1.3.0 in c:\\users\\jenny\\anaconda3\\lib\\site-packages (from optuna) (1.4.39)\n",
      "Requirement already satisfied: tqdm in c:\\users\\jenny\\anaconda3\\lib\\site-packages (from optuna) (4.65.0)\n",
      "Requirement already satisfied: PyYAML in c:\\users\\jenny\\anaconda3\\lib\\site-packages (from optuna) (6.0)\n",
      "Requirement already satisfied: Mako in c:\\users\\jenny\\anaconda3\\lib\\site-packages (from alembic>=1.5.0->optuna) (1.2.4)\n",
      "Requirement already satisfied: typing-extensions>=4 in c:\\users\\jenny\\anaconda3\\lib\\site-packages (from alembic>=1.5.0->optuna) (4.7.1)\n",
      "Requirement already satisfied: greenlet!=0.4.17 in c:\\users\\jenny\\anaconda3\\lib\\site-packages (from sqlalchemy>=1.3.0->optuna) (2.0.1)\n",
      "Requirement already satisfied: colorama in c:\\users\\jenny\\anaconda3\\lib\\site-packages (from colorlog->optuna) (0.4.6)\n",
      "Requirement already satisfied: MarkupSafe>=0.9.2 in c:\\users\\jenny\\anaconda3\\lib\\site-packages (from Mako->alembic>=1.5.0->optuna) (2.1.1)\n",
      "Note: you may need to restart the kernel to use updated packages.\n"
     ]
    }
   ],
   "source": [
    "pip install optuna\n"
   ]
  },
  {
   "cell_type": "code",
   "execution_count": 20,
   "metadata": {},
   "outputs": [
    {
     "name": "stderr",
     "output_type": "stream",
     "text": [
      "[I 2023-09-16 18:58:58,505] A new study created in memory with name: no-name-80155489-c9b6-4525-8f5d-b088c32d3d4a\n",
      "[I 2023-09-16 18:59:01,248] Trial 0 finished with value: -2198.375096812623 and parameters: {'G': 0.0006283986743992641}. Best is trial 0 with value: -2198.375096812623.\n",
      "[I 2023-09-16 18:59:03,929] Trial 1 finished with value: -2207.7290786189246 and parameters: {'G': 0.00044178925720461356}. Best is trial 0 with value: -2198.375096812623.\n",
      "[I 2023-09-16 18:59:07,723] Trial 2 finished with value: -1090.389966964722 and parameters: {'G': 0.05086996690964737}. Best is trial 2 with value: -1090.389966964722.\n",
      "[I 2023-09-16 18:59:10,558] Trial 3 finished with value: -2219.5816975795024 and parameters: {'G': 0.00028322455219021196}. Best is trial 2 with value: -1090.389966964722.\n",
      "[I 2023-09-16 18:59:13,427] Trial 4 finished with value: -1102.707230613143 and parameters: {'G': 0.0010264386373684466}. Best is trial 2 with value: -1090.389966964722.\n",
      "[I 2023-09-16 18:59:16,145] Trial 5 finished with value: -2194.2161816098305 and parameters: {'G': 0.0007464582044659675}. Best is trial 2 with value: -1090.389966964722.\n",
      "[I 2023-09-16 18:59:19,907] Trial 6 finished with value: -1090.3899669647217 and parameters: {'G': 0.26929231791514247}. Best is trial 6 with value: -1090.3899669647217.\n",
      "[I 2023-09-16 18:59:23,637] Trial 7 finished with value: -1090.3899669647217 and parameters: {'G': 0.01669173068458245}. Best is trial 6 with value: -1090.3899669647217.\n",
      "[I 2023-09-16 18:59:26,468] Trial 8 finished with value: -4440.440068353154 and parameters: {'G': 0.0001270212568345684}. Best is trial 6 with value: -1090.3899669647217.\n",
      "[I 2023-09-16 18:59:29,977] Trial 9 finished with value: -1090.3899669647217 and parameters: {'G': 0.6427756762726191}. Best is trial 6 with value: -1090.3899669647217.\n",
      "[I 2023-09-16 18:59:33,575] Trial 10 finished with value: -1090.3899669647217 and parameters: {'G': 0.8496429476057173}. Best is trial 6 with value: -1090.3899669647217.\n",
      "[I 2023-09-16 18:59:37,373] Trial 11 finished with value: -1090.3899669647215 and parameters: {'G': 0.028334074970013723}. Best is trial 11 with value: -1090.3899669647215.\n",
      "[I 2023-09-16 18:59:41,016] Trial 12 finished with value: -1090.3899669647217 and parameters: {'G': 0.12449204473050501}. Best is trial 11 with value: -1090.3899669647215.\n",
      "[I 2023-09-16 18:59:44,692] Trial 13 finished with value: -1090.3899669647217 and parameters: {'G': 0.006345037569277975}. Best is trial 11 with value: -1090.3899669647215.\n",
      "[I 2023-09-16 18:59:48,265] Trial 14 finished with value: -1090.3899669647217 and parameters: {'G': 0.17345730753116026}. Best is trial 11 with value: -1090.3899669647215.\n",
      "[I 2023-09-16 18:59:51,997] Trial 15 finished with value: -1090.3899669647217 and parameters: {'G': 0.013015037374069408}. Best is trial 11 with value: -1090.3899669647215.\n",
      "[I 2023-09-16 18:59:55,626] Trial 16 finished with value: -1090.3899669647217 and parameters: {'G': 0.21604204610826008}. Best is trial 11 with value: -1090.3899669647215.\n",
      "[I 2023-09-16 18:59:59,211] Trial 17 finished with value: -1090.3899669647215 and parameters: {'G': 0.05899419059563032}. Best is trial 11 with value: -1090.3899669647215.\n",
      "[I 2023-09-16 19:00:02,746] Trial 18 finished with value: -1090.3899669647217 and parameters: {'G': 0.058249469547626546}. Best is trial 11 with value: -1090.3899669647215.\n",
      "[I 2023-09-16 19:00:06,096] Trial 19 finished with value: -1094.4462036728903 and parameters: {'G': 0.004056236708168501}. Best is trial 11 with value: -1090.3899669647215.\n",
      "[I 2023-09-16 19:00:09,858] Trial 20 finished with value: -1090.3899669647217 and parameters: {'G': 0.03227452254187139}. Best is trial 11 with value: -1090.3899669647215.\n",
      "[I 2023-09-16 19:00:13,531] Trial 21 finished with value: -1090.3899669647217 and parameters: {'G': 0.09209268491987618}. Best is trial 11 with value: -1090.3899669647215.\n",
      "[I 2023-09-16 19:00:17,157] Trial 22 finished with value: -1090.3899669647217 and parameters: {'G': 0.02438446562985843}. Best is trial 11 with value: -1090.3899669647215.\n",
      "[I 2023-09-16 19:00:20,940] Trial 23 finished with value: -1090.3899669647217 and parameters: {'G': 0.33589538058411317}. Best is trial 11 with value: -1090.3899669647215.\n",
      "[I 2023-09-16 19:00:24,838] Trial 24 finished with value: -1090.389966964722 and parameters: {'G': 0.06404248809090261}. Best is trial 11 with value: -1090.3899669647215.\n",
      "[I 2023-09-16 19:00:28,551] Trial 25 finished with value: -1090.3899669647217 and parameters: {'G': 0.4738393624931536}. Best is trial 11 with value: -1090.3899669647215.\n",
      "[I 2023-09-16 19:00:32,276] Trial 26 finished with value: -1090.3899669647217 and parameters: {'G': 0.3121158634725943}. Best is trial 11 with value: -1090.3899669647215.\n",
      "[I 2023-09-16 19:00:35,281] Trial 27 finished with value: -1090.3899669647217 and parameters: {'G': 0.122257213915596}. Best is trial 11 with value: -1090.3899669647215.\n",
      "[I 2023-09-16 19:00:38,950] Trial 28 finished with value: -1090.3899669647217 and parameters: {'G': 0.02757191351032021}. Best is trial 11 with value: -1090.3899669647215.\n",
      "[I 2023-09-16 19:00:42,689] Trial 29 finished with value: -1090.3899669647217 and parameters: {'G': 0.18727756127935075}. Best is trial 11 with value: -1090.3899669647215.\n",
      "[I 2023-09-16 19:00:46,374] Trial 30 finished with value: -1090.3899669647217 and parameters: {'G': 0.08377951094444613}. Best is trial 11 with value: -1090.3899669647215.\n",
      "[I 2023-09-16 19:00:49,895] Trial 31 finished with value: -1090.389966964722 and parameters: {'G': 0.013817277901017751}. Best is trial 11 with value: -1090.3899669647215.\n",
      "[I 2023-09-16 19:00:53,569] Trial 32 finished with value: -1090.389966964722 and parameters: {'G': 0.03718126956437721}. Best is trial 11 with value: -1090.3899669647215.\n",
      "[I 2023-09-16 19:00:57,100] Trial 33 finished with value: -1090.3899669647217 and parameters: {'G': 0.017219513303010275}. Best is trial 11 with value: -1090.3899669647215.\n",
      "[I 2023-09-16 19:01:00,706] Trial 34 finished with value: -1090.389966964722 and parameters: {'G': 0.05171347530716291}. Best is trial 11 with value: -1090.3899669647215.\n",
      "[I 2023-09-16 19:01:04,483] Trial 35 finished with value: -1090.3899669647217 and parameters: {'G': 0.008064583242177566}. Best is trial 11 with value: -1090.3899669647215.\n",
      "[I 2023-09-16 19:01:07,996] Trial 36 finished with value: -1090.3899669647217 and parameters: {'G': 0.049902620502440424}. Best is trial 11 with value: -1090.3899669647215.\n",
      "[I 2023-09-16 19:01:11,678] Trial 37 finished with value: -1090.389966964722 and parameters: {'G': 0.01685779685548204}. Best is trial 11 with value: -1090.3899669647215.\n",
      "[I 2023-09-16 19:01:15,304] Trial 38 finished with value: -1090.3899669647217 and parameters: {'G': 0.9854642995261176}. Best is trial 11 with value: -1090.3899669647215.\n",
      "[I 2023-09-16 19:01:18,494] Trial 39 finished with value: -1094.2158190395953 and parameters: {'G': 0.003825852074873571}. Best is trial 11 with value: -1090.3899669647215.\n",
      "[I 2023-09-16 19:01:22,147] Trial 40 finished with value: -1090.3899669647217 and parameters: {'G': 0.08778042213399906}. Best is trial 11 with value: -1090.3899669647215.\n",
      "[I 2023-09-16 19:01:25,829] Trial 41 finished with value: -1090.3899669647217 and parameters: {'G': 0.6363699252570529}. Best is trial 11 with value: -1090.3899669647215.\n",
      "[I 2023-09-16 19:01:29,384] Trial 42 finished with value: -1090.3899669647217 and parameters: {'G': 0.5071274179200392}. Best is trial 11 with value: -1090.3899669647215.\n",
      "[I 2023-09-16 19:01:33,073] Trial 43 finished with value: -1090.3899669647217 and parameters: {'G': 0.29546744940566944}. Best is trial 11 with value: -1090.3899669647215.\n",
      "[I 2023-09-16 19:01:36,712] Trial 44 finished with value: -1090.3899669647217 and parameters: {'G': 0.1261396194082305}. Best is trial 11 with value: -1090.3899669647215.\n",
      "[I 2023-09-16 19:01:40,387] Trial 45 finished with value: -1090.3899669647217 and parameters: {'G': 0.7386169027315181}. Best is trial 11 with value: -1090.3899669647215.\n",
      "[I 2023-09-16 19:01:44,246] Trial 46 finished with value: -1090.3899669647217 and parameters: {'G': 0.431761523526919}. Best is trial 11 with value: -1090.3899669647215.\n",
      "[I 2023-09-16 19:01:47,871] Trial 47 finished with value: -1090.3899669647217 and parameters: {'G': 0.22636218586642812}. Best is trial 11 with value: -1090.3899669647215.\n",
      "[I 2023-09-16 19:01:51,414] Trial 48 finished with value: -1090.3899669647217 and parameters: {'G': 0.999523356718209}. Best is trial 11 with value: -1090.3899669647215.\n",
      "[I 2023-09-16 19:01:54,287] Trial 49 finished with value: -1090.3899669647217 and parameters: {'G': 0.021230415838744927}. Best is trial 11 with value: -1090.3899669647215.\n",
      "[I 2023-09-16 19:01:57,825] Trial 50 finished with value: -1090.3899669647215 and parameters: {'G': 0.04103725693804451}. Best is trial 11 with value: -1090.3899669647215.\n",
      "[I 2023-09-16 19:02:01,626] Trial 51 finished with value: -1090.3899669647217 and parameters: {'G': 0.0375246336610906}. Best is trial 11 with value: -1090.3899669647215.\n",
      "[I 2023-09-16 19:02:05,353] Trial 52 finished with value: -1090.3899669647215 and parameters: {'G': 0.03940805888399547}. Best is trial 11 with value: -1090.3899669647215.\n",
      "[I 2023-09-16 19:02:08,991] Trial 53 finished with value: -1090.3899669647217 and parameters: {'G': 0.03777209548146361}. Best is trial 11 with value: -1090.3899669647215.\n",
      "[I 2023-09-16 19:02:12,689] Trial 54 finished with value: -1090.3899669647217 and parameters: {'G': 0.02698271102781074}. Best is trial 11 with value: -1090.3899669647215.\n",
      "[I 2023-09-16 19:02:16,477] Trial 55 finished with value: -1090.3899669647217 and parameters: {'G': 0.010366888785521795}. Best is trial 11 with value: -1090.3899669647215.\n",
      "[I 2023-09-16 19:02:20,086] Trial 56 finished with value: -1090.3899669647217 and parameters: {'G': 0.021006409938488693}. Best is trial 11 with value: -1090.3899669647215.\n",
      "[I 2023-09-16 19:02:23,708] Trial 57 finished with value: -1090.389966964722 and parameters: {'G': 0.05624522871302419}. Best is trial 11 with value: -1090.3899669647215.\n",
      "[I 2023-09-16 19:02:27,276] Trial 58 finished with value: -1090.3899669647217 and parameters: {'G': 0.07123176854792614}. Best is trial 11 with value: -1090.3899669647215.\n",
      "[I 2023-09-16 19:02:30,833] Trial 59 finished with value: -1090.3899669647217 and parameters: {'G': 0.11548684272270707}. Best is trial 11 with value: -1090.3899669647215.\n",
      "[I 2023-09-16 19:02:34,399] Trial 60 finished with value: -1090.3899669647217 and parameters: {'G': 0.04318771748354604}. Best is trial 11 with value: -1090.3899669647215.\n",
      "[I 2023-09-16 19:02:38,001] Trial 61 finished with value: -1090.3899669647217 and parameters: {'G': 0.14692719865638124}. Best is trial 11 with value: -1090.3899669647215.\n",
      "[I 2023-09-16 19:02:41,484] Trial 62 finished with value: -1090.3899669647217 and parameters: {'G': 0.028883112848680392}. Best is trial 11 with value: -1090.3899669647215.\n",
      "[I 2023-09-16 19:02:45,101] Trial 63 finished with value: -1090.3899669647217 and parameters: {'G': 0.07515011381755354}. Best is trial 11 with value: -1090.3899669647215.\n",
      "[I 2023-09-16 19:02:48,659] Trial 64 finished with value: -1090.3899669647217 and parameters: {'G': 0.09508603054438797}. Best is trial 11 with value: -1090.3899669647215.\n",
      "[I 2023-09-16 19:02:52,252] Trial 65 finished with value: -1090.3899669647217 and parameters: {'G': 0.18996721814898568}. Best is trial 11 with value: -1090.3899669647215.\n",
      "[I 2023-09-16 19:02:55,894] Trial 66 finished with value: -1090.3899669647217 and parameters: {'G': 0.05964386606936931}. Best is trial 11 with value: -1090.3899669647215.\n",
      "[I 2023-09-16 19:02:59,498] Trial 67 finished with value: -1090.3899669647217 and parameters: {'G': 0.04312748648915578}. Best is trial 11 with value: -1090.3899669647215.\n",
      "[I 2023-09-16 19:03:03,211] Trial 68 finished with value: -1090.3899669647217 and parameters: {'G': 0.02742295249350068}. Best is trial 11 with value: -1090.3899669647215.\n",
      "[I 2023-09-16 19:03:06,843] Trial 69 finished with value: -1090.3899669647217 and parameters: {'G': 0.2456068252125472}. Best is trial 11 with value: -1090.3899669647215.\n",
      "[I 2023-09-16 19:03:10,487] Trial 70 finished with value: -1090.3899669647217 and parameters: {'G': 0.15522419709711496}. Best is trial 11 with value: -1090.3899669647215.\n",
      "[I 2023-09-16 19:03:14,148] Trial 71 finished with value: -1090.3899669647217 and parameters: {'G': 0.4289768360151246}. Best is trial 11 with value: -1090.3899669647215.\n",
      "[I 2023-09-16 19:03:17,786] Trial 72 finished with value: -1090.3899669647217 and parameters: {'G': 0.6596400192893611}. Best is trial 11 with value: -1090.3899669647215.\n",
      "[I 2023-09-16 19:03:21,365] Trial 73 finished with value: -1090.3899669647217 and parameters: {'G': 0.36734728459825156}. Best is trial 11 with value: -1090.3899669647215.\n",
      "[I 2023-09-16 19:03:25,001] Trial 74 finished with value: -1090.3899669647217 and parameters: {'G': 0.2823967282675723}. Best is trial 11 with value: -1090.3899669647215.\n",
      "[I 2023-09-16 19:03:28,634] Trial 75 finished with value: -1090.3899669647217 and parameters: {'G': 0.5937531260845972}. Best is trial 11 with value: -1090.3899669647215.\n",
      "[I 2023-09-16 19:03:32,217] Trial 76 finished with value: -1090.389966964722 and parameters: {'G': 0.015967731890172362}. Best is trial 11 with value: -1090.3899669647215.\n",
      "[I 2023-09-16 19:03:35,866] Trial 77 finished with value: -1090.3899669647217 and parameters: {'G': 0.7822411828897299}. Best is trial 11 with value: -1090.3899669647215.\n",
      "[I 2023-09-16 19:03:39,723] Trial 78 finished with value: -1090.3899669647217 and parameters: {'G': 0.36702967042505547}. Best is trial 11 with value: -1090.3899669647215.\n",
      "[I 2023-09-16 19:03:43,368] Trial 79 finished with value: -1090.3899669647215 and parameters: {'G': 0.032765497540798445}. Best is trial 11 with value: -1090.3899669647215.\n",
      "[I 2023-09-16 19:03:47,074] Trial 80 finished with value: -1090.3899669647217 and parameters: {'G': 0.05060138292967329}. Best is trial 11 with value: -1090.3899669647215.\n",
      "[I 2023-09-16 19:03:50,816] Trial 81 finished with value: -1090.3899669647215 and parameters: {'G': 0.02157073379338938}. Best is trial 11 with value: -1090.3899669647215.\n",
      "[I 2023-09-16 19:03:54,627] Trial 82 finished with value: -1090.3899669647217 and parameters: {'G': 0.020100435318557847}. Best is trial 11 with value: -1090.3899669647215.\n",
      "[I 2023-09-16 19:03:58,584] Trial 83 finished with value: -1090.3899669647217 and parameters: {'G': 0.03651641777156953}. Best is trial 11 with value: -1090.3899669647215.\n",
      "[I 2023-09-16 19:04:02,295] Trial 84 finished with value: -1090.3899669647217 and parameters: {'G': 0.030383171554390402}. Best is trial 11 with value: -1090.3899669647215.\n",
      "[I 2023-09-16 19:04:06,082] Trial 85 finished with value: -1090.3899669647217 and parameters: {'G': 0.024265367645002853}. Best is trial 11 with value: -1090.3899669647215.\n",
      "[I 2023-09-16 19:04:09,972] Trial 86 finished with value: -1090.3899669647217 and parameters: {'G': 0.012379565893370683}. Best is trial 11 with value: -1090.3899669647215.\n",
      "[I 2023-09-16 19:04:13,813] Trial 87 finished with value: -1090.3899669647215 and parameters: {'G': 0.07056067493248663}. Best is trial 11 with value: -1090.3899669647215.\n",
      "[I 2023-09-16 19:04:17,045] Trial 88 finished with value: -1090.3899669647217 and parameters: {'G': 0.03280724905242175}. Best is trial 11 with value: -1090.3899669647215.\n",
      "[I 2023-09-16 19:04:21,185] Trial 89 finished with value: -1090.3899669647217 and parameters: {'G': 0.06401855092956732}. Best is trial 11 with value: -1090.3899669647215.\n",
      "[I 2023-09-16 19:04:24,972] Trial 90 finished with value: -1090.3899669647217 and parameters: {'G': 0.09924377953000824}. Best is trial 11 with value: -1090.3899669647215.\n",
      "[I 2023-09-16 19:04:28,649] Trial 91 finished with value: -1090.3899669647217 and parameters: {'G': 0.05050240443952891}. Best is trial 11 with value: -1090.3899669647215.\n",
      "[I 2023-09-16 19:04:32,272] Trial 92 finished with value: -1090.3899669647217 and parameters: {'G': 0.06727811204500951}. Best is trial 11 with value: -1090.3899669647215.\n",
      "[I 2023-09-16 19:04:36,204] Trial 93 finished with value: -1090.3899669647217 and parameters: {'G': 0.025180605676683163}. Best is trial 11 with value: -1090.3899669647215.\n",
      "[I 2023-09-16 19:04:40,084] Trial 94 finished with value: -1090.3899669647217 and parameters: {'G': 0.0426977367907624}. Best is trial 11 with value: -1090.3899669647215.\n",
      "[I 2023-09-16 19:04:43,654] Trial 95 finished with value: -1090.3899669647217 and parameters: {'G': 0.07501084341627864}. Best is trial 11 with value: -1090.3899669647215.\n",
      "[I 2023-09-16 19:04:47,366] Trial 96 finished with value: -1090.3899669647217 and parameters: {'G': 0.034090074378226025}. Best is trial 11 with value: -1090.3899669647215.\n",
      "[I 2023-09-16 19:04:51,119] Trial 97 finished with value: -1090.3899669647217 and parameters: {'G': 0.044918631861156445}. Best is trial 11 with value: -1090.3899669647215.\n",
      "[I 2023-09-16 19:04:54,717] Trial 98 finished with value: -1090.3899669647217 and parameters: {'G': 0.019269485438502022}. Best is trial 11 with value: -1090.3899669647215.\n",
      "[I 2023-09-16 19:04:58,388] Trial 99 finished with value: -1090.3899669647215 and parameters: {'G': 0.014919291731676007}. Best is trial 11 with value: -1090.3899669647215.\n"
     ]
    },
    {
     "name": "stdout",
     "output_type": "stream",
     "text": [
      "The best parameter setting is: {'G': 0.028334074970013723}\n",
      "The best net profit is: 1090.3899669647215\n",
      "Optimal net profit: 1090.3899669647215\n"
     ]
    }
   ],
   "source": [
    "import optuna\n",
    "\n",
    "# Define the objective function that Optuna will optimize\n",
    "def objective(trial):\n",
    "    G = trial.suggest_float('G', 0.0001, 1, log=True)  # You can specify the range and distribution for G\n",
    "    return -net_profit(G, T, n, tick_data)\n",
    "\n",
    "# Create a study object and specify the direction is to maximize.\n",
    "study = optuna.create_study(direction='maximize')\n",
    "\n",
    "# Optimize the study, the objective function is passed in as the first argument.\n",
    "study.optimize(objective, n_trials=100)  # n_trials specifies the number of iterations\n",
    "\n",
    "# Results\n",
    "print(f\"The best parameter setting is: {study.best_params}\")\n",
    "print(f\"The best net profit is: {-study.best_value}\")  # The net_profit was negated in the objective function\n",
    "\n",
    "# To retrieve the best parameter\n",
    "best_G = study.best_params['G']\n",
    "\n",
    "# Calculate the optimal net profit\n",
    "optimal_net_profit = net_profit(best_G, T, n, tick_data)\n",
    "print(f\"Optimal net profit: {optimal_net_profit}\")\n"
   ]
  }
 ],
 "metadata": {
  "kernelspec": {
   "display_name": "base",
   "language": "python",
   "name": "python3"
  },
  "language_info": {
   "codemirror_mode": {
    "name": "ipython",
    "version": 3
   },
   "file_extension": ".py",
   "mimetype": "text/x-python",
   "name": "python",
   "nbconvert_exporter": "python",
   "pygments_lexer": "ipython3",
   "version": "3.11.4"
  },
  "orig_nbformat": 4
 },
 "nbformat": 4,
 "nbformat_minor": 2
}
