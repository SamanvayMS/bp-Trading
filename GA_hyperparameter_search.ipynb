{
 "cells": [
  {
   "cell_type": "code",
   "execution_count": 1,
   "metadata": {},
   "outputs": [],
   "source": [
    "from GA_optimiser import *\n",
    "from bp import data_gather_from_files"
   ]
  },
  {
   "cell_type": "code",
   "execution_count": 4,
   "metadata": {},
   "outputs": [],
   "source": [
    "tick_data = data_gather_from_files('1 jan 2020','1 jan 2021')['mid']"
   ]
  },
  {
   "cell_type": "code",
   "execution_count": 5,
   "metadata": {},
   "outputs": [],
   "source": [
    "parameters = [[0.0001,0.001,0.00005],[100000,2000000,100000]]"
   ]
  },
  {
   "cell_type": "code",
   "execution_count": 6,
   "metadata": {},
   "outputs": [
    {
     "name": "stderr",
     "output_type": "stream",
     "text": [
      "[I 2023-11-07 14:25:32,253] A new study created in memory with name: no-name-a3d5759a-c7c8-4a67-be59-3ba74fdbfa37\n"
     ]
    },
    {
     "name": "stdout",
     "output_type": "stream",
     "text": [
      "Early stopping on generation 8 due to no improvement.\n",
      "optimisation completed\n"
     ]
    },
    {
     "name": "stderr",
     "output_type": "stream",
     "text": [
      "[I 2023-11-07 14:39:31,512] Trial 0 finished with values: [-138264.7013, 839.25479388237] and parameters: {'ngen': 4, 'npop': 8, 'max_stagnant_gen': 5}. \n"
     ]
    },
    {
     "name": "stdout",
     "output_type": "stream",
     "text": [
      "Early stopping on generation 21 due to no improvement.\n",
      "optimisation completed\n"
     ]
    },
    {
     "name": "stderr",
     "output_type": "stream",
     "text": [
      "[I 2023-11-07 15:05:23,968] Trial 1 finished with values: [-138264.7013, 1552.4539189338684] and parameters: {'ngen': 3, 'npop': 10, 'max_stagnant_gen': 19}. \n"
     ]
    },
    {
     "name": "stdout",
     "output_type": "stream",
     "text": [
      "Early stopping on generation 10 due to no improvement.\n",
      "optimisation completed\n"
     ]
    },
    {
     "name": "stderr",
     "output_type": "stream",
     "text": [
      "[I 2023-11-07 15:21:46,380] Trial 2 finished with values: [-138264.7013, 982.4110052585602] and parameters: {'ngen': 5, 'npop': 9, 'max_stagnant_gen': 7}. \n"
     ]
    },
    {
     "name": "stdout",
     "output_type": "stream",
     "text": [
      "Early stopping on generation 11 due to no improvement.\n",
      "optimisation completed\n"
     ]
    },
    {
     "name": "stderr",
     "output_type": "stream",
     "text": [
      "[I 2023-11-07 15:30:45,425] Trial 3 finished with values: [-48457.6208, 539.0442559719086] and parameters: {'ngen': 7, 'npop': 5, 'max_stagnant_gen': 7}. \n"
     ]
    },
    {
     "name": "stdout",
     "output_type": "stream",
     "text": [
      "Early stopping on generation 11 due to no improvement.\n",
      "optimisation completed\n"
     ]
    },
    {
     "name": "stderr",
     "output_type": "stream",
     "text": [
      "[I 2023-11-07 15:35:38,479] Trial 4 finished with values: [-135703.4085, 293.0520529747009] and parameters: {'ngen': 2, 'npop': 3, 'max_stagnant_gen': 9}. \n"
     ]
    },
    {
     "name": "stdout",
     "output_type": "stream",
     "text": [
      "Early stopping on generation 2 due to no improvement.\n",
      "optimisation completed\n"
     ]
    },
    {
     "name": "stderr",
     "output_type": "stream",
     "text": [
      "[I 2023-11-07 15:37:06,868] Trial 5 finished with values: [46560.0, 88.38856887817383] and parameters: {'ngen': 9, 'npop': 1, 'max_stagnant_gen': 1}. \n"
     ]
    },
    {
     "name": "stdout",
     "output_type": "stream",
     "text": [
      "Early stopping on generation 21 due to no improvement.\n",
      "optimisation completed\n"
     ]
    },
    {
     "name": "stderr",
     "output_type": "stream",
     "text": [
      "[I 2023-11-07 15:58:41,437] Trial 6 finished with values: [-138264.7013, 1294.5684628486633] and parameters: {'ngen': 10, 'npop': 8, 'max_stagnant_gen': 18}. \n"
     ]
    },
    {
     "name": "stdout",
     "output_type": "stream",
     "text": [
      "Early stopping on generation 12 due to no improvement.\n",
      "optimisation completed\n"
     ]
    },
    {
     "name": "stderr",
     "output_type": "stream",
     "text": [
      "[I 2023-11-07 16:19:01,307] Trial 7 finished with values: [-138264.7013, 1219.8686678409576] and parameters: {'ngen': 2, 'npop': 10, 'max_stagnant_gen': 10}. \n"
     ]
    },
    {
     "name": "stdout",
     "output_type": "stream",
     "text": [
      "Early stopping on generation 5 due to no improvement.\n",
      "optimisation completed\n"
     ]
    },
    {
     "name": "stderr",
     "output_type": "stream",
     "text": [
      "[I 2023-11-07 16:20:48,170] Trial 8 finished with values: [46560.0, 106.86254215240479] and parameters: {'ngen': 9, 'npop': 1, 'max_stagnant_gen': 4}. \n"
     ]
    },
    {
     "name": "stdout",
     "output_type": "stream",
     "text": [
      "Early stopping on generation 21 due to no improvement.\n",
      "optimisation completed\n"
     ]
    },
    {
     "name": "stderr",
     "output_type": "stream",
     "text": [
      "[I 2023-11-07 16:31:07,567] Trial 9 finished with values: [-135703.4085, 619.3959910869598] and parameters: {'ngen': 5, 'npop': 4, 'max_stagnant_gen': 19}. \n"
     ]
    }
   ],
   "source": [
    "import optuna\n",
    "import time\n",
    "\n",
    "def objective(trial):\n",
    "    time1 = time.time()\n",
    "    # Define the hyperparameters to optimize\n",
    "    ngen = trial.suggest_int('ngen', 1, 10) * 10  # number of generations\n",
    "    npop = trial.suggest_int('npop', 1, 10) * 10  # number of population\n",
    "    max_stagnant_gen = trial.suggest_int('max_stagnant_gen', 1, 20)  # max number of stagnant generations\n",
    "    \n",
    "    # Run the genetic algorithm with the current set of hyperparameters\n",
    "    test_values, train_values, optimal_values = deap_optimiser_g_n(\n",
    "        tick_data, \n",
    "        tick_data, \n",
    "        parameters, \n",
    "        [ngen, npop, max_stagnant_gen]\n",
    "    )\n",
    "    \n",
    "    # Extract a performance metric to minimize or maximize\n",
    "    profit = test_values[2]\n",
    "    time2 = time.time()\n",
    "    total_time = time2 - time1\n",
    "    \n",
    "    # Since Optuna minimizes, return negative profit if you want to maximize profit\n",
    "    # Include total_time as a secondary criterion to minimize\n",
    "    return -profit, total_time\n",
    "\n",
    "# Create a multi-objective study object with directions for each objective.\n",
    "study = optuna.create_study(directions=['minimize', 'minimize'])\n",
    "\n",
    "# Optimize the study, the objective function is passed in as the first argument.\n",
    "study.optimize(objective, n_trials=20)\n",
    "\n",
    "# Best parameters and values found\n",
    "best_trials = study.best_trials\n",
    "for trial in best_trials:\n",
    "    print(f\"Best trial: {trial.number}\")\n",
    "    print(f\"  Value: {trial.values}\")\n",
    "    print(f\"  Params: {trial.params}\")"
   ]
  }
 ],
 "metadata": {
  "kernelspec": {
   "display_name": "tradingenv",
   "language": "python",
   "name": "python3"
  },
  "language_info": {
   "codemirror_mode": {
    "name": "ipython",
    "version": 3
   },
   "file_extension": ".py",
   "mimetype": "text/x-python",
   "name": "python",
   "nbconvert_exporter": "python",
   "pygments_lexer": "ipython3",
   "version": "3.11.5"
  },
  "orig_nbformat": 4
 },
 "nbformat": 4,
 "nbformat_minor": 2
}
